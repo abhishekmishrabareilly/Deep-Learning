{
  "nbformat": 4,
  "nbformat_minor": 0,
  "metadata": {
    "colab": {
      "provenance": [],
      "mount_file_id": "1G9Jpz2ZHJrufLgpl4udv0ukNrU0vAWyA",
      "authorship_tag": "ABX9TyO5Mk56439d7IlsOI66VI6v",
      "include_colab_link": true
    },
    "kernelspec": {
      "name": "python3",
      "display_name": "Python 3"
    },
    "language_info": {
      "name": "python"
    }
  },
  "cells": [
    {
      "cell_type": "markdown",
      "metadata": {
        "id": "view-in-github",
        "colab_type": "text"
      },
      "source": [
        "<a href=\"https://colab.research.google.com/github/abhishekmishra-bareilly/Deep-Learning/blob/main/Weight_initializer.ipynb\" target=\"_parent\"><img src=\"https://colab.research.google.com/assets/colab-badge.svg\" alt=\"Open In Colab\"/></a>"
      ]
    },
    {
      "cell_type": "code",
      "execution_count": 1,
      "metadata": {
        "id": "9Xs8-43dnWQX"
      },
      "outputs": [],
      "source": [
        "import pandas as pd\n",
        "import numpy as np\n",
        "import matplotlib.pyplot as plt"
      ]
    },
    {
      "cell_type": "code",
      "source": [
        "data=pd.read_csv('/content/drive/MyDrive/Colab Notebooks/Deep Learning/learn outside/ushape.csv')"
      ],
      "metadata": {
        "id": "HrZBmoX7oRP_"
      },
      "execution_count": 2,
      "outputs": []
    },
    {
      "cell_type": "code",
      "source": [
        "data.head()"
      ],
      "metadata": {
        "colab": {
          "base_uri": "https://localhost:8080/",
          "height": 206
        },
        "id": "s64WTUTtoVyE",
        "outputId": "c1feaebe-2fee-410c-afc0-d735c64fa214"
      },
      "execution_count": 3,
      "outputs": [
        {
          "output_type": "execute_result",
          "data": {
            "text/plain": [
              "        X       Y  class\n",
              "0  0.0316  0.9870    0.0\n",
              "1  2.1200 -0.0462    1.0\n",
              "2  0.8820 -0.0758    0.0\n",
              "3 -0.0551 -0.0373    1.0\n",
              "4  0.8300 -0.5390    1.0"
            ],
            "text/html": [
              "\n",
              "  <div id=\"df-863b1ae1-5923-4e20-8933-9720700f0bfe\">\n",
              "    <div class=\"colab-df-container\">\n",
              "      <div>\n",
              "<style scoped>\n",
              "    .dataframe tbody tr th:only-of-type {\n",
              "        vertical-align: middle;\n",
              "    }\n",
              "\n",
              "    .dataframe tbody tr th {\n",
              "        vertical-align: top;\n",
              "    }\n",
              "\n",
              "    .dataframe thead th {\n",
              "        text-align: right;\n",
              "    }\n",
              "</style>\n",
              "<table border=\"1\" class=\"dataframe\">\n",
              "  <thead>\n",
              "    <tr style=\"text-align: right;\">\n",
              "      <th></th>\n",
              "      <th>X</th>\n",
              "      <th>Y</th>\n",
              "      <th>class</th>\n",
              "    </tr>\n",
              "  </thead>\n",
              "  <tbody>\n",
              "    <tr>\n",
              "      <th>0</th>\n",
              "      <td>0.0316</td>\n",
              "      <td>0.9870</td>\n",
              "      <td>0.0</td>\n",
              "    </tr>\n",
              "    <tr>\n",
              "      <th>1</th>\n",
              "      <td>2.1200</td>\n",
              "      <td>-0.0462</td>\n",
              "      <td>1.0</td>\n",
              "    </tr>\n",
              "    <tr>\n",
              "      <th>2</th>\n",
              "      <td>0.8820</td>\n",
              "      <td>-0.0758</td>\n",
              "      <td>0.0</td>\n",
              "    </tr>\n",
              "    <tr>\n",
              "      <th>3</th>\n",
              "      <td>-0.0551</td>\n",
              "      <td>-0.0373</td>\n",
              "      <td>1.0</td>\n",
              "    </tr>\n",
              "    <tr>\n",
              "      <th>4</th>\n",
              "      <td>0.8300</td>\n",
              "      <td>-0.5390</td>\n",
              "      <td>1.0</td>\n",
              "    </tr>\n",
              "  </tbody>\n",
              "</table>\n",
              "</div>\n",
              "      <button class=\"colab-df-convert\" onclick=\"convertToInteractive('df-863b1ae1-5923-4e20-8933-9720700f0bfe')\"\n",
              "              title=\"Convert this dataframe to an interactive table.\"\n",
              "              style=\"display:none;\">\n",
              "        \n",
              "  <svg xmlns=\"http://www.w3.org/2000/svg\" height=\"24px\"viewBox=\"0 0 24 24\"\n",
              "       width=\"24px\">\n",
              "    <path d=\"M0 0h24v24H0V0z\" fill=\"none\"/>\n",
              "    <path d=\"M18.56 5.44l.94 2.06.94-2.06 2.06-.94-2.06-.94-.94-2.06-.94 2.06-2.06.94zm-11 1L8.5 8.5l.94-2.06 2.06-.94-2.06-.94L8.5 2.5l-.94 2.06-2.06.94zm10 10l.94 2.06.94-2.06 2.06-.94-2.06-.94-.94-2.06-.94 2.06-2.06.94z\"/><path d=\"M17.41 7.96l-1.37-1.37c-.4-.4-.92-.59-1.43-.59-.52 0-1.04.2-1.43.59L10.3 9.45l-7.72 7.72c-.78.78-.78 2.05 0 2.83L4 21.41c.39.39.9.59 1.41.59.51 0 1.02-.2 1.41-.59l7.78-7.78 2.81-2.81c.8-.78.8-2.07 0-2.86zM5.41 20L4 18.59l7.72-7.72 1.47 1.35L5.41 20z\"/>\n",
              "  </svg>\n",
              "      </button>\n",
              "      \n",
              "  <style>\n",
              "    .colab-df-container {\n",
              "      display:flex;\n",
              "      flex-wrap:wrap;\n",
              "      gap: 12px;\n",
              "    }\n",
              "\n",
              "    .colab-df-convert {\n",
              "      background-color: #E8F0FE;\n",
              "      border: none;\n",
              "      border-radius: 50%;\n",
              "      cursor: pointer;\n",
              "      display: none;\n",
              "      fill: #1967D2;\n",
              "      height: 32px;\n",
              "      padding: 0 0 0 0;\n",
              "      width: 32px;\n",
              "    }\n",
              "\n",
              "    .colab-df-convert:hover {\n",
              "      background-color: #E2EBFA;\n",
              "      box-shadow: 0px 1px 2px rgba(60, 64, 67, 0.3), 0px 1px 3px 1px rgba(60, 64, 67, 0.15);\n",
              "      fill: #174EA6;\n",
              "    }\n",
              "\n",
              "    [theme=dark] .colab-df-convert {\n",
              "      background-color: #3B4455;\n",
              "      fill: #D2E3FC;\n",
              "    }\n",
              "\n",
              "    [theme=dark] .colab-df-convert:hover {\n",
              "      background-color: #434B5C;\n",
              "      box-shadow: 0px 1px 3px 1px rgba(0, 0, 0, 0.15);\n",
              "      filter: drop-shadow(0px 1px 2px rgba(0, 0, 0, 0.3));\n",
              "      fill: #FFFFFF;\n",
              "    }\n",
              "  </style>\n",
              "\n",
              "      <script>\n",
              "        const buttonEl =\n",
              "          document.querySelector('#df-863b1ae1-5923-4e20-8933-9720700f0bfe button.colab-df-convert');\n",
              "        buttonEl.style.display =\n",
              "          google.colab.kernel.accessAllowed ? 'block' : 'none';\n",
              "\n",
              "        async function convertToInteractive(key) {\n",
              "          const element = document.querySelector('#df-863b1ae1-5923-4e20-8933-9720700f0bfe');\n",
              "          const dataTable =\n",
              "            await google.colab.kernel.invokeFunction('convertToInteractive',\n",
              "                                                     [key], {});\n",
              "          if (!dataTable) return;\n",
              "\n",
              "          const docLinkHtml = 'Like what you see? Visit the ' +\n",
              "            '<a target=\"_blank\" href=https://colab.research.google.com/notebooks/data_table.ipynb>data table notebook</a>'\n",
              "            + ' to learn more about interactive tables.';\n",
              "          element.innerHTML = '';\n",
              "          dataTable['output_type'] = 'display_data';\n",
              "          await google.colab.output.renderOutput(dataTable, element);\n",
              "          const docLink = document.createElement('div');\n",
              "          docLink.innerHTML = docLinkHtml;\n",
              "          element.appendChild(docLink);\n",
              "        }\n",
              "      </script>\n",
              "    </div>\n",
              "  </div>\n",
              "  "
            ]
          },
          "metadata": {},
          "execution_count": 3
        }
      ]
    },
    {
      "cell_type": "code",
      "source": [
        "plt.scatter(data['X'],data['Y'],c=data['class'])"
      ],
      "metadata": {
        "colab": {
          "base_uri": "https://localhost:8080/",
          "height": 282
        },
        "id": "UvxVCrhmoW48",
        "outputId": "90c0aabe-1f8d-4858-f2c2-fdde42aff9f1"
      },
      "execution_count": 4,
      "outputs": [
        {
          "output_type": "execute_result",
          "data": {
            "text/plain": [
              "<matplotlib.collections.PathCollection at 0x7f0123ae5fa0>"
            ]
          },
          "metadata": {},
          "execution_count": 4
        },
        {
          "output_type": "display_data",
          "data": {
            "text/plain": [
              "<Figure size 432x288 with 1 Axes>"
            ],
            "image/png": "[encoded data removed]"
          },
          "metadata": {
            "needs_background": "light"
          }
        }
      ]
    },
    {
      "cell_type": "code",
      "source": [
        "x = data.iloc[:,0:2].values\n",
        "y = data.iloc[:,-1].values"
      ],
      "metadata": {
        "id": "ZE4iCxPMorXU"
      },
      "execution_count": 18,
      "outputs": []
    },
    {
      "cell_type": "code",
      "source": [
        "import tensorflow\n",
        "from tensorflow import keras\n",
        "from keras import Sequential\n",
        "from keras.layers import Dense"
      ],
      "metadata": {
        "id": "w31DeW2-otDn"
      },
      "execution_count": 19,
      "outputs": []
    },
    {
      "cell_type": "markdown",
      "source": [
        "## Using **xavier** weight initialization"
      ],
      "metadata": {
        "id": "6hFCf3K7DdsG"
      }
    },
    {
      "cell_type": "code",
      "source": [
        "# Model implimentation\n",
        "model = Sequential()\n",
        "\n",
        "#adding model dense layers\n",
        "\n",
        "model.add(Dense(10,activation='tanh',input_dim=2))\n",
        "model.add(Dense(10,activation='tanh'))\n",
        "model.add(Dense(10,activation='tanh'))\n",
        "model.add(Dense(10,activation='tanh'))\n",
        "model.add(Dense(1,activation='sigmoid'))\n",
        "\n",
        "\n",
        "# Model summary\n",
        "model.summary()"
      ],
      "metadata": {
        "colab": {
          "base_uri": "https://localhost:8080/"
        },
        "id": "cD3tXTXCo1Mw",
        "outputId": "25b42692-e180-4ead-9d2c-8f7ad06da011"
      },
      "execution_count": 20,
      "outputs": [
        {
          "output_type": "stream",
          "name": "stdout",
          "text": [
            "Model: \"sequential_1\"\n",
            "_________________________________________________________________\n",
            " Layer (type)                Output Shape              Param #   \n",
            "=================================================================\n",
            " dense_5 (Dense)             (None, 10)                30        \n",
            "                                                                 \n",
            " dense_6 (Dense)             (None, 10)                110       \n",
            "                                                                 \n",
            " dense_7 (Dense)             (None, 10)                110       \n",
            "                                                                 \n",
            " dense_8 (Dense)             (None, 10)                110       \n",
            "                                                                 \n",
            " dense_9 (Dense)             (None, 1)                 11        \n",
            "                                                                 \n",
            "=================================================================\n",
            "Total params: 371\n",
            "Trainable params: 371\n",
            "Non-trainable params: 0\n",
            "_________________________________________________________________\n"
          ]
        }
      ]
    },
    {
      "cell_type": "code",
      "source": [
        "# Check Default weights\n",
        "model.get_weights()\n"
      ],
      "metadata": {
        "colab": {
          "base_uri": "https://localhost:8080/"
        },
        "id": "DhyjfM6xo-7z",
        "outputId": "fd5bb808-915f-42f2-c9be-8ead2aa817d4"
      },
      "execution_count": 21,
      "outputs": [
        {
          "output_type": "execute_result",
          "data": {
            "text/plain": [
              "[array([[-0.59116435, -0.37067512, -0.57624483,  0.4465354 , -0.18793076,\n",
              "          0.3746968 , -0.17008746,  0.46391958, -0.19156212,  0.12104744],\n",
              "        [ 0.45963973, -0.70128125, -0.00855142, -0.2858524 , -0.17212236,\n",
              "          0.26056093,  0.04296535, -0.4211937 , -0.6237145 , -0.5755061 ]],\n",
              "       dtype=float32),\n",
              " array([0., 0., 0., 0., 0., 0., 0., 0., 0., 0.], dtype=float32),\n",
              " array([[-1.19193763e-01, -4.72715080e-01,  7.88902044e-02,\n",
              "          4.77113247e-01, -2.94502974e-02, -3.85894954e-01,\n",
              "         -4.84239817e-01, -4.58526015e-02, -3.42882514e-01,\n",
              "          2.43787289e-01],\n",
              "        [ 4.96233225e-01,  4.76612329e-01, -2.02086896e-01,\n",
              "         -4.66851979e-01, -2.92716652e-01, -2.32935250e-01,\n",
              "         -5.36368787e-01, -2.45711118e-01, -2.47305989e-01,\n",
              "         -3.23364556e-01],\n",
              "        [ 2.40610361e-01,  2.66941845e-01, -1.66560888e-01,\n",
              "          1.87418163e-01, -1.87862664e-01,  1.95453286e-01,\n",
              "          4.30408120e-01, -1.04340315e-02, -1.55737936e-01,\n",
              "          1.55742288e-01],\n",
              "        [-7.41655827e-02,  1.35367095e-01,  2.26139069e-01,\n",
              "         -3.37541372e-01, -9.76450443e-02, -3.41205895e-01,\n",
              "         -5.38348496e-01,  8.76474380e-03, -4.86379862e-01,\n",
              "          3.55741680e-01],\n",
              "        [-2.21198469e-01,  3.28514934e-01, -4.52187836e-01,\n",
              "         -1.18365854e-01,  5.31202078e-01,  7.22062588e-02,\n",
              "         -9.07361805e-02,  2.98902154e-01,  4.57198620e-01,\n",
              "         -4.96674985e-01],\n",
              "        [ 4.36546803e-02, -3.61872256e-01,  3.66322279e-01,\n",
              "         -4.98055816e-01, -1.41107440e-02,  1.91213250e-01,\n",
              "          5.03434777e-01, -3.15699577e-02, -1.67318940e-01,\n",
              "         -8.58245492e-02],\n",
              "        [ 8.94023776e-02, -5.47156215e-01,  4.12158132e-01,\n",
              "         -3.12921882e-01,  5.10861039e-01, -2.39634514e-01,\n",
              "          1.59626603e-01, -3.67921054e-01,  3.03783119e-01,\n",
              "          3.35020781e-01],\n",
              "        [-1.62220687e-01,  3.60429287e-04,  1.93241537e-01,\n",
              "          1.87908649e-01,  4.06219840e-01, -4.60821599e-01,\n",
              "         -4.43251491e-01, -4.81978297e-01, -3.07773471e-01,\n",
              "          2.00259864e-01],\n",
              "        [ 2.42214262e-01, -1.36962652e-01, -2.12301016e-02,\n",
              "         -7.33046234e-02,  3.11603546e-02, -1.05075061e-01,\n",
              "          2.52947748e-01, -5.06407261e-01,  1.32614493e-01,\n",
              "          5.16192913e-01],\n",
              "        [ 3.79438698e-01,  3.41022432e-01, -2.32433528e-01,\n",
              "         -2.49787152e-01, -9.92212296e-02,  4.19540346e-01,\n",
              "          4.89987016e-01, -3.08155596e-01, -3.97632390e-01,\n",
              "          4.96778846e-01]], dtype=float32),\n",
              " array([0., 0., 0., 0., 0., 0., 0., 0., 0., 0.], dtype=float32),\n",
              " array([[-0.53860056, -0.44004858, -0.4854923 ,  0.45254874,  0.24315226,\n",
              "         -0.43508494,  0.20051539,  0.05860311,  0.23512614,  0.23147225],\n",
              "        [-0.11499774,  0.06677097,  0.06710958, -0.27830634, -0.32561627,\n",
              "          0.49323046, -0.48253825,  0.1065836 , -0.27042136, -0.4112832 ],\n",
              "        [-0.03310609,  0.34698886, -0.00217718,  0.08881968,  0.3454311 ,\n",
              "         -0.3653046 , -0.03747422, -0.23424295, -0.39255777,  0.5155097 ],\n",
              "        [-0.15239164,  0.01469213, -0.20374954, -0.24431306, -0.1125735 ,\n",
              "         -0.0592691 , -0.45113188, -0.22129497,  0.46479726, -0.5069902 ],\n",
              "        [ 0.00399965, -0.10498261,  0.425022  ,  0.29432237, -0.24257717,\n",
              "          0.06925577, -0.09868661, -0.09998569, -0.19545057, -0.15108943],\n",
              "        [ 0.11781317, -0.45488536,  0.28565264, -0.07788065, -0.3554561 ,\n",
              "         -0.3083132 , -0.486544  , -0.24572954,  0.17670739,  0.01653928],\n",
              "        [ 0.17243391,  0.19400865,  0.05755818, -0.49372685,  0.24203521,\n",
              "         -0.21330276,  0.49958384,  0.48811328, -0.35600093, -0.33713877],\n",
              "        [-0.27535102, -0.5214893 ,  0.43319887,  0.42047447,  0.4517954 ,\n",
              "         -0.19176996,  0.48905075, -0.31626374, -0.24633494, -0.27814284],\n",
              "        [ 0.34243786, -0.45646378,  0.06546807,  0.48446453, -0.08239976,\n",
              "          0.06283414, -0.44592905, -0.01210934, -0.48056692, -0.3008303 ],\n",
              "        [ 0.04097408,  0.17938179,  0.41465938,  0.4628737 ,  0.13664061,\n",
              "         -0.12471068, -0.02658314,  0.4421547 ,  0.09442896,  0.33120257]],\n",
              "       dtype=float32),\n",
              " array([0., 0., 0., 0., 0., 0., 0., 0., 0., 0.], dtype=float32),\n",
              " array([[-0.15757975,  0.48616552,  0.08308768, -0.26367888, -0.2970891 ,\n",
              "          0.32795656, -0.50080234,  0.4038332 , -0.522137  , -0.19966578],\n",
              "        [ 0.43032503,  0.16700214,  0.15742737,  0.08049726, -0.19805866,\n",
              "         -0.5046735 ,  0.45624745, -0.33530873, -0.53537256,  0.43361205],\n",
              "        [ 0.3712334 , -0.14782828, -0.5172717 , -0.0859943 ,  0.31791854,\n",
              "         -0.3948393 ,  0.43706846, -0.23003137,  0.19496465, -0.11052081],\n",
              "        [-0.4349012 ,  0.4920286 ,  0.48806214,  0.0550946 , -0.2545912 ,\n",
              "          0.28658777,  0.46964002,  0.10711783,  0.09093535,  0.13064116],\n",
              "        [ 0.09918857,  0.41308242, -0.18617496,  0.16200876, -0.26709008,\n",
              "         -0.5062383 ,  0.28152585, -0.10097307, -0.14905944,  0.2619933 ],\n",
              "        [-0.28836823, -0.37562752,  0.1925677 ,  0.5307542 ,  0.08427435,\n",
              "          0.30894732,  0.05575788,  0.36515677,  0.25170022,  0.44587016],\n",
              "        [ 0.11758024, -0.23360896,  0.09580779,  0.47542107, -0.48501134,\n",
              "         -0.35579264,  0.2568224 , -0.51758367,  0.19572991,  0.03063852],\n",
              "        [ 0.12428522,  0.45309937, -0.2318677 , -0.01907969,  0.22294086,\n",
              "         -0.37754154, -0.03421557, -0.43204775, -0.10716903, -0.1491437 ],\n",
              "        [ 0.3731746 , -0.34137607, -0.02839059, -0.47302538, -0.46527278,\n",
              "         -0.11931011, -0.5463723 , -0.42224744, -0.20223367, -0.13609749],\n",
              "        [ 0.21106434,  0.5416262 ,  0.20801425, -0.12799522,  0.37792772,\n",
              "         -0.27101317, -0.24098831, -0.23721695, -0.47282872, -0.14604682]],\n",
              "       dtype=float32),\n",
              " array([0., 0., 0., 0., 0., 0., 0., 0., 0., 0.], dtype=float32),\n",
              " array([[-0.29709473],\n",
              "        [-0.34698808],\n",
              "        [-0.69891584],\n",
              "        [-0.47287336],\n",
              "        [ 0.34503   ],\n",
              "        [ 0.00281948],\n",
              "        [-0.35960078],\n",
              "        [ 0.67463416],\n",
              "        [ 0.32048303],\n",
              "        [-0.2533631 ]], dtype=float32),\n",
              " array([0.], dtype=float32)]"
            ]
          },
          "metadata": {},
          "execution_count": 21
        }
      ]
    },
    {
      "cell_type": "code",
      "source": [
        "initial_weights = model.get_weights()"
      ],
      "metadata": {
        "id": "Cy2qLHkwpJ0o"
      },
      "execution_count": 22,
      "outputs": []
    },
    {
      "cell_type": "code",
      "source": [
        "# Weights initialization\n",
        "initial_weights[0] = np.random.randn(2,10)*np.sqrt(1/2)\n",
        "initial_weights[1] = np.zeros(model.get_weights()[1].shape)\n",
        "initial_weights[2] = np.random.randn(10,10)*np.sqrt(1/10)\n",
        "initial_weights[3] = np.zeros(model.get_weights()[3].shape)\n",
        "initial_weights[4] = np.random.randn(10,10)*np.sqrt(1/10)\n",
        "initial_weights[5] = np.zeros(model.get_weights()[5].shape)\n",
        "initial_weights[6] = np.random.randn(10,10)*np.sqrt(1/10)\n",
        "initial_weights[7] = np.zeros(model.get_weights()[7].shape)\n",
        "initial_weights[8] = np.random.randn(10,1)*np.sqrt(1/10)\n",
        "initial_weights[9] = np.zeros(model.get_weights()[9].shape)"
      ],
      "metadata": {
        "id": "5-FEPqe5pUHz"
      },
      "execution_count": 23,
      "outputs": []
    },
    {
      "cell_type": "code",
      "source": [
        "# Updating weights\n",
        "model.set_weights(initial_weights)"
      ],
      "metadata": {
        "id": "k96tNVupp9KZ"
      },
      "execution_count": 24,
      "outputs": []
    },
    {
      "cell_type": "code",
      "source": [
        "# New weights\n",
        "model.get_weights()"
      ],
      "metadata": {
        "colab": {
          "base_uri": "https://localhost:8080/"
        },
        "id": "YxCvyhMmqBPb",
        "outputId": "cdd565ba-d5c9-4851-a5f7-ed53733ca389"
      },
      "execution_count": 25,
      "outputs": [
        {
          "output_type": "execute_result",
          "data": {
            "text/plain": [
              "[array([[-1.399606  ,  0.12645009,  0.9281094 ,  0.04835907, -0.19986628,\n",
              "          0.2902256 ,  0.2738369 , -0.3276936 ,  0.33758324, -0.48068145],\n",
              "        [ 0.0930077 ,  1.1592202 , -0.2721307 ,  0.8286364 ,  0.773693  ,\n",
              "         -2.0395854 , -0.05636321, -0.05119044,  1.8969525 ,  0.6059197 ]],\n",
              "       dtype=float32),\n",
              " array([0., 0., 0., 0., 0., 0., 0., 0., 0., 0.], dtype=float32),\n",
              " array([[ 0.1881128 , -0.15713407, -0.2888413 ,  0.26989314, -0.13615   ,\n",
              "         -0.01485522,  0.01872236, -0.02268281, -0.4613746 , -0.4020529 ],\n",
              "        [ 0.33405295, -0.29097027,  0.3151041 ,  0.12400564, -0.04238379,\n",
              "          0.04206616, -0.16734621,  0.1983435 ,  0.19421059, -0.15580142],\n",
              "        [ 0.3237426 , -0.83600485,  0.31504443,  0.1085967 , -0.13392447,\n",
              "          0.28605002, -0.9235891 , -0.05875276,  0.22103742, -0.10613091],\n",
              "        [-0.06524991, -0.57518923,  0.01385635, -0.32314742,  0.3471939 ,\n",
              "         -1.0792754 , -0.06036639, -0.2555279 , -0.09929319, -0.36390042],\n",
              "        [ 0.08636893, -0.09168852, -0.1516459 , -0.20312044, -0.095789  ,\n",
              "          0.25238064, -0.01495405, -0.51630276,  0.02845018, -0.11151952],\n",
              "        [-0.31353652, -0.8919762 , -0.24480326,  0.14594153,  0.37789837,\n",
              "          0.09960349, -0.18850566, -0.10372654,  0.68224674, -0.15503481],\n",
              "        [ 0.22281519,  0.5949836 , -0.06835634,  0.29890135,  0.0504846 ,\n",
              "         -0.6072586 ,  0.107316  ,  0.38625994, -0.2584542 ,  0.8633765 ],\n",
              "        [ 0.13300414,  0.44336277,  0.18964669, -0.13649692,  0.53892094,\n",
              "         -0.13767944,  0.0747475 , -0.21054223,  0.7517645 , -0.3185935 ],\n",
              "        [-0.27429986,  0.29513854,  0.18514092, -0.18164963, -0.4655301 ,\n",
              "         -0.19899398,  0.36121935,  0.04949377, -0.33523983,  0.2866255 ],\n",
              "        [ 0.26724568,  0.04792698, -0.5182128 ,  0.0625232 , -0.04245678,\n",
              "          0.12666951, -0.54611665, -0.33177277,  0.06972621, -0.5143201 ]],\n",
              "       dtype=float32),\n",
              " array([0., 0., 0., 0., 0., 0., 0., 0., 0., 0.], dtype=float32),\n",
              " array([[-0.3297039 ,  0.00360042, -0.19865073,  0.15805115, -0.32663587,\n",
              "         -0.11065052,  0.61818415,  0.60967255,  0.08081143, -0.953079  ],\n",
              "        [ 0.13023284, -0.173415  , -0.38628745, -0.37422153,  0.22018503,\n",
              "         -0.15195894,  0.03078022, -0.4179552 ,  0.05101429, -0.13505399],\n",
              "        [ 0.4397792 , -0.02418797,  0.05032617,  0.3625082 ,  0.2991009 ,\n",
              "          0.49205393,  0.15365124,  0.15450501, -0.5297965 ,  0.21816885],\n",
              "        [-0.16881898,  0.09288344,  0.05311052,  0.18541597, -0.04818701,\n",
              "          0.5442751 ,  0.05402052, -0.02201289,  0.06984401,  0.09421907],\n",
              "        [-0.15701537,  0.3490979 , -0.24168018,  0.41682336, -0.31966728,\n",
              "          0.05102241,  0.24338225, -0.4557842 ,  0.01528069,  0.08049323],\n",
              "        [ 0.48134917,  0.17903355, -0.01049303, -0.04330867,  0.490526  ,\n",
              "         -0.8488383 , -0.09882797,  0.01590376,  0.41305956, -0.00498728],\n",
              "        [-0.24966258,  0.17962134, -0.15481088, -0.8122491 ,  0.2878917 ,\n",
              "         -0.00365878, -0.6869987 , -0.64274883, -0.47680572,  0.04288217],\n",
              "        [ 0.24230553,  0.2480833 , -0.05375342, -0.19264868, -0.20581838,\n",
              "          0.00704322,  0.18609792,  0.30270633, -0.7068222 ,  0.22880995],\n",
              "        [ 0.21212912, -0.32533312, -0.3657228 , -0.11869977,  0.3062257 ,\n",
              "         -0.18960088,  0.24860705, -0.5222209 ,  0.2847563 ,  0.1431764 ],\n",
              "        [ 0.06635042,  0.06656181,  0.543516  ,  0.02336594,  0.28573865,\n",
              "          0.24873942, -0.09004219,  0.36324334,  0.62863797,  0.35969245]],\n",
              "       dtype=float32),\n",
              " array([0., 0., 0., 0., 0., 0., 0., 0., 0., 0.], dtype=float32),\n",
              " array([[-0.27190483,  0.4356207 ,  0.20219654,  0.29802623,  0.00105875,\n",
              "          0.174921  , -0.10010424, -0.48013976,  0.20146893,  0.48480523],\n",
              "        [ 0.33170897,  0.12042496, -0.5722111 ,  0.30331638,  0.3302402 ,\n",
              "         -0.19024326, -0.09091506, -0.03580831,  0.02121663, -0.71234024],\n",
              "        [-0.15924002, -0.3521643 ,  0.34325162,  0.30550614,  0.0668031 ,\n",
              "          0.13562077, -0.27441177, -0.2880154 , -0.02028598,  0.17534538],\n",
              "        [ 0.09347644, -0.20425108, -0.73869264,  0.28603595,  0.14322685,\n",
              "          0.216154  , -0.13927196, -0.7289899 ,  0.34628996,  0.55966187],\n",
              "        [-0.37205106,  0.01100573, -0.26398948,  0.12106202, -0.16325004,\n",
              "          0.01712544,  0.28519332,  0.44886106,  0.30439425,  0.3868213 ],\n",
              "        [ 0.6884809 ,  0.16082074, -0.07769778, -0.17263585, -0.06401056,\n",
              "         -0.17658599,  0.25520024, -1.0256872 , -0.52955765,  0.08793528],\n",
              "        [-0.2218204 ,  0.05032198, -0.16160384,  0.1684102 , -0.16005838,\n",
              "         -0.01399531,  0.18759598, -0.38310686, -0.2221812 ,  0.24940702],\n",
              "        [-0.01967485, -0.0716416 , -0.12410469, -0.17377774, -0.01460458,\n",
              "          0.04627192, -0.08195162, -0.09577266, -0.04479613,  0.31376648],\n",
              "        [-0.40419132,  0.49925974, -0.38231725,  0.07726794,  0.2394819 ,\n",
              "         -0.16903488, -0.45222378, -0.36078224,  0.0582416 ,  0.30807588],\n",
              "        [ 0.01981658,  0.18734549,  0.2387173 , -0.26826766,  0.23417468,\n",
              "         -0.37515402, -0.1266347 , -0.02886215, -0.07719164, -0.01607814]],\n",
              "       dtype=float32),\n",
              " array([0., 0., 0., 0., 0., 0., 0., 0., 0., 0.], dtype=float32),\n",
              " array([[ 0.26851055],\n",
              "        [-0.02474714],\n",
              "        [-0.5255403 ],\n",
              "        [ 0.05029198],\n",
              "        [-0.44553715],\n",
              "        [ 0.25870037],\n",
              "        [ 0.4897915 ],\n",
              "        [-0.04274494],\n",
              "        [-0.44900623],\n",
              "        [-0.0563935 ]], dtype=float32),\n",
              " array([0.], dtype=float32)]"
            ]
          },
          "metadata": {},
          "execution_count": 25
        }
      ]
    },
    {
      "cell_type": "code",
      "source": [
        "model.compile(loss='binary_crossentropy',optimizer='adam',metrics=['accuracy'])"
      ],
      "metadata": {
        "id": "NNjsbDNSqILy"
      },
      "execution_count": 26,
      "outputs": []
    },
    {
      "cell_type": "code",
      "source": [
        "history = model.fit(x,y,epochs=100,validation_split=0.2)"
      ],
      "metadata": {
        "id": "YqXLQJS4qLSG"
      },
      "execution_count": null,
      "outputs": []
    },
    {
      "cell_type": "code",
      "source": [
        "model.get_weights()"
      ],
      "metadata": {
        "colab": {
          "base_uri": "https://localhost:8080/"
        },
        "id": "8K2E1Z5Oupj_",
        "outputId": "e888ba6b-782a-4cbd-e0cf-2b52fc35dcff"
      },
      "execution_count": 28,
      "outputs": [
        {
          "output_type": "execute_result",
          "data": {
            "text/plain": [
              "[array([[-1.5478129 ,  0.1892058 ,  0.74106723,  0.05876513, -0.23832846,\n",
              "          0.42638052,  0.2547911 , -0.25392252,  0.32785827, -0.35097513],\n",
              "        [ 0.07873277,  1.101369  , -0.41366047,  0.75150913,  0.8574972 ,\n",
              "         -1.9498861 , -0.1640743 , -0.11515662,  1.9882164 ,  0.7285125 ]],\n",
              "       dtype=float32),\n",
              " array([ 0.09625338,  0.08329146, -0.08780409,  0.03649885, -0.04723188,\n",
              "         0.00852486,  0.02089772,  0.12465461, -0.07629647, -0.10249624],\n",
              "       dtype=float32),\n",
              " array([[ 1.84702128e-01, -2.65820563e-01, -2.12603867e-01,\n",
              "          2.95569479e-01, -1.46321177e-01, -7.39691854e-02,\n",
              "         -7.38336071e-02,  6.12967312e-02, -5.95833838e-01,\n",
              "         -2.97428280e-01],\n",
              "        [ 2.74688691e-01, -2.06817582e-01,  2.20787331e-01,\n",
              "          7.11772367e-02, -7.23393187e-02,  1.36308476e-01,\n",
              "         -1.01718746e-01,  1.05506286e-01,  2.83609539e-01,\n",
              "         -1.04887761e-01],\n",
              "        [ 4.00704801e-01, -8.61355126e-01,  3.13173532e-01,\n",
              "          1.43359333e-01, -6.12144284e-02,  2.84135282e-01,\n",
              "         -9.58993196e-01, -5.81827424e-02,  2.83856660e-01,\n",
              "         -2.05240890e-01],\n",
              "        [-1.27539113e-01, -4.91286069e-01, -8.69331211e-02,\n",
              "         -3.80527914e-01,  3.12215626e-01, -9.83510911e-01,\n",
              "          7.10939616e-03, -3.51879805e-01, -9.79418308e-03,\n",
              "         -3.07840139e-01],\n",
              "        [ 4.95509664e-03,  3.03434506e-02, -2.48957217e-01,\n",
              "         -2.78959543e-01, -1.72999948e-01,  3.35769475e-01,\n",
              "          1.21822372e-01, -6.14481091e-01,  9.65994149e-02,\n",
              "         -4.27199155e-02],\n",
              "        [-2.42178828e-01, -9.90008771e-01, -1.64995462e-01,\n",
              "          2.04149589e-01,  4.35859501e-01,  2.50793323e-02,\n",
              "         -2.97192127e-01, -2.26438660e-02,  6.21598303e-01,\n",
              "         -2.10425869e-01],\n",
              "        [ 3.28944385e-01,  4.99182254e-01, -2.51090564e-02,\n",
              "          3.88212681e-01,  1.68594792e-01, -6.34756088e-01,\n",
              "         -3.62841471e-04,  4.50217634e-01, -2.24876821e-01,\n",
              "          7.45541215e-01],\n",
              "        [ 6.66000396e-02,  4.39343750e-01,  2.80695528e-01,\n",
              "         -1.76792473e-01,  4.34596688e-01, -1.94946870e-01,\n",
              "          1.16062842e-01, -1.77024946e-01,  6.61599517e-01,\n",
              "         -3.14088166e-01],\n",
              "        [-3.36861968e-01,  3.88898820e-01,  8.97661299e-02,\n",
              "         -2.40790337e-01, -5.02470613e-01, -1.04344338e-01,\n",
              "          4.36641902e-01, -4.58586812e-02, -2.44237736e-01,\n",
              "          3.34878832e-01],\n",
              "        [ 1.79172546e-01,  1.91521913e-01, -6.04687929e-01,\n",
              "         -1.92189384e-02, -1.36886016e-01,  1.93500653e-01,\n",
              "         -3.87184262e-01, -4.21298772e-01,  1.08190469e-01,\n",
              "         -4.34379399e-01]], dtype=float32),\n",
              " array([-0.03546375,  0.08056488,  0.04382259,  0.0377321 ,  0.01806624,\n",
              "        -0.00986042,  0.0862935 , -0.01077007,  0.0540358 , -0.03162667],\n",
              "       dtype=float32),\n",
              " array([[-0.28802472, -0.0285856 , -0.15562324,  0.14372091, -0.38759163,\n",
              "         -0.1595965 ,  0.57689995,  0.5782012 ,  0.13628417, -0.9063695 ],\n",
              "        [ 0.17954463, -0.27029273, -0.31328803, -0.49563417,  0.11389145,\n",
              "         -0.22873078, -0.06818286, -0.56038976,  0.13685817, -0.04058203],\n",
              "        [ 0.4001902 ,  0.05044878, -0.00731817,  0.3803397 ,  0.4204658 ,\n",
              "          0.4294897 ,  0.17448083,  0.10735749, -0.5950637 ,  0.17426017],\n",
              "        [-0.2154149 ,  0.17335838, -0.02651073,  0.26233655,  0.06645373,\n",
              "          0.6506029 ,  0.15574163,  0.15504381, -0.04619659, -0.00603488],\n",
              "        [-0.19768006,  0.39241007, -0.30716792,  0.4542575 , -0.22435085,\n",
              "          0.13861804,  0.32006824, -0.3151474 , -0.08469229, -0.00497136],\n",
              "        [ 0.45123225,  0.1701319 , -0.04808579, -0.04800805,  0.50508934,\n",
              "         -0.7779948 , -0.05732064,  0.12114638,  0.3483621 , -0.05239166],\n",
              "        [-0.20457095,  0.09475481, -0.08448438, -0.9390435 ,  0.18130365,\n",
              "         -0.06729396, -0.77865845, -0.76508117, -0.3940193 ,  0.14380755],\n",
              "        [ 0.18716447,  0.36357245, -0.14212215, -0.06587224, -0.07474244,\n",
              "          0.09992701,  0.29580837,  0.46705964, -0.8191759 ,  0.11087064],\n",
              "        [ 0.16922963, -0.2869278 , -0.41490495, -0.08749832,  0.38774058,\n",
              "         -0.15196076,  0.29130062, -0.48966932,  0.2237379 ,  0.07905146],\n",
              "        [ 0.01247132,  0.15694124,  0.48284787,  0.09195179,  0.39668834,\n",
              "          0.24459848, -0.04521047,  0.3417258 ,  0.5717913 ,  0.2861276 ]],\n",
              "       dtype=float32),\n",
              " array([-0.00752434,  0.02208846, -0.01522045, -0.03730421,  0.0839275 ,\n",
              "        -0.03104451, -0.03431099, -0.02204724, -0.04314442, -0.00246226],\n",
              "       dtype=float32),\n",
              " array([[-0.2328736 ,  0.42248002,  0.1580415 ,  0.34368157, -0.04999624,\n",
              "          0.22426106, -0.05628365, -0.4297627 ,  0.15811859,  0.44155225],\n",
              "        [ 0.4378744 ,  0.18981864, -0.66651225,  0.45914593,  0.19829783,\n",
              "         -0.05396044,  0.02727135, -0.17837591, -0.10547576, -0.74579376],\n",
              "        [-0.13305648, -0.37623852,  0.27488345,  0.33760336,  0.04049639,\n",
              "          0.16214092, -0.24454613, -0.20809944, -0.03866551,  0.14837798],\n",
              "        [ 0.18138394, -0.16281252, -0.8289526 ,  0.41824943,  0.03474638,\n",
              "          0.32766217, -0.04203289, -0.8800256 ,  0.24363461,  0.51593137],\n",
              "        [-0.33929428,  0.01224961, -0.29807493,  0.15400977, -0.21850535,\n",
              "          0.07113475,  0.32120833,  0.5505253 ,  0.26545227,  0.34889433],\n",
              "        [ 0.7945411 ,  0.27183178, -0.1875626 , -0.0237931 , -0.19811852,\n",
              "         -0.03255787,  0.3685356 , -1.0090662 , -0.6570594 ,  0.10614237],\n",
              "        [-0.12895495,  0.10522287, -0.2587176 ,  0.3063881 , -0.27788177,\n",
              "          0.10769216,  0.29122514, -0.53405195, -0.33286005,  0.20398125],\n",
              "        [ 0.08449915,  0.0367297 , -0.24268928, -0.02038896, -0.1476774 ,\n",
              "          0.19337195,  0.03088525, -0.12346904, -0.17530793,  0.34022695],\n",
              "        [-0.4188888 ,  0.40649068, -0.35871392, -0.01225233,  0.28574857,\n",
              "         -0.21906668, -0.48436317, -0.35985982,  0.09284357,  0.25726873],\n",
              "        [ 0.08282945,  0.19255096,  0.1767363 , -0.18023296,  0.15965839,\n",
              "         -0.30167606, -0.05776558, -0.0483948 , -0.14520217, -0.05708519]],\n",
              "       dtype=float32),\n",
              " array([ 0.01491568,  0.06900486, -0.00940907,  0.02889603, -0.03716517,\n",
              "         0.03768779,  0.02436122,  0.10991963, -0.02538353,  0.050377  ],\n",
              "       dtype=float32),\n",
              " array([[ 0.3810572 ],\n",
              "        [ 0.01218439],\n",
              "        [-0.64325887],\n",
              "        [ 0.16852929],\n",
              "        [-0.44713464],\n",
              "        [ 0.3207198 ],\n",
              "        [ 0.55808413],\n",
              "        [-0.16199945],\n",
              "        [-0.5504415 ],\n",
              "        [ 0.00996018]], dtype=float32),\n",
              " array([0.0418965], dtype=float32)]"
            ]
          },
          "metadata": {},
          "execution_count": 28
        }
      ]
    },
    {
      "cell_type": "code",
      "source": [
        "from mlxtend.plotting import plot_decision_regions\n",
        "plot_decision_regions(x,y.astype('int'), clf=model, legend=2)"
      ],
      "metadata": {
        "colab": {
          "base_uri": "https://localhost:8080/",
          "height": 300
        },
        "id": "h2jKnSGeuuLY",
        "outputId": "561a6e46-8b4d-4c19-f9b4-af3e5766d3db"
      },
      "execution_count": 29,
      "outputs": [
        {
          "output_type": "stream",
          "name": "stdout",
          "text": [
            "3888/3888 [==============================] - 5s 1ms/step\n"
          ]
        },
        {
          "output_type": "execute_result",
          "data": {
            "text/plain": [
              "<matplotlib.axes._subplots.AxesSubplot at 0x7f00bb199850>"
            ]
          },
          "metadata": {},
          "execution_count": 29
        },
        {
          "output_type": "display_data",
          "data": {
            "text/plain": [
              "<Figure size 432x288 with 1 Axes>"
            ],
            "image/png": "[encoded data removed]"
          },
          "metadata": {
            "needs_background": "light"
          }
        }
      ]
    },
    {
      "cell_type": "markdown",
      "source": [
        "## using relu with **he_normal**"
      ],
      "metadata": {
        "id": "ZK_IUqBbGyND"
      }
    },
    {
      "cell_type": "code",
      "source": [
        "model = Sequential()\n",
        "\n",
        "model.add(Dense(10,activation='relu',input_dim=2,kernel_initializer='he_normal'))\n",
        "model.add(Dense(10,activation='relu',kernel_initializer='he_normal'))\n",
        "model.add(Dense(10,activation='relu',kernel_initializer='he_normal'))\n",
        "model.add(Dense(10,activation='relu',kernel_initializer='he_normal'))\n",
        "model.add(Dense(1,activation='sigmoid'))\n",
        "\n",
        "model.summary()"
      ],
      "metadata": {
        "colab": {
          "base_uri": "https://localhost:8080/"
        },
        "outputId": "ff94237a-5e81-4ecf-d0e2-d09bc4a25c71",
        "id": "SYfTmNekGtlg"
      },
      "execution_count": 30,
      "outputs": [
        {
          "output_type": "stream",
          "name": "stdout",
          "text": [
            "Model: \"sequential_2\"\n",
            "_________________________________________________________________\n",
            " Layer (type)                Output Shape              Param #   \n",
            "=================================================================\n",
            " dense_10 (Dense)            (None, 10)                30        \n",
            "                                                                 \n",
            " dense_11 (Dense)            (None, 10)                110       \n",
            "                                                                 \n",
            " dense_12 (Dense)            (None, 10)                110       \n",
            "                                                                 \n",
            " dense_13 (Dense)            (None, 10)                110       \n",
            "                                                                 \n",
            " dense_14 (Dense)            (None, 1)                 11        \n",
            "                                                                 \n",
            "=================================================================\n",
            "Total params: 371\n",
            "Trainable params: 371\n",
            "Non-trainable params: 0\n",
            "_________________________________________________________________\n"
          ]
        }
      ]
    },
    {
      "cell_type": "code",
      "source": [
        "# Check Default weights\n",
        "model.get_weights()\n"
      ],
      "metadata": {
        "colab": {
          "base_uri": "https://localhost:8080/"
        },
        "outputId": "6557e600-d478-4978-8612-9d1ace867b04",
        "id": "VRrognWDGtl6"
      },
      "execution_count": 31,
      "outputs": [
        {
          "output_type": "execute_result",
          "data": {
            "text/plain": [
              "[array([[ 1.1714303 , -0.8037251 ,  0.3356843 ,  1.109747  , -0.7633451 ,\n",
              "         -0.12261787, -0.10794673,  0.5693995 ,  1.0709367 ,  0.2698768 ],\n",
              "        [-0.21932283,  0.153752  ,  0.24756303, -1.1665925 , -0.4114906 ,\n",
              "          0.33401683,  1.167785  ,  0.5193598 , -1.3696766 ,  0.5922022 ]],\n",
              "       dtype=float32),\n",
              " array([0., 0., 0., 0., 0., 0., 0., 0., 0., 0.], dtype=float32),\n",
              " array([[-0.14768213,  0.85683465,  0.47327626, -0.85158813,  0.17940478,\n",
              "         -0.9039063 , -0.87816286,  0.09817513, -0.4593396 , -0.8930065 ],\n",
              "        [-0.29325163,  0.0110487 , -0.92831004,  0.40804023, -0.6242649 ,\n",
              "          0.14306687,  0.4765841 ,  0.40039358, -0.3993333 ,  0.13601162],\n",
              "        [-0.1607114 ,  0.05125678, -0.5158454 , -0.43965414,  0.7590055 ,\n",
              "         -0.24043249,  0.27495453, -0.31632787, -0.078191  ,  0.15581168],\n",
              "        [-0.01217302, -0.1590333 ,  0.07480996,  0.1652924 , -0.1799571 ,\n",
              "         -0.69811255,  0.55973864,  0.2088078 ,  0.28367448,  0.5394695 ],\n",
              "        [-0.3755044 , -0.14282252, -0.55398804,  0.72308874, -0.62662286,\n",
              "         -0.03163508, -0.3779824 ,  0.00413875, -0.06453123,  0.47425196],\n",
              "        [-0.27519274,  0.06953474, -0.90550536,  0.6097281 , -0.31142086,\n",
              "          0.28984547, -0.42440304,  0.10574337,  0.16789898, -0.99503535],\n",
              "        [ 0.17207585,  0.5635075 , -0.3133311 ,  0.3588409 ,  0.41097966,\n",
              "         -0.23874646,  0.11262073,  0.63648707, -0.0836711 ,  0.11762338],\n",
              "        [ 0.12114262, -0.28639367,  0.5942673 , -0.66953063, -0.47890055,\n",
              "         -0.5512466 , -0.64979255,  0.04073842,  0.87638134, -0.29176733],\n",
              "        [-0.3669281 ,  0.6035474 ,  0.18115343,  0.12883407,  0.05916578,\n",
              "         -0.59547466,  0.00159331, -0.2762988 ,  0.8436781 ,  0.482324  ],\n",
              "        [-0.15590934, -0.06375069,  0.11911486, -0.03451085,  0.9617773 ,\n",
              "         -0.1862594 ,  0.433022  , -0.17715867,  0.55212134,  0.15353228]],\n",
              "       dtype=float32),\n",
              " array([0., 0., 0., 0., 0., 0., 0., 0., 0., 0.], dtype=float32),\n",
              " array([[-0.1716725 ,  0.36519632, -0.26062623, -0.8351023 , -0.26236722,\n",
              "         -0.15639141,  0.35285857, -0.19643693, -0.60535866,  0.00296772],\n",
              "        [ 0.07578947,  0.1691421 , -0.16635539,  0.18318836, -0.12890983,\n",
              "          0.11994172,  0.02940923, -0.3206831 , -0.26042825,  0.06147277],\n",
              "        [-0.23227604,  0.88938534,  0.05308715,  0.00866311, -0.5683417 ,\n",
              "         -0.2887642 , -0.20595111,  0.5087854 ,  0.52616537,  0.01289217],\n",
              "        [-0.44077748,  0.6610414 ,  0.4203977 ,  0.19565213, -0.66994715,\n",
              "          0.22078218, -0.06826279, -0.11324175,  0.12055054, -0.5785363 ],\n",
              "        [ 0.08245715, -0.28814375,  0.48306972,  0.7583139 ,  0.22984055,\n",
              "         -0.39827088, -0.48060408,  0.18699118, -0.48764247, -0.06354264],\n",
              "        [-0.19605386, -0.35854873,  0.20164292, -0.27037   , -0.5735637 ,\n",
              "         -0.37739763,  0.01629504, -0.9244829 ,  0.39459532,  0.3349151 ],\n",
              "        [-0.7724155 , -0.05240875,  0.35698262,  0.26344937,  0.12001494,\n",
              "          0.15276839, -0.4851629 , -0.70661604,  0.16652274,  0.3903941 ],\n",
              "        [ 0.5467379 , -0.22189976, -0.35455596, -0.67741036,  0.20355618,\n",
              "         -0.47224557, -0.62211823, -0.01934151,  0.26453835,  0.7456856 ],\n",
              "        [-0.44955412, -0.35811886, -0.02461282, -0.16929348,  0.18358895,\n",
              "          0.5702275 ,  0.43280658,  0.15216999, -0.9896283 ,  0.3459953 ],\n",
              "        [ 0.18939342,  0.24942653, -0.7588029 ,  0.09937692, -0.4609944 ,\n",
              "         -0.42521566, -0.22259063, -0.06063914,  0.21455152, -0.39248112]],\n",
              "       dtype=float32),\n",
              " array([0., 0., 0., 0., 0., 0., 0., 0., 0., 0.], dtype=float32),\n",
              " array([[-0.6670789 ,  0.35906658,  0.03490392, -0.03666623, -0.9472997 ,\n",
              "          0.26091817, -0.10290658,  0.0301953 , -0.20491928,  0.33452782],\n",
              "        [-0.33860976, -0.6210944 , -0.16784868,  0.1706677 ,  0.26748335,\n",
              "         -0.82421917, -0.8889315 ,  0.05138422, -0.2050821 ,  0.04788959],\n",
              "        [ 0.251209  ,  0.33562508,  0.6774917 , -0.367959  ,  0.5374177 ,\n",
              "         -0.8500169 ,  0.51865005, -0.344188  ,  0.0447643 , -0.2926087 ],\n",
              "        [ 0.22054073, -0.23742257,  0.08269672, -0.7656339 , -0.54121184,\n",
              "         -0.18304391, -0.4587781 , -0.13065444,  0.7837064 , -0.02635771],\n",
              "        [-0.30525008, -0.07843405,  0.3237997 , -0.14162585, -0.33519667,\n",
              "          0.272666  ,  0.2701708 , -0.2243658 ,  0.42092165, -0.0685519 ],\n",
              "        [-0.14214194, -0.20451505, -0.4654316 ,  0.05432946, -0.31545445,\n",
              "          0.2222398 ,  0.4152133 ,  0.0857771 , -0.6056436 ,  0.235638  ],\n",
              "        [-0.56777465,  0.11544706,  0.05252442,  0.08808607,  0.39170152,\n",
              "          0.715135  , -0.02197463, -0.00198875, -0.18910916, -0.36976394],\n",
              "        [-0.92637175, -0.42067167,  0.5160102 , -0.23743905,  0.23574992,\n",
              "          0.09025235,  0.48294812, -0.05592259,  0.29426324, -0.37881187],\n",
              "        [ 0.5282919 , -0.12434174, -0.1111619 , -0.57178175, -0.83978015,\n",
              "          0.44911432, -0.0326152 , -0.22191177,  0.47130018, -0.62483984],\n",
              "        [-0.27095538, -0.29979417, -0.09751086,  0.04243145, -0.15458055,\n",
              "          0.21866673, -0.16987753, -0.3693831 ,  0.11600005, -0.1286796 ]],\n",
              "       dtype=float32),\n",
              " array([0., 0., 0., 0., 0., 0., 0., 0., 0., 0.], dtype=float32),\n",
              " array([[-0.03403509],\n",
              "        [ 0.09319496],\n",
              "        [-0.4562808 ],\n",
              "        [ 0.02830088],\n",
              "        [-0.4944711 ],\n",
              "        [-0.19000602],\n",
              "        [-0.59523576],\n",
              "        [-0.7334133 ],\n",
              "        [ 0.31969064],\n",
              "        [-0.1438911 ]], dtype=float32),\n",
              " array([0.], dtype=float32)]"
            ]
          },
          "metadata": {},
          "execution_count": 31
        }
      ]
    },
    {
      "cell_type": "code",
      "source": [
        "model.compile(loss='binary_crossentropy',optimizer='adam',metrics=['accuracy'])"
      ],
      "metadata": {
        "id": "j8Zzp6LWGtl9"
      },
      "execution_count": 32,
      "outputs": []
    },
    {
      "cell_type": "code",
      "source": [
        "history = model.fit(x,y,epochs=100,validation_split=0.2)"
      ],
      "metadata": {
        "id": "AhaLk2Y1Gtl-"
      },
      "execution_count": null,
      "outputs": []
    },
    {
      "cell_type": "code",
      "source": [
        "model.get_weights()"
      ],
      "metadata": {
        "colab": {
          "base_uri": "https://localhost:8080/"
        },
        "outputId": "8995a765-8dd3-4222-ccc5-045d551518eb",
        "id": "P3B5X1DRGtl_"
      },
      "execution_count": 34,
      "outputs": [
        {
          "output_type": "execute_result",
          "data": {
            "text/plain": [
              "[array([[ 1.2560192 , -0.9849447 ,  0.39327013,  1.1359774 , -0.7696805 ,\n",
              "         -0.3608449 , -0.06630994,  0.63511133,  1.2059048 ,  0.2805756 ],\n",
              "        [-0.30950415,  0.16958214,  0.19361414, -1.2231495 , -0.41560292,\n",
              "          0.24536264,  1.3319408 ,  0.62949127, -1.6464578 ,  0.7040549 ]],\n",
              "       dtype=float32),\n",
              " array([-0.05468725,  0.10558073,  0.26134694,  0.12785524,  0.0825942 ,\n",
              "        -0.08074581,  0.07356458, -0.16320035,  0.06523085,  0.1186161 ],\n",
              "       dtype=float32),\n",
              " array([[ 0.05968113,  0.94537354,  0.5753776 , -0.9578992 ,  0.3218649 ,\n",
              "         -0.9039063 , -0.89595366,  0.15932046, -0.4942445 , -0.7815988 ],\n",
              "        [-0.21337381, -0.07159903, -0.92831004,  0.62009186, -0.53655195,\n",
              "          0.3369379 ,  0.7097224 ,  0.28546983, -0.35709184, -0.03701184],\n",
              "        [-0.01979544,  0.02660073, -0.47627002, -0.504156  ,  0.9207374 ,\n",
              "         -0.34554845,  0.23953986, -0.1749339 , -0.02838419,  0.3071487 ],\n",
              "        [ 0.08029833,  0.01173497,  0.2203249 ,  0.01128041, -0.00906337,\n",
              "         -0.69811255,  0.5952705 ,  0.12616007,  0.22212747,  0.69377905],\n",
              "        [-0.12729222, -0.08420184, -0.30223987,  0.941771  , -0.53109187,\n",
              "          0.11894776, -0.1582807 , -0.10253463, -0.12120921,  0.29801628],\n",
              "        [-0.15908787, -0.05323048, -0.8797362 ,  0.7794492 , -0.19087088,\n",
              "          0.54745954, -0.27242312,  0.14689003,  0.28124064, -1.165023  ],\n",
              "        [ 0.31913465,  0.4325817 , -0.34020442,  0.4539961 ,  0.5500049 ,\n",
              "         -0.09220108,  0.18262348,  0.78776324,  0.05754592,  0.0899147 ],\n",
              "        [ 0.33106387, -0.38499627,  0.6353485 , -0.6653749 , -0.3452353 ,\n",
              "         -0.4927227 , -0.83834094,  0.21032025,  0.9499542 , -0.2414031 ],\n",
              "        [-0.33502004,  0.7945863 ,  0.3481923 , -0.01183754,  0.23961735,\n",
              "         -0.59547466,  0.05845933, -0.3959281 ,  0.77710825,  0.6593537 ],\n",
              "        [-0.00208367, -0.17486237,  0.12497831,  0.00821396,  1.1028733 ,\n",
              "         -0.17125192,  0.41379315, -0.01488402,  0.65654385,  0.2464218 ]],\n",
              "       dtype=float32),\n",
              " array([ 0.00934667,  0.02513613,  0.00050439,  0.07271913,  0.15689112,\n",
              "         0.033052  ,  0.1973485 , -0.01213297,  0.00230626,  0.12540461],\n",
              "       dtype=float32),\n",
              " array([[ 0.09822796,  0.24669491, -0.07028852, -1.0397956 , -0.02262445,\n",
              "         -0.11804786,  0.35285857,  0.0201281 , -0.60535866, -0.11041106],\n",
              "        [ 0.12241975,  0.22693448, -0.19054864,  0.38218382, -0.03935789,\n",
              "          0.10335079, -0.00376008, -0.18161282, -0.3069336 ,  0.23411691],\n",
              "        [-0.14608732,  0.959492  , -0.03387174,  0.21025738, -0.4955398 ,\n",
              "         -0.28705892, -0.24084331,  0.56539816,  0.52616537,  0.19224533],\n",
              "        [-0.49745402,  0.5138683 ,  0.6398132 ,  0.09121391, -0.64943737,\n",
              "          0.18632554, -0.03240162, -0.09267398, -0.028321  , -0.7190487 ],\n",
              "        [ 0.273898  , -0.28331152,  0.57293105,  0.73693013,  0.38535705,\n",
              "         -0.37397984, -0.5333314 ,  0.34745574, -0.5372682 , -0.05067753],\n",
              "        [-0.19605386, -0.5290014 ,  0.5294717 , -0.45238066, -0.55423766,\n",
              "         -0.4388194 ,  0.01629504, -0.9244829 ,  0.16422683,  0.13297136],\n",
              "        [-0.962693  , -0.13587786,  0.4576416 ,  0.43132496, -0.0156662 ,\n",
              "          0.08326872, -0.45834804, -0.7881815 , -0.0094167 ,  0.41840377],\n",
              "        [ 0.71252894, -0.30728403, -0.18593101, -0.8227604 ,  0.37113196,\n",
              "         -0.5039654 , -0.6708121 ,  0.13264507,  0.1484223 ,  0.6386823 ],\n",
              "        [-0.28701493, -0.31281805,  0.01615155, -0.05313578,  0.32992062,\n",
              "          0.5662493 ,  0.39978603,  0.31275627, -1.0133888 ,  0.47063097],\n",
              "        [ 0.10466906,  0.3089781 , -0.9113692 ,  0.3873877 , -0.65217096,\n",
              "         -0.4797524 , -0.23911393,  0.14137572,  0.13076298, -0.1281587 ]],\n",
              "       dtype=float32),\n",
              " array([ 0.13899384, -0.01086111,  0.05149402,  0.11277984,  0.0756367 ,\n",
              "        -0.02614354, -0.02956675,  0.06853924, -0.12945111,  0.05208351],\n",
              "       dtype=float32),\n",
              " array([[-0.7571174 ,  0.43904227,  0.3391699 , -0.02608439, -0.93687755,\n",
              "          0.58973545,  0.18278314,  0.0301953 , -0.51938856,  0.33452782],\n",
              "        [-0.12997392, -0.5962987 , -0.27426112,  0.20476039,  0.36951092,\n",
              "         -0.99148715, -0.89080524,  0.04367004,  0.03207829,  0.01699669],\n",
              "        [ 0.45303065,  0.3503287 ,  0.8516543 , -0.35349894,  0.7505381 ,\n",
              "         -0.67729604,  0.6934582 , -0.344188  , -0.0707309 , -0.2926087 ],\n",
              "        [ 0.02058375, -0.290878  , -0.0361408 , -0.72705185, -0.68453044,\n",
              "         -0.12760031, -0.44842637, -0.1383359 ,  1.0398015 , -0.05768199],\n",
              "        [-0.37915966, -0.09031194,  0.47692263, -0.13210668, -0.35746416,\n",
              "          0.4855368 ,  0.43031788, -0.2243658 ,  0.26660308, -0.0685519 ],\n",
              "        [-0.14902689, -0.20451505, -0.5532606 ,  0.08996204, -0.32757297,\n",
              "          0.1866322 ,  0.3917315 ,  0.07806182, -0.50708777,  0.2009906 ],\n",
              "        [-0.56777465,  0.11544706,  0.01347552,  0.11438841,  0.37976328,\n",
              "          0.6993058 , -0.03371858, -0.00953022, -0.13550904, -0.3944647 ],\n",
              "        [-1.0459585 , -0.34997845,  0.49968857, -0.21234652,  0.19948131,\n",
              "          0.31895018,  0.6779447 , -0.05592259,  0.44575626, -0.37881187],\n",
              "        [ 0.64108413, -0.08818813, -0.02049298, -0.59731704, -0.76364315,\n",
              "          0.44911432,  0.05453949, -0.22191177,  0.4507931 , -0.62483984],\n",
              "        [-0.3413899 , -0.31203198, -0.09107382,  0.07446021, -0.13739997,\n",
              "          0.36719733, -0.03907692, -0.3770692 ,  0.2726389 , -0.15788603]],\n",
              "       dtype=float32),\n",
              " array([ 0.03914881, -0.01575704,  0.0214054 ,  0.05602357,  0.03362474,\n",
              "         0.09158625,  0.05856358, -0.00772399,  0.13771994, -0.03574664],\n",
              "       dtype=float32),\n",
              " array([[-0.26178452],\n",
              "        [-0.13906096],\n",
              "        [-0.63893825],\n",
              "        [ 0.07322669],\n",
              "        [-0.72663   ],\n",
              "        [-0.517135  ],\n",
              "        [-0.81780946],\n",
              "        [-0.73041815],\n",
              "        [ 0.49349752],\n",
              "        [-0.11694375]], dtype=float32),\n",
              " array([0.17726173], dtype=float32)]"
            ]
          },
          "metadata": {},
          "execution_count": 34
        }
      ]
    },
    {
      "cell_type": "code",
      "source": [
        "from mlxtend.plotting import plot_decision_regions\n",
        "plot_decision_regions(x,y.astype('int'), clf=model, legend=2)"
      ],
      "metadata": {
        "colab": {
          "base_uri": "https://localhost:8080/",
          "height": 300
        },
        "outputId": "c5805a0f-3d51-4dbe-ea6d-783bd0ba3203",
        "id": "RFpjnfBEGtmA"
      },
      "execution_count": 35,
      "outputs": [
        {
          "output_type": "stream",
          "name": "stdout",
          "text": [
            "3888/3888 [==============================] - 5s 1ms/step\n"
          ]
        },
        {
          "output_type": "execute_result",
          "data": {
            "text/plain": [
              "<matplotlib.axes._subplots.AxesSubplot at 0x7f00bfa71280>"
            ]
          },
          "metadata": {},
          "execution_count": 35
        },
        {
          "output_type": "display_data",
          "data": {
            "text/plain": [
              "<Figure size 432x288 with 1 Axes>"
            ],
            "image/png": "[encoded data removed]"
          },
          "metadata": {
            "needs_background": "light"
          }
        }
      ]
    }
  ]
}
