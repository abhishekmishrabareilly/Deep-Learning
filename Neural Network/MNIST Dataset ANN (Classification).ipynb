{
  "nbformat": 4,
  "nbformat_minor": 0,
  "metadata": {
    "colab": {
      "provenance": [],
      "authorship_tag": "ABX9TyP6Mozx5qRrs1AIPlW/C3XF",
      "include_colab_link": true
    },
    "kernelspec": {
      "name": "python3",
      "display_name": "Python 3"
    },
    "language_info": {
      "name": "python"
    }
  },
  "cells": [
    {
      "cell_type": "markdown",
      "metadata": {
        "id": "view-in-github",
        "colab_type": "text"
      },
      "source": [
        "<a href=\"https://colab.research.google.com/github/abhishekmishra-bareilly/Deep-Learning/blob/main/mnist_Classification_ANN.ipynb\" target=\"_parent\"><img src=\"https://colab.research.google.com/assets/colab-badge.svg\" alt=\"Open In Colab\"/></a>"
      ]
    },
    {
      "cell_type": "code",
      "execution_count": 1,
      "metadata": {
        "id": "Z2g-_aWWoB3P"
      },
      "outputs": [],
      "source": [
        "# Import the dependancyes\n",
        "import tensorflow\n",
        "from tensorflow import keras\n",
        "from tensorflow.keras import Sequential\n",
        "from tensorflow.keras.layers import Dense,Flatten"
      ]
    },
    {
      "cell_type": "code",
      "source": [
        "# split the dataset\n",
        "(x_train,y_train),(x_test,y_test) = keras.datasets.mnist.load_data()"
      ],
      "metadata": {
        "colab": {
          "base_uri": "https://localhost:8080/"
        },
        "id": "GzO3pBVgoGlV",
        "outputId": "6c536056-4a92-40dd-e322-eb71cf2c024f"
      },
      "execution_count": 2,
      "outputs": [
        {
          "output_type": "stream",
          "name": "stdout",
          "text": [
            "Downloading data from https://storage.googleapis.com/tensorflow/tf-keras-datasets/mnist.npz\n",
            "11490434/11490434 [==============================] - 0s 0us/step\n"
          ]
        }
      ]
    },
    {
      "cell_type": "code",
      "source": [
        "# train data shape\n",
        "x_train.shape"
      ],
      "metadata": {
        "colab": {
          "base_uri": "https://localhost:8080/"
        },
        "id": "bdpaMlV5oQcU",
        "outputId": "93996f9c-222d-4bf6-dacf-bd1b701ee761"
      },
      "execution_count": 4,
      "outputs": [
        {
          "output_type": "execute_result",
          "data": {
            "text/plain": [
              "(60000, 28, 28)"
            ]
          },
          "metadata": {},
          "execution_count": 4
        }
      ]
    },
    {
      "cell_type": "code",
      "source": [
        "# test data shape\n",
        "y_train.shape"
      ],
      "metadata": {
        "colab": {
          "base_uri": "https://localhost:8080/"
        },
        "id": "GPuEbKZhoc1U",
        "outputId": "c7370cea-f1f2-49a0-da96-d013ed6387dc"
      },
      "execution_count": 6,
      "outputs": [
        {
          "output_type": "execute_result",
          "data": {
            "text/plain": [
              "(60000,)"
            ]
          },
          "metadata": {},
          "execution_count": 6
        }
      ]
    },
    {
      "cell_type": "code",
      "source": [
        "# plot the digit\n",
        "import matplotlib.pyplot as plt\n",
        "plt.imshow(x_train[0])"
      ],
      "metadata": {
        "colab": {
          "base_uri": "https://localhost:8080/",
          "height": 282
        },
        "id": "9xLf4NXhogxK",
        "outputId": "78557877-c253-42ec-af9f-bb0f244c8708"
      },
      "execution_count": 11,
      "outputs": [
        {
          "output_type": "execute_result",
          "data": {
            "text/plain": [
              "<matplotlib.image.AxesImage at 0x7f4ab60a8af0>"
            ]
          },
          "metadata": {},
          "execution_count": 11
        },
        {
          "output_type": "display_data",
          "data": {
            "text/plain": [
              "<Figure size 432x288 with 1 Axes>"
            ],
            "image/png": "[encoded data removed]"
          },
          "metadata": {
            "needs_background": "light"
          }
        }
      ]
    },
    {
      "cell_type": "code",
      "source": [
        "y_train"
      ],
      "metadata": {
        "colab": {
          "base_uri": "https://localhost:8080/"
        },
        "id": "H1CclWcpo1Rj",
        "outputId": "6bcdea15-a271-4728-a586-c6d414c8679c"
      },
      "execution_count": 10,
      "outputs": [
        {
          "output_type": "execute_result",
          "data": {
            "text/plain": [
              "array([5, 0, 4, ..., 5, 6, 8], dtype=uint8)"
            ]
          },
          "metadata": {},
          "execution_count": 10
        }
      ]
    },
    {
      "cell_type": "code",
      "source": [
        "# To make data points b/w 0 and one\n",
        "x_train =x_train/125\n",
        "x_test = x_test/125"
      ],
      "metadata": {
        "id": "IQG84Y1Bo68i"
      },
      "execution_count": 12,
      "outputs": []
    },
    {
      "cell_type": "code",
      "source": [
        "# fitting the model\n",
        "model = Sequential()\n",
        "model.add(Flatten(input_shape=(28,28)))\n",
        "model.add(Dense(128,activation ='relu'))\n",
        "model.add(Dense(10,activation ='softmax'))"
      ],
      "metadata": {
        "id": "jGX79fmUpqI2"
      },
      "execution_count": 13,
      "outputs": []
    },
    {
      "cell_type": "code",
      "source": [
        "model.summary()"
      ],
      "metadata": {
        "colab": {
          "base_uri": "https://localhost:8080/"
        },
        "id": "luYSdC2CqkGS",
        "outputId": "28e99380-845d-46d6-ed40-3eff7710a520"
      },
      "execution_count": 14,
      "outputs": [
        {
          "output_type": "stream",
          "name": "stdout",
          "text": [
            "Model: \"sequential\"\n",
            "_________________________________________________________________\n",
            " Layer (type)                Output Shape              Param #   \n",
            "=================================================================\n",
            " flatten (Flatten)           (None, 784)               0         \n",
            "                                                                 \n",
            " dense (Dense)               (None, 128)               100480    \n",
            "                                                                 \n",
            " dense_1 (Dense)             (None, 10)                1290      \n",
            "                                                                 \n",
            "=================================================================\n",
            "Total params: 101,770\n",
            "Trainable params: 101,770\n",
            "Non-trainable params: 0\n",
            "_________________________________________________________________\n"
          ]
        }
      ]
    },
    {
      "cell_type": "code",
      "source": [
        "model.compile(loss='sparse_categorical_crossentropy',optimizer='Adam',metrics=['accuracy'])\n",
        "\n",
        "# fit the model\n",
        "history = model.fit(x_train,y_train,epochs=25,validation_split=0.2)"
      ],
      "metadata": {
        "colab": {
          "base_uri": "https://localhost:8080/"
        },
        "id": "91IisBl9rIVv",
        "outputId": "1d865695-8b16-4ab4-b136-daa0b778ddc7"
      },
      "execution_count": 17,
      "outputs": [
        {
          "output_type": "stream",
          "name": "stdout",
          "text": [
            "Epoch 1/25\n",
            "1500/1500 [==============================] - 6s 3ms/step - loss: 0.2446 - accuracy: 0.9279 - val_loss: 0.1419 - val_accuracy: 0.9585\n",
            "Epoch 2/25\n",
            "1500/1500 [==============================] - 5s 3ms/step - loss: 0.1079 - accuracy: 0.9675 - val_loss: 0.1048 - val_accuracy: 0.9692\n",
            "Epoch 3/25\n",
            "1500/1500 [==============================] - 5s 3ms/step - loss: 0.0743 - accuracy: 0.9778 - val_loss: 0.1038 - val_accuracy: 0.9701\n",
            "Epoch 4/25\n",
            "1500/1500 [==============================] - 5s 3ms/step - loss: 0.0553 - accuracy: 0.9834 - val_loss: 0.0906 - val_accuracy: 0.9729\n",
            "Epoch 5/25\n",
            "1500/1500 [==============================] - 5s 3ms/step - loss: 0.0435 - accuracy: 0.9864 - val_loss: 0.0935 - val_accuracy: 0.9733\n",
            "Epoch 6/25\n",
            "1500/1500 [==============================] - 5s 3ms/step - loss: 0.0341 - accuracy: 0.9888 - val_loss: 0.1000 - val_accuracy: 0.9724\n",
            "Epoch 7/25\n",
            "1500/1500 [==============================] - 5s 3ms/step - loss: 0.0254 - accuracy: 0.9920 - val_loss: 0.1013 - val_accuracy: 0.9732\n",
            "Epoch 8/25\n",
            "1500/1500 [==============================] - 5s 3ms/step - loss: 0.0225 - accuracy: 0.9926 - val_loss: 0.0979 - val_accuracy: 0.9744\n",
            "Epoch 9/25\n",
            "1500/1500 [==============================] - 5s 3ms/step - loss: 0.0196 - accuracy: 0.9930 - val_loss: 0.1066 - val_accuracy: 0.9745\n",
            "Epoch 10/25\n",
            "1500/1500 [==============================] - 5s 3ms/step - loss: 0.0159 - accuracy: 0.9947 - val_loss: 0.1115 - val_accuracy: 0.9753\n",
            "Epoch 11/25\n",
            "1500/1500 [==============================] - 5s 3ms/step - loss: 0.0142 - accuracy: 0.9951 - val_loss: 0.1105 - val_accuracy: 0.9763\n",
            "Epoch 12/25\n",
            "1500/1500 [==============================] - 5s 3ms/step - loss: 0.0133 - accuracy: 0.9953 - val_loss: 0.1198 - val_accuracy: 0.9747\n",
            "Epoch 13/25\n",
            "1500/1500 [==============================] - 5s 3ms/step - loss: 0.0106 - accuracy: 0.9968 - val_loss: 0.1107 - val_accuracy: 0.9764\n",
            "Epoch 14/25\n",
            "1500/1500 [==============================] - 5s 3ms/step - loss: 0.0105 - accuracy: 0.9964 - val_loss: 0.1218 - val_accuracy: 0.9748\n",
            "Epoch 15/25\n",
            "1500/1500 [==============================] - 5s 3ms/step - loss: 0.0092 - accuracy: 0.9968 - val_loss: 0.1480 - val_accuracy: 0.9711\n",
            "Epoch 16/25\n",
            "1500/1500 [==============================] - 5s 3ms/step - loss: 0.0104 - accuracy: 0.9964 - val_loss: 0.1400 - val_accuracy: 0.9745\n",
            "Epoch 17/25\n",
            "1500/1500 [==============================] - 5s 3ms/step - loss: 0.0088 - accuracy: 0.9972 - val_loss: 0.1273 - val_accuracy: 0.9758\n",
            "Epoch 18/25\n",
            "1500/1500 [==============================] - 5s 3ms/step - loss: 0.0086 - accuracy: 0.9974 - val_loss: 0.1455 - val_accuracy: 0.9745\n",
            "Epoch 19/25\n",
            "1500/1500 [==============================] - 5s 3ms/step - loss: 0.0066 - accuracy: 0.9975 - val_loss: 0.1466 - val_accuracy: 0.9743\n",
            "Epoch 20/25\n",
            "1500/1500 [==============================] - 5s 3ms/step - loss: 0.0075 - accuracy: 0.9975 - val_loss: 0.1286 - val_accuracy: 0.9778\n",
            "Epoch 21/25\n",
            "1500/1500 [==============================] - 5s 3ms/step - loss: 0.0079 - accuracy: 0.9975 - val_loss: 0.1419 - val_accuracy: 0.9769\n",
            "Epoch 22/25\n",
            "1500/1500 [==============================] - 5s 3ms/step - loss: 0.0090 - accuracy: 0.9969 - val_loss: 0.1464 - val_accuracy: 0.9743\n",
            "Epoch 23/25\n",
            "1500/1500 [==============================] - 5s 3ms/step - loss: 0.0042 - accuracy: 0.9988 - val_loss: 0.1428 - val_accuracy: 0.9764\n",
            "Epoch 24/25\n",
            "1500/1500 [==============================] - 5s 3ms/step - loss: 0.0075 - accuracy: 0.9976 - val_loss: 0.1569 - val_accuracy: 0.9746\n",
            "Epoch 25/25\n",
            "1500/1500 [==============================] - 5s 3ms/step - loss: 0.0074 - accuracy: 0.9978 - val_loss: 0.1660 - val_accuracy: 0.9755\n"
          ]
        }
      ]
    },
    {
      "cell_type": "code",
      "source": [
        "y_prob = model.predict(x_test)"
      ],
      "metadata": {
        "colab": {
          "base_uri": "https://localhost:8080/"
        },
        "id": "UQXHQ0zQr6Y8",
        "outputId": "93f402d9-c0a8-446a-ca71-293546c5dd01"
      },
      "execution_count": 18,
      "outputs": [
        {
          "output_type": "stream",
          "name": "stdout",
          "text": [
            "313/313 [==============================] - 1s 2ms/step\n"
          ]
        }
      ]
    },
    {
      "cell_type": "code",
      "source": [
        "y_prob = y_prob.argmax(axis=1)\n",
        "y_prob"
      ],
      "metadata": {
        "colab": {
          "base_uri": "https://localhost:8080/"
        },
        "id": "5xyRUVWWskFJ",
        "outputId": "3624632e-1228-4d28-eabf-f61915919e8b"
      },
      "execution_count": 19,
      "outputs": [
        {
          "output_type": "execute_result",
          "data": {
            "text/plain": [
              "array([7, 2, 1, ..., 4, 5, 6])"
            ]
          },
          "metadata": {},
          "execution_count": 19
        }
      ]
    },
    {
      "cell_type": "code",
      "source": [
        "# accuracy score\n",
        "from sklearn.metrics import accuracy_score\n",
        "accuracy_score(y_test,y_prob)"
      ],
      "metadata": {
        "colab": {
          "base_uri": "https://localhost:8080/"
        },
        "id": "yMedTzYQswUe",
        "outputId": "72fe6668-838d-417d-fb3d-d99f6fc8b2ca"
      },
      "execution_count": 20,
      "outputs": [
        {
          "output_type": "execute_result",
          "data": {
            "text/plain": [
              "0.9762"
            ]
          },
          "metadata": {},
          "execution_count": 20
        }
      ]
    },
    {
      "cell_type": "code",
      "source": [
        "plt.plot(history.history['loss'])\n",
        "plt.plot(history.history['val_loss'])"
      ],
      "metadata": {
        "colab": {
          "base_uri": "https://localhost:8080/",
          "height": 282
        },
        "id": "IgYcavzXtRKd",
        "outputId": "c66d4d20-54e0-40c0-b8e5-03e00f84e006"
      },
      "execution_count": 22,
      "outputs": [
        {
          "output_type": "execute_result",
          "data": {
            "text/plain": [
              "[<matplotlib.lines.Line2D at 0x7f4aab8e3fa0>]"
            ]
          },
          "metadata": {},
          "execution_count": 22
        },
        {
          "output_type": "display_data",
          "data": {
            "text/plain": [
              "<Figure size 432x288 with 1 Axes>"
            ],
            "image/png": "[encoded data removed]"
          },
          "metadata": {
            "needs_background": "light"
          }
        }
      ]
    },
    {
      "cell_type": "code",
      "source": [
        "plt.plot(history.history['accuracy'])\n",
        "plt.plot(history.history['val_accuracy'])"
      ],
      "metadata": {
        "colab": {
          "base_uri": "https://localhost:8080/",
          "height": 282
        },
        "id": "Sp6IqVnZtW9b",
        "outputId": "ee2af2e3-14e6-4e78-bc96-00970f7d66a8"
      },
      "execution_count": 23,
      "outputs": [
        {
          "output_type": "execute_result",
          "data": {
            "text/plain": [
              "[<matplotlib.lines.Line2D at 0x7f4aab850310>]"
            ]
          },
          "metadata": {},
          "execution_count": 23
        },
        {
          "output_type": "display_data",
          "data": {
            "text/plain": [
              "<Figure size 432x288 with 1 Axes>"
            ],
            "image/png": "[encoded data removed]"
          },
          "metadata": {
            "needs_background": "light"
          }
        }
      ]
    },
    {
      "cell_type": "code",
      "source": [
        "# plot the data\n",
        "plt.imshow(x_test[1])"
      ],
      "metadata": {
        "colab": {
          "base_uri": "https://localhost:8080/",
          "height": 282
        },
        "id": "sjrm5sDsu3px",
        "outputId": "21dfecb4-1ac3-4bd7-df94-737860991cda"
      },
      "execution_count": 24,
      "outputs": [
        {
          "output_type": "execute_result",
          "data": {
            "text/plain": [
              "<matplotlib.image.AxesImage at 0x7f4aab7e2b20>"
            ]
          },
          "metadata": {},
          "execution_count": 24
        },
        {
          "output_type": "display_data",
          "data": {
            "text/plain": [
              "<Figure size 432x288 with 1 Axes>"
            ],
            "image/png": "[encoded data removed]"
          },
          "metadata": {
            "needs_background": "light"
          }
        }
      ]
    },
    {
      "cell_type": "code",
      "source": [
        "# predict the same row\n",
        "model.predict(x_test[1].reshape(1,28,28)).argmax(axis=1)"
      ],
      "metadata": {
        "colab": {
          "base_uri": "https://localhost:8080/"
        },
        "id": "xzOFmQlcu-YA",
        "outputId": "cc0ee71e-8808-49b2-fe6a-1254c0f48b62"
      },
      "execution_count": 25,
      "outputs": [
        {
          "output_type": "stream",
          "name": "stdout",
          "text": [
            "1/1 [==============================] - 0s 78ms/step\n"
          ]
        },
        {
          "output_type": "execute_result",
          "data": {
            "text/plain": [
              "array([2])"
            ]
          },
          "metadata": {},
          "execution_count": 25
        }
      ]
    }
  ]
}
