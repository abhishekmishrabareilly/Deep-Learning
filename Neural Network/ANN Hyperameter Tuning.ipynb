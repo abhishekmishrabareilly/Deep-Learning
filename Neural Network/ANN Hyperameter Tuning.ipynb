{
  "nbformat": 4,
  "nbformat_minor": 0,
  "metadata": {
    "colab": {
      "provenance": [],
      "mount_file_id": "1VKNJT8PTD4YgaQ9xa3EQD2wWOVoLiXkV",
      "authorship_tag": "ABX9TyNCFKmz7jWV9Y9jgM7fHhE+",
      "include_colab_link": true
    },
    "kernelspec": {
      "name": "python3",
      "display_name": "Python 3"
    },
    "language_info": {
      "name": "python"
    }
  },
  "cells": [
    {
      "cell_type": "markdown",
      "metadata": {
        "id": "view-in-github",
        "colab_type": "text"
      },
      "source": [
        "<a href=\"https://colab.research.google.com/github/abhishekmishra-bareilly/Deep-Learning/blob/main/Keras_Hyperparameter_Tuning.ipynb\" target=\"_parent\"><img src=\"https://colab.research.google.com/assets/colab-badge.svg\" alt=\"Open In Colab\"/></a>"
      ]
    },
    {
      "cell_type": "code",
      "execution_count": 43,
      "metadata": {
        "id": "Fs6qYAaMJS3i"
      },
      "outputs": [],
      "source": [
        "import numpy as np\n",
        "import pandas as pd\n"
      ]
    },
    {
      "cell_type": "markdown",
      "source": [
        "## Data overview"
      ],
      "metadata": {
        "id": "gR3tLJhnLjl9"
      }
    },
    {
      "cell_type": "code",
      "source": [
        "data = pd.read_csv('/content/drive/MyDrive/Colab Notebooks/Deep Learning/learn outside/diabetes.csv')"
      ],
      "metadata": {
        "id": "3pmhin_PLG-m"
      },
      "execution_count": 44,
      "outputs": []
    },
    {
      "cell_type": "code",
      "source": [
        "data.head()"
      ],
      "metadata": {
        "colab": {
          "base_uri": "https://localhost:8080/",
          "height": 206
        },
        "id": "93kGpZDlLLBB",
        "outputId": "a140126f-20d5-455e-c8e2-9f18a7d4011e"
      },
      "execution_count": 45,
      "outputs": [
        {
          "output_type": "execute_result",
          "data": {
            "text/plain": [
              "   Pregnancies  Glucose  BloodPressure  SkinThickness  Insulin   BMI  \\\n",
              "0            6      148             72             35        0  33.6   \n",
              "1            1       85             66             29        0  26.6   \n",
              "2            8      183             64              0        0  23.3   \n",
              "3            1       89             66             23       94  28.1   \n",
              "4            0      137             40             35      168  43.1   \n",
              "\n",
              "   DiabetesPedigreeFunction  Age  Outcome  \n",
              "0                     0.627   50        1  \n",
              "1                     0.351   31        0  \n",
              "2                     0.672   32        1  \n",
              "3                     0.167   21        0  \n",
              "4                     2.288   33        1  "
            ],
            "text/html": [
              "\n",
              "  <div id=\"df-7faf1993-69be-48f0-8128-97ad214770fa\">\n",
              "    <div class=\"colab-df-container\">\n",
              "      <div>\n",
              "<style scoped>\n",
              "    .dataframe tbody tr th:only-of-type {\n",
              "        vertical-align: middle;\n",
              "    }\n",
              "\n",
              "    .dataframe tbody tr th {\n",
              "        vertical-align: top;\n",
              "    }\n",
              "\n",
              "    .dataframe thead th {\n",
              "        text-align: right;\n",
              "    }\n",
              "</style>\n",
              "<table border=\"1\" class=\"dataframe\">\n",
              "  <thead>\n",
              "    <tr style=\"text-align: right;\">\n",
              "      <th></th>\n",
              "      <th>Pregnancies</th>\n",
              "      <th>Glucose</th>\n",
              "      <th>BloodPressure</th>\n",
              "      <th>SkinThickness</th>\n",
              "      <th>Insulin</th>\n",
              "      <th>BMI</th>\n",
              "      <th>DiabetesPedigreeFunction</th>\n",
              "      <th>Age</th>\n",
              "      <th>Outcome</th>\n",
              "    </tr>\n",
              "  </thead>\n",
              "  <tbody>\n",
              "    <tr>\n",
              "      <th>0</th>\n",
              "      <td>6</td>\n",
              "      <td>148</td>\n",
              "      <td>72</td>\n",
              "      <td>35</td>\n",
              "      <td>0</td>\n",
              "      <td>33.6</td>\n",
              "      <td>0.627</td>\n",
              "      <td>50</td>\n",
              "      <td>1</td>\n",
              "    </tr>\n",
              "    <tr>\n",
              "      <th>1</th>\n",
              "      <td>1</td>\n",
              "      <td>85</td>\n",
              "      <td>66</td>\n",
              "      <td>29</td>\n",
              "      <td>0</td>\n",
              "      <td>26.6</td>\n",
              "      <td>0.351</td>\n",
              "      <td>31</td>\n",
              "      <td>0</td>\n",
              "    </tr>\n",
              "    <tr>\n",
              "      <th>2</th>\n",
              "      <td>8</td>\n",
              "      <td>183</td>\n",
              "      <td>64</td>\n",
              "      <td>0</td>\n",
              "      <td>0</td>\n",
              "      <td>23.3</td>\n",
              "      <td>0.672</td>\n",
              "      <td>32</td>\n",
              "      <td>1</td>\n",
              "    </tr>\n",
              "    <tr>\n",
              "      <th>3</th>\n",
              "      <td>1</td>\n",
              "      <td>89</td>\n",
              "      <td>66</td>\n",
              "      <td>23</td>\n",
              "      <td>94</td>\n",
              "      <td>28.1</td>\n",
              "      <td>0.167</td>\n",
              "      <td>21</td>\n",
              "      <td>0</td>\n",
              "    </tr>\n",
              "    <tr>\n",
              "      <th>4</th>\n",
              "      <td>0</td>\n",
              "      <td>137</td>\n",
              "      <td>40</td>\n",
              "      <td>35</td>\n",
              "      <td>168</td>\n",
              "      <td>43.1</td>\n",
              "      <td>2.288</td>\n",
              "      <td>33</td>\n",
              "      <td>1</td>\n",
              "    </tr>\n",
              "  </tbody>\n",
              "</table>\n",
              "</div>\n",
              "      <button class=\"colab-df-convert\" onclick=\"convertToInteractive('df-7faf1993-69be-48f0-8128-97ad214770fa')\"\n",
              "              title=\"Convert this dataframe to an interactive table.\"\n",
              "              style=\"display:none;\">\n",
              "        \n",
              "  <svg xmlns=\"http://www.w3.org/2000/svg\" height=\"24px\"viewBox=\"0 0 24 24\"\n",
              "       width=\"24px\">\n",
              "    <path d=\"M0 0h24v24H0V0z\" fill=\"none\"/>\n",
              "    <path d=\"M18.56 5.44l.94 2.06.94-2.06 2.06-.94-2.06-.94-.94-2.06-.94 2.06-2.06.94zm-11 1L8.5 8.5l.94-2.06 2.06-.94-2.06-.94L8.5 2.5l-.94 2.06-2.06.94zm10 10l.94 2.06.94-2.06 2.06-.94-2.06-.94-.94-2.06-.94 2.06-2.06.94z\"/><path d=\"M17.41 7.96l-1.37-1.37c-.4-.4-.92-.59-1.43-.59-.52 0-1.04.2-1.43.59L10.3 9.45l-7.72 7.72c-.78.78-.78 2.05 0 2.83L4 21.41c.39.39.9.59 1.41.59.51 0 1.02-.2 1.41-.59l7.78-7.78 2.81-2.81c.8-.78.8-2.07 0-2.86zM5.41 20L4 18.59l7.72-7.72 1.47 1.35L5.41 20z\"/>\n",
              "  </svg>\n",
              "      </button>\n",
              "      \n",
              "  <style>\n",
              "    .colab-df-container {\n",
              "      display:flex;\n",
              "      flex-wrap:wrap;\n",
              "      gap: 12px;\n",
              "    }\n",
              "\n",
              "    .colab-df-convert {\n",
              "      background-color: #E8F0FE;\n",
              "      border: none;\n",
              "      border-radius: 50%;\n",
              "      cursor: pointer;\n",
              "      display: none;\n",
              "      fill: #1967D2;\n",
              "      height: 32px;\n",
              "      padding: 0 0 0 0;\n",
              "      width: 32px;\n",
              "    }\n",
              "\n",
              "    .colab-df-convert:hover {\n",
              "      background-color: #E2EBFA;\n",
              "      box-shadow: 0px 1px 2px rgba(60, 64, 67, 0.3), 0px 1px 3px 1px rgba(60, 64, 67, 0.15);\n",
              "      fill: #174EA6;\n",
              "    }\n",
              "\n",
              "    [theme=dark] .colab-df-convert {\n",
              "      background-color: #3B4455;\n",
              "      fill: #D2E3FC;\n",
              "    }\n",
              "\n",
              "    [theme=dark] .colab-df-convert:hover {\n",
              "      background-color: #434B5C;\n",
              "      box-shadow: 0px 1px 3px 1px rgba(0, 0, 0, 0.15);\n",
              "      filter: drop-shadow(0px 1px 2px rgba(0, 0, 0, 0.3));\n",
              "      fill: #FFFFFF;\n",
              "    }\n",
              "  </style>\n",
              "\n",
              "      <script>\n",
              "        const buttonEl =\n",
              "          document.querySelector('#df-7faf1993-69be-48f0-8128-97ad214770fa button.colab-df-convert');\n",
              "        buttonEl.style.display =\n",
              "          google.colab.kernel.accessAllowed ? 'block' : 'none';\n",
              "\n",
              "        async function convertToInteractive(key) {\n",
              "          const element = document.querySelector('#df-7faf1993-69be-48f0-8128-97ad214770fa');\n",
              "          const dataTable =\n",
              "            await google.colab.kernel.invokeFunction('convertToInteractive',\n",
              "                                                     [key], {});\n",
              "          if (!dataTable) return;\n",
              "\n",
              "          const docLinkHtml = 'Like what you see? Visit the ' +\n",
              "            '<a target=\"_blank\" href=https://colab.research.google.com/notebooks/data_table.ipynb>data table notebook</a>'\n",
              "            + ' to learn more about interactive tables.';\n",
              "          element.innerHTML = '';\n",
              "          dataTable['output_type'] = 'display_data';\n",
              "          await google.colab.output.renderOutput(dataTable, element);\n",
              "          const docLink = document.createElement('div');\n",
              "          docLink.innerHTML = docLinkHtml;\n",
              "          element.appendChild(docLink);\n",
              "        }\n",
              "      </script>\n",
              "    </div>\n",
              "  </div>\n",
              "  "
            ]
          },
          "metadata": {},
          "execution_count": 45
        }
      ]
    },
    {
      "cell_type": "code",
      "source": [
        "# Check the corelation\n",
        "data.corr()['Outcome']"
      ],
      "metadata": {
        "colab": {
          "base_uri": "https://localhost:8080/"
        },
        "id": "9RxA_DuRLMu9",
        "outputId": "e70ef035-5f68-4dac-97c4-a9993240431e"
      },
      "execution_count": 46,
      "outputs": [
        {
          "output_type": "execute_result",
          "data": {
            "text/plain": [
              "Pregnancies                 0.221898\n",
              "Glucose                     0.466581\n",
              "BloodPressure               0.065068\n",
              "SkinThickness               0.074752\n",
              "Insulin                     0.130548\n",
              "BMI                         0.292695\n",
              "DiabetesPedigreeFunction    0.173844\n",
              "Age                         0.238356\n",
              "Outcome                     1.000000\n",
              "Name: Outcome, dtype: float64"
            ]
          },
          "metadata": {},
          "execution_count": 46
        }
      ]
    },
    {
      "cell_type": "code",
      "source": [
        "x = data.iloc[:,:-1]\n",
        "y = data.iloc[:,-1]"
      ],
      "metadata": {
        "id": "PzLRYQPmLbfn"
      },
      "execution_count": 47,
      "outputs": []
    },
    {
      "cell_type": "code",
      "source": [
        "from sklearn.preprocessing import StandardScaler\n",
        "scaler = StandardScaler()\n",
        "x = scaler.fit_transform(x)\n",
        "x"
      ],
      "metadata": {
        "colab": {
          "base_uri": "https://localhost:8080/"
        },
        "id": "AU4GIJnMOtwv",
        "outputId": "eb428cee-2582-45eb-f96e-ee477df554a0"
      },
      "execution_count": 48,
      "outputs": [
        {
          "output_type": "execute_result",
          "data": {
            "text/plain": [
              "array([[ 0.63994726,  0.84832379,  0.14964075, ...,  0.20401277,\n",
              "         0.46849198,  1.4259954 ],\n",
              "       [-0.84488505, -1.12339636, -0.16054575, ..., -0.68442195,\n",
              "        -0.36506078, -0.19067191],\n",
              "       [ 1.23388019,  1.94372388, -0.26394125, ..., -1.10325546,\n",
              "         0.60439732, -0.10558415],\n",
              "       ...,\n",
              "       [ 0.3429808 ,  0.00330087,  0.14964075, ..., -0.73518964,\n",
              "        -0.68519336, -0.27575966],\n",
              "       [-0.84488505,  0.1597866 , -0.47073225, ..., -0.24020459,\n",
              "        -0.37110101,  1.17073215],\n",
              "       [-0.84488505, -0.8730192 ,  0.04624525, ..., -0.20212881,\n",
              "        -0.47378505, -0.87137393]])"
            ]
          },
          "metadata": {},
          "execution_count": 48
        }
      ]
    },
    {
      "cell_type": "code",
      "source": [
        "from sklearn.model_selection import train_test_split\n",
        "\n",
        "x_train,x_test,y_train,y_test = train_test_split(x,y,test_size=0.2,random_state=1)"
      ],
      "metadata": {
        "id": "BQBm4FEfOP40"
      },
      "execution_count": 49,
      "outputs": []
    },
    {
      "cell_type": "markdown",
      "source": [
        "## ANN model implimentation"
      ],
      "metadata": {
        "id": "krqgD5pnPWBJ"
      }
    },
    {
      "cell_type": "code",
      "source": [
        "import tensorflow\n",
        "from tensorflow import keras\n",
        "from keras import Sequential\n",
        "from keras.layers import Dense,Dropout\n"
      ],
      "metadata": {
        "id": "WRHtGfVtORa3"
      },
      "execution_count": 115,
      "outputs": []
    },
    {
      "cell_type": "code",
      "source": [
        "# Model implimentation\n",
        "model = Sequential()\n",
        "\n",
        "#adding model dense layers\n",
        "\n",
        "model.add(Dense(32,activation='relu',input_dim=8))\n",
        "\n",
        "model.add(Dense(1,activation='sigmoid'))\n",
        "\n",
        "\n",
        "# Model summary\n",
        "model.summary()\n",
        "\n",
        "# modelcompilation\n",
        "model.compile(loss='binary_crossentropy',optimizer='adam',metrics=['accuracy'])"
      ],
      "metadata": {
        "colab": {
          "base_uri": "https://localhost:8080/"
        },
        "id": "n_iXDC5wPb_f",
        "outputId": "97e69958-00bb-4d3b-f076-d31a18d938f0"
      },
      "execution_count": 51,
      "outputs": [
        {
          "output_type": "stream",
          "name": "stdout",
          "text": [
            "Model: \"sequential_2\"\n",
            "_________________________________________________________________\n",
            " Layer (type)                Output Shape              Param #   \n",
            "=================================================================\n",
            " dense_4 (Dense)             (None, 32)                288       \n",
            "                                                                 \n",
            " dense_5 (Dense)             (None, 1)                 33        \n",
            "                                                                 \n",
            "=================================================================\n",
            "Total params: 321\n",
            "Trainable params: 321\n",
            "Non-trainable params: 0\n",
            "_________________________________________________________________\n"
          ]
        }
      ]
    },
    {
      "cell_type": "code",
      "source": [
        "history = model.fit(x_train,y_train,batch_size=32,epochs=10,validation_data=(x_test,y_test))"
      ],
      "metadata": {
        "colab": {
          "base_uri": "https://localhost:8080/"
        },
        "id": "4mt4R-zTP2AS",
        "outputId": "eea1a2ba-382a-4625-e92e-0d6c23e30eec"
      },
      "execution_count": 52,
      "outputs": [
        {
          "output_type": "stream",
          "name": "stdout",
          "text": [
            "Epoch 1/10\n",
            "20/20 [==============================] - 1s 10ms/step - loss: 0.9128 - accuracy: 0.3518 - val_loss: 0.8136 - val_accuracy: 0.3571\n",
            "Epoch 2/10\n",
            "20/20 [==============================] - 0s 4ms/step - loss: 0.7905 - accuracy: 0.3518 - val_loss: 0.7196 - val_accuracy: 0.4416\n",
            "Epoch 3/10\n",
            "20/20 [==============================] - 0s 3ms/step - loss: 0.7073 - accuracy: 0.4723 - val_loss: 0.6509 - val_accuracy: 0.6558\n",
            "Epoch 4/10\n",
            "20/20 [==============================] - 0s 4ms/step - loss: 0.6472 - accuracy: 0.6482 - val_loss: 0.6038 - val_accuracy: 0.7532\n",
            "Epoch 5/10\n",
            "20/20 [==============================] - 0s 3ms/step - loss: 0.6044 - accuracy: 0.7231 - val_loss: 0.5687 - val_accuracy: 0.7792\n",
            "Epoch 6/10\n",
            "20/20 [==============================] - 0s 3ms/step - loss: 0.5731 - accuracy: 0.7476 - val_loss: 0.5437 - val_accuracy: 0.7987\n",
            "Epoch 7/10\n",
            "20/20 [==============================] - 0s 4ms/step - loss: 0.5510 - accuracy: 0.7476 - val_loss: 0.5237 - val_accuracy: 0.8117\n",
            "Epoch 8/10\n",
            "20/20 [==============================] - 0s 5ms/step - loss: 0.5327 - accuracy: 0.7476 - val_loss: 0.5090 - val_accuracy: 0.8182\n",
            "Epoch 9/10\n",
            "20/20 [==============================] - 0s 4ms/step - loss: 0.5199 - accuracy: 0.7557 - val_loss: 0.4981 - val_accuracy: 0.7922\n",
            "Epoch 10/10\n",
            "20/20 [==============================] - 0s 3ms/step - loss: 0.5084 - accuracy: 0.7606 - val_loss: 0.4894 - val_accuracy: 0.7987\n"
          ]
        }
      ]
    },
    {
      "cell_type": "markdown",
      "source": [
        "## 1. how to select best optimizer\n",
        "## 2. no.of nodes in a layer\n",
        "## 3. how to select no of layers\n",
        "## 4. all in one model"
      ],
      "metadata": {
        "id": "A0X2Nf-TQ0qB"
      }
    },
    {
      "cell_type": "markdown",
      "source": [
        "## **1. How to select best optimizer**"
      ],
      "metadata": {
        "id": "DHG-8ugERKkh"
      }
    },
    {
      "cell_type": "code",
      "source": [
        "!pip install -q -U keras-tuner"
      ],
      "metadata": {
        "id": "clDtr76xRd4Q"
      },
      "execution_count": 53,
      "outputs": []
    },
    {
      "cell_type": "code",
      "source": [
        "import keras_tuner as kt"
      ],
      "metadata": {
        "id": "WKf-hhw-QJOG"
      },
      "execution_count": 54,
      "outputs": []
    },
    {
      "cell_type": "code",
      "source": [
        "def build_model(hp):\n",
        "  # Model implimentation\n",
        "  model = Sequential()\n",
        "\n",
        "  #adding model dense layers\n",
        "\n",
        "  model.add(Dense(32,activation='relu',input_dim=8))\n",
        "\n",
        "  model.add(Dense(1,activation='sigmoid'))\n",
        "\n",
        "  # set values of optimizers\n",
        "  optimizer = hp.Choice('optimizer', values = ['adam','sgd','rmsprop','adadelta'])\n",
        "\n",
        "\n",
        "  model.compile(optimizer=optimizer, loss='binary_crossentropy',metrics=['accuracy'])\n",
        "\n",
        "  return model"
      ],
      "metadata": {
        "id": "Ox0SrJC9Rbnt"
      },
      "execution_count": 55,
      "outputs": []
    },
    {
      "cell_type": "code",
      "source": [
        "# Creating tuner\n",
        "tuner = kt.RandomSearch(build_model, objective = 'val_accuracy', max_trials = 5)"
      ],
      "metadata": {
        "id": "MJzWd8s_UNV9"
      },
      "execution_count": 56,
      "outputs": []
    },
    {
      "cell_type": "code",
      "source": [
        "tuner.search(x_train, y_train, epochs=5, validation_data=(x_test,y_test))"
      ],
      "metadata": {
        "id": "u_XxL13HUtV-"
      },
      "execution_count": 57,
      "outputs": []
    },
    {
      "cell_type": "code",
      "source": [
        "# Getting best optimizer values\n",
        "tuner.get_best_hyperparameters()[0].values"
      ],
      "metadata": {
        "colab": {
          "base_uri": "https://localhost:8080/"
        },
        "id": "fEpB4s2lVmOx",
        "outputId": "7c73addd-c965-4a7f-ea47-8b2baa80c73c"
      },
      "execution_count": 60,
      "outputs": [
        {
          "output_type": "execute_result",
          "data": {
            "text/plain": [
              "{'optimizer': 'rmsprop'}"
            ]
          },
          "metadata": {},
          "execution_count": 60
        }
      ]
    },
    {
      "cell_type": "code",
      "source": [
        "model = tuner.get_best_models(num_models=1)[0]"
      ],
      "metadata": {
        "id": "qWtBeXmYWO15"
      },
      "execution_count": 62,
      "outputs": []
    },
    {
      "cell_type": "code",
      "source": [
        "model.summary()"
      ],
      "metadata": {
        "colab": {
          "base_uri": "https://localhost:8080/"
        },
        "id": "puybPgwGWkyU",
        "outputId": "896273cb-7105-4951-c7d1-f57ae53e20e8"
      },
      "execution_count": 63,
      "outputs": [
        {
          "output_type": "stream",
          "name": "stdout",
          "text": [
            "Model: \"sequential\"\n",
            "_________________________________________________________________\n",
            " Layer (type)                Output Shape              Param #   \n",
            "=================================================================\n",
            " dense (Dense)               (None, 32)                288       \n",
            "                                                                 \n",
            " dense_1 (Dense)             (None, 1)                 33        \n",
            "                                                                 \n",
            "=================================================================\n",
            "Total params: 321\n",
            "Trainable params: 321\n",
            "Non-trainable params: 0\n",
            "_________________________________________________________________\n"
          ]
        }
      ]
    },
    {
      "cell_type": "code",
      "source": [
        "model.fit(x_train, y_train, batch_size=32, epochs=100, initial_epoch = 6, validation_data=(x_test,y_test))"
      ],
      "metadata": {
        "colab": {
          "base_uri": "https://localhost:8080/"
        },
        "id": "-RMDEREMWrRL",
        "outputId": "56e99571-1783-4955-9069-9bece33abadf"
      },
      "execution_count": 65,
      "outputs": [
        {
          "output_type": "stream",
          "name": "stdout",
          "text": [
            "Epoch 7/100\n",
            "20/20 [==============================] - 1s 10ms/step - loss: 0.5202 - accuracy: 0.7362 - val_loss: 0.5045 - val_accuracy: 0.7922\n",
            "Epoch 8/100\n",
            "20/20 [==============================] - 0s 4ms/step - loss: 0.5047 - accuracy: 0.7427 - val_loss: 0.4924 - val_accuracy: 0.7987\n",
            "Epoch 9/100\n",
            "20/20 [==============================] - 0s 4ms/step - loss: 0.4931 - accuracy: 0.7508 - val_loss: 0.4839 - val_accuracy: 0.7922\n",
            "Epoch 10/100\n",
            "20/20 [==============================] - 0s 3ms/step - loss: 0.4843 - accuracy: 0.7671 - val_loss: 0.4775 - val_accuracy: 0.7987\n",
            "Epoch 11/100\n",
            "20/20 [==============================] - 0s 3ms/step - loss: 0.4769 - accuracy: 0.7638 - val_loss: 0.4738 - val_accuracy: 0.7987\n",
            "Epoch 12/100\n",
            "20/20 [==============================] - 0s 3ms/step - loss: 0.4709 - accuracy: 0.7752 - val_loss: 0.4718 - val_accuracy: 0.7987\n",
            "Epoch 13/100\n",
            "20/20 [==============================] - 0s 4ms/step - loss: 0.4664 - accuracy: 0.7736 - val_loss: 0.4690 - val_accuracy: 0.7987\n",
            "Epoch 14/100\n",
            "20/20 [==============================] - 0s 3ms/step - loss: 0.4629 - accuracy: 0.7769 - val_loss: 0.4669 - val_accuracy: 0.8052\n",
            "Epoch 15/100\n",
            "20/20 [==============================] - 0s 3ms/step - loss: 0.4600 - accuracy: 0.7801 - val_loss: 0.4641 - val_accuracy: 0.8052\n",
            "Epoch 16/100\n",
            "20/20 [==============================] - 0s 3ms/step - loss: 0.4575 - accuracy: 0.7785 - val_loss: 0.4633 - val_accuracy: 0.8052\n",
            "Epoch 17/100\n",
            "20/20 [==============================] - 0s 3ms/step - loss: 0.4557 - accuracy: 0.7801 - val_loss: 0.4633 - val_accuracy: 0.8117\n",
            "Epoch 18/100\n",
            "20/20 [==============================] - 0s 3ms/step - loss: 0.4531 - accuracy: 0.7834 - val_loss: 0.4631 - val_accuracy: 0.8052\n",
            "Epoch 19/100\n",
            "20/20 [==============================] - 0s 3ms/step - loss: 0.4516 - accuracy: 0.7834 - val_loss: 0.4636 - val_accuracy: 0.7987\n",
            "Epoch 20/100\n",
            "20/20 [==============================] - 0s 3ms/step - loss: 0.4499 - accuracy: 0.7883 - val_loss: 0.4634 - val_accuracy: 0.8052\n",
            "Epoch 21/100\n",
            "20/20 [==============================] - 0s 4ms/step - loss: 0.4485 - accuracy: 0.7850 - val_loss: 0.4617 - val_accuracy: 0.8052\n",
            "Epoch 22/100\n",
            "20/20 [==============================] - 0s 4ms/step - loss: 0.4472 - accuracy: 0.7834 - val_loss: 0.4602 - val_accuracy: 0.8117\n",
            "Epoch 23/100\n",
            "20/20 [==============================] - 0s 4ms/step - loss: 0.4465 - accuracy: 0.7866 - val_loss: 0.4609 - val_accuracy: 0.8117\n",
            "Epoch 24/100\n",
            "20/20 [==============================] - 0s 3ms/step - loss: 0.4451 - accuracy: 0.7866 - val_loss: 0.4622 - val_accuracy: 0.8117\n",
            "Epoch 25/100\n",
            "20/20 [==============================] - 0s 4ms/step - loss: 0.4443 - accuracy: 0.7932 - val_loss: 0.4616 - val_accuracy: 0.8117\n",
            "Epoch 26/100\n",
            "20/20 [==============================] - 0s 3ms/step - loss: 0.4435 - accuracy: 0.7883 - val_loss: 0.4628 - val_accuracy: 0.8052\n",
            "Epoch 27/100\n",
            "20/20 [==============================] - 0s 6ms/step - loss: 0.4427 - accuracy: 0.7883 - val_loss: 0.4634 - val_accuracy: 0.7987\n",
            "Epoch 28/100\n",
            "20/20 [==============================] - 0s 3ms/step - loss: 0.4416 - accuracy: 0.7915 - val_loss: 0.4636 - val_accuracy: 0.7987\n",
            "Epoch 29/100\n",
            "20/20 [==============================] - 0s 4ms/step - loss: 0.4412 - accuracy: 0.7932 - val_loss: 0.4636 - val_accuracy: 0.7987\n",
            "Epoch 30/100\n",
            "20/20 [==============================] - 0s 4ms/step - loss: 0.4401 - accuracy: 0.7899 - val_loss: 0.4634 - val_accuracy: 0.8052\n",
            "Epoch 31/100\n",
            "20/20 [==============================] - 0s 3ms/step - loss: 0.4398 - accuracy: 0.7915 - val_loss: 0.4632 - val_accuracy: 0.8052\n",
            "Epoch 32/100\n",
            "20/20 [==============================] - 0s 4ms/step - loss: 0.4391 - accuracy: 0.7866 - val_loss: 0.4630 - val_accuracy: 0.8117\n",
            "Epoch 33/100\n",
            "20/20 [==============================] - 0s 5ms/step - loss: 0.4381 - accuracy: 0.7899 - val_loss: 0.4633 - val_accuracy: 0.8117\n",
            "Epoch 34/100\n",
            "20/20 [==============================] - 0s 3ms/step - loss: 0.4376 - accuracy: 0.7915 - val_loss: 0.4633 - val_accuracy: 0.8117\n",
            "Epoch 35/100\n",
            "20/20 [==============================] - 0s 3ms/step - loss: 0.4374 - accuracy: 0.7883 - val_loss: 0.4610 - val_accuracy: 0.8117\n",
            "Epoch 36/100\n",
            "20/20 [==============================] - 0s 4ms/step - loss: 0.4366 - accuracy: 0.7883 - val_loss: 0.4620 - val_accuracy: 0.8117\n",
            "Epoch 37/100\n",
            "20/20 [==============================] - 0s 3ms/step - loss: 0.4361 - accuracy: 0.7899 - val_loss: 0.4622 - val_accuracy: 0.8117\n",
            "Epoch 38/100\n",
            "20/20 [==============================] - 0s 4ms/step - loss: 0.4360 - accuracy: 0.7899 - val_loss: 0.4628 - val_accuracy: 0.8117\n",
            "Epoch 39/100\n",
            "20/20 [==============================] - 0s 3ms/step - loss: 0.4351 - accuracy: 0.7899 - val_loss: 0.4631 - val_accuracy: 0.8117\n",
            "Epoch 40/100\n",
            "20/20 [==============================] - 0s 3ms/step - loss: 0.4343 - accuracy: 0.7866 - val_loss: 0.4626 - val_accuracy: 0.8117\n",
            "Epoch 41/100\n",
            "20/20 [==============================] - 0s 4ms/step - loss: 0.4341 - accuracy: 0.7915 - val_loss: 0.4620 - val_accuracy: 0.8117\n",
            "Epoch 42/100\n",
            "20/20 [==============================] - 0s 3ms/step - loss: 0.4333 - accuracy: 0.7866 - val_loss: 0.4630 - val_accuracy: 0.8182\n",
            "Epoch 43/100\n",
            "20/20 [==============================] - 0s 3ms/step - loss: 0.4328 - accuracy: 0.7866 - val_loss: 0.4629 - val_accuracy: 0.8117\n",
            "Epoch 44/100\n",
            "20/20 [==============================] - 0s 3ms/step - loss: 0.4329 - accuracy: 0.7883 - val_loss: 0.4625 - val_accuracy: 0.8182\n",
            "Epoch 45/100\n",
            "20/20 [==============================] - 0s 3ms/step - loss: 0.4320 - accuracy: 0.7899 - val_loss: 0.4624 - val_accuracy: 0.8182\n",
            "Epoch 46/100\n",
            "20/20 [==============================] - 0s 3ms/step - loss: 0.4318 - accuracy: 0.7915 - val_loss: 0.4603 - val_accuracy: 0.8182\n",
            "Epoch 47/100\n",
            "20/20 [==============================] - 0s 4ms/step - loss: 0.4311 - accuracy: 0.7883 - val_loss: 0.4609 - val_accuracy: 0.8182\n",
            "Epoch 48/100\n",
            "20/20 [==============================] - 0s 3ms/step - loss: 0.4309 - accuracy: 0.7883 - val_loss: 0.4611 - val_accuracy: 0.8182\n",
            "Epoch 49/100\n",
            "20/20 [==============================] - 0s 3ms/step - loss: 0.4304 - accuracy: 0.7883 - val_loss: 0.4613 - val_accuracy: 0.8182\n",
            "Epoch 50/100\n",
            "20/20 [==============================] - 0s 4ms/step - loss: 0.4299 - accuracy: 0.7915 - val_loss: 0.4604 - val_accuracy: 0.8182\n",
            "Epoch 51/100\n",
            "20/20 [==============================] - 0s 4ms/step - loss: 0.4297 - accuracy: 0.7915 - val_loss: 0.4603 - val_accuracy: 0.8182\n",
            "Epoch 52/100\n",
            "20/20 [==============================] - 0s 4ms/step - loss: 0.4293 - accuracy: 0.7932 - val_loss: 0.4614 - val_accuracy: 0.8182\n",
            "Epoch 53/100\n",
            "20/20 [==============================] - 0s 3ms/step - loss: 0.4290 - accuracy: 0.7899 - val_loss: 0.4619 - val_accuracy: 0.8182\n",
            "Epoch 54/100\n",
            "20/20 [==============================] - 0s 3ms/step - loss: 0.4287 - accuracy: 0.7980 - val_loss: 0.4613 - val_accuracy: 0.8182\n",
            "Epoch 55/100\n",
            "20/20 [==============================] - 0s 3ms/step - loss: 0.4281 - accuracy: 0.7899 - val_loss: 0.4625 - val_accuracy: 0.8182\n",
            "Epoch 56/100\n",
            "20/20 [==============================] - 0s 3ms/step - loss: 0.4277 - accuracy: 0.7915 - val_loss: 0.4623 - val_accuracy: 0.8182\n",
            "Epoch 57/100\n",
            "20/20 [==============================] - 0s 3ms/step - loss: 0.4272 - accuracy: 0.7915 - val_loss: 0.4621 - val_accuracy: 0.8182\n",
            "Epoch 58/100\n",
            "20/20 [==============================] - 0s 3ms/step - loss: 0.4268 - accuracy: 0.7915 - val_loss: 0.4623 - val_accuracy: 0.8052\n",
            "Epoch 59/100\n",
            "20/20 [==============================] - 0s 3ms/step - loss: 0.4264 - accuracy: 0.8062 - val_loss: 0.4622 - val_accuracy: 0.8182\n",
            "Epoch 60/100\n",
            "20/20 [==============================] - 0s 4ms/step - loss: 0.4265 - accuracy: 0.7964 - val_loss: 0.4617 - val_accuracy: 0.8182\n",
            "Epoch 61/100\n",
            "20/20 [==============================] - 0s 4ms/step - loss: 0.4257 - accuracy: 0.8029 - val_loss: 0.4630 - val_accuracy: 0.8247\n",
            "Epoch 62/100\n",
            "20/20 [==============================] - 0s 3ms/step - loss: 0.4261 - accuracy: 0.7964 - val_loss: 0.4632 - val_accuracy: 0.8117\n",
            "Epoch 63/100\n",
            "20/20 [==============================] - 0s 3ms/step - loss: 0.4251 - accuracy: 0.7980 - val_loss: 0.4616 - val_accuracy: 0.8052\n",
            "Epoch 64/100\n",
            "20/20 [==============================] - 0s 4ms/step - loss: 0.4250 - accuracy: 0.8013 - val_loss: 0.4618 - val_accuracy: 0.8052\n",
            "Epoch 65/100\n",
            "20/20 [==============================] - 0s 4ms/step - loss: 0.4247 - accuracy: 0.8029 - val_loss: 0.4620 - val_accuracy: 0.8182\n",
            "Epoch 66/100\n",
            "20/20 [==============================] - 0s 3ms/step - loss: 0.4243 - accuracy: 0.7980 - val_loss: 0.4615 - val_accuracy: 0.8117\n",
            "Epoch 67/100\n",
            "20/20 [==============================] - 0s 3ms/step - loss: 0.4243 - accuracy: 0.8013 - val_loss: 0.4620 - val_accuracy: 0.8117\n",
            "Epoch 68/100\n",
            "20/20 [==============================] - 0s 4ms/step - loss: 0.4239 - accuracy: 0.7997 - val_loss: 0.4611 - val_accuracy: 0.8117\n",
            "Epoch 69/100\n",
            "20/20 [==============================] - 0s 3ms/step - loss: 0.4233 - accuracy: 0.8029 - val_loss: 0.4610 - val_accuracy: 0.8182\n",
            "Epoch 70/100\n",
            "20/20 [==============================] - 0s 3ms/step - loss: 0.4232 - accuracy: 0.8029 - val_loss: 0.4618 - val_accuracy: 0.8182\n",
            "Epoch 71/100\n",
            "20/20 [==============================] - 0s 3ms/step - loss: 0.4231 - accuracy: 0.7997 - val_loss: 0.4611 - val_accuracy: 0.8117\n",
            "Epoch 72/100\n",
            "20/20 [==============================] - 0s 3ms/step - loss: 0.4227 - accuracy: 0.8029 - val_loss: 0.4606 - val_accuracy: 0.8182\n",
            "Epoch 73/100\n",
            "20/20 [==============================] - 0s 4ms/step - loss: 0.4224 - accuracy: 0.8013 - val_loss: 0.4602 - val_accuracy: 0.8182\n",
            "Epoch 74/100\n",
            "20/20 [==============================] - 0s 3ms/step - loss: 0.4220 - accuracy: 0.7980 - val_loss: 0.4611 - val_accuracy: 0.8182\n",
            "Epoch 75/100\n",
            "20/20 [==============================] - 0s 3ms/step - loss: 0.4218 - accuracy: 0.7980 - val_loss: 0.4608 - val_accuracy: 0.8117\n",
            "Epoch 76/100\n",
            "20/20 [==============================] - 0s 3ms/step - loss: 0.4216 - accuracy: 0.8062 - val_loss: 0.4615 - val_accuracy: 0.8117\n",
            "Epoch 77/100\n",
            "20/20 [==============================] - 0s 3ms/step - loss: 0.4213 - accuracy: 0.8013 - val_loss: 0.4616 - val_accuracy: 0.8182\n",
            "Epoch 78/100\n",
            "20/20 [==============================] - 0s 3ms/step - loss: 0.4207 - accuracy: 0.8029 - val_loss: 0.4600 - val_accuracy: 0.8117\n",
            "Epoch 79/100\n",
            "20/20 [==============================] - 0s 4ms/step - loss: 0.4204 - accuracy: 0.8062 - val_loss: 0.4609 - val_accuracy: 0.8117\n",
            "Epoch 80/100\n",
            "20/20 [==============================] - 0s 3ms/step - loss: 0.4204 - accuracy: 0.8062 - val_loss: 0.4621 - val_accuracy: 0.8117\n",
            "Epoch 81/100\n",
            "20/20 [==============================] - 0s 4ms/step - loss: 0.4201 - accuracy: 0.8046 - val_loss: 0.4628 - val_accuracy: 0.8117\n",
            "Epoch 82/100\n",
            "20/20 [==============================] - 0s 3ms/step - loss: 0.4199 - accuracy: 0.8029 - val_loss: 0.4627 - val_accuracy: 0.8117\n",
            "Epoch 83/100\n",
            "20/20 [==============================] - 0s 4ms/step - loss: 0.4198 - accuracy: 0.8029 - val_loss: 0.4630 - val_accuracy: 0.8117\n",
            "Epoch 84/100\n",
            "20/20 [==============================] - 0s 3ms/step - loss: 0.4195 - accuracy: 0.8046 - val_loss: 0.4623 - val_accuracy: 0.8117\n",
            "Epoch 85/100\n",
            "20/20 [==============================] - 0s 3ms/step - loss: 0.4194 - accuracy: 0.8078 - val_loss: 0.4635 - val_accuracy: 0.8182\n",
            "Epoch 86/100\n",
            "20/20 [==============================] - 0s 3ms/step - loss: 0.4186 - accuracy: 0.8062 - val_loss: 0.4635 - val_accuracy: 0.8117\n",
            "Epoch 87/100\n",
            "20/20 [==============================] - 0s 3ms/step - loss: 0.4186 - accuracy: 0.8078 - val_loss: 0.4653 - val_accuracy: 0.8182\n",
            "Epoch 88/100\n",
            "20/20 [==============================] - 0s 3ms/step - loss: 0.4183 - accuracy: 0.8078 - val_loss: 0.4640 - val_accuracy: 0.8117\n",
            "Epoch 89/100\n",
            "20/20 [==============================] - 0s 3ms/step - loss: 0.4182 - accuracy: 0.8062 - val_loss: 0.4627 - val_accuracy: 0.8117\n",
            "Epoch 90/100\n",
            "20/20 [==============================] - 0s 4ms/step - loss: 0.4181 - accuracy: 0.8062 - val_loss: 0.4638 - val_accuracy: 0.8117\n",
            "Epoch 91/100\n",
            "20/20 [==============================] - 0s 4ms/step - loss: 0.4179 - accuracy: 0.8078 - val_loss: 0.4639 - val_accuracy: 0.8117\n",
            "Epoch 92/100\n",
            "20/20 [==============================] - 0s 4ms/step - loss: 0.4177 - accuracy: 0.8062 - val_loss: 0.4650 - val_accuracy: 0.8182\n",
            "Epoch 93/100\n",
            "20/20 [==============================] - 0s 4ms/step - loss: 0.4171 - accuracy: 0.8046 - val_loss: 0.4643 - val_accuracy: 0.8182\n",
            "Epoch 94/100\n",
            "20/20 [==============================] - 0s 3ms/step - loss: 0.4173 - accuracy: 0.8111 - val_loss: 0.4634 - val_accuracy: 0.8117\n",
            "Epoch 95/100\n",
            "20/20 [==============================] - 0s 3ms/step - loss: 0.4168 - accuracy: 0.8046 - val_loss: 0.4634 - val_accuracy: 0.8182\n",
            "Epoch 96/100\n",
            "20/20 [==============================] - 0s 4ms/step - loss: 0.4166 - accuracy: 0.8046 - val_loss: 0.4635 - val_accuracy: 0.8117\n",
            "Epoch 97/100\n",
            "20/20 [==============================] - 0s 3ms/step - loss: 0.4166 - accuracy: 0.8078 - val_loss: 0.4634 - val_accuracy: 0.8117\n",
            "Epoch 98/100\n",
            "20/20 [==============================] - 0s 4ms/step - loss: 0.4165 - accuracy: 0.8111 - val_loss: 0.4614 - val_accuracy: 0.8117\n",
            "Epoch 99/100\n",
            "20/20 [==============================] - 0s 3ms/step - loss: 0.4160 - accuracy: 0.8111 - val_loss: 0.4620 - val_accuracy: 0.8117\n",
            "Epoch 100/100\n",
            "20/20 [==============================] - 0s 3ms/step - loss: 0.4156 - accuracy: 0.8046 - val_loss: 0.4637 - val_accuracy: 0.8117\n"
          ]
        },
        {
          "output_type": "execute_result",
          "data": {
            "text/plain": [
              "<keras.callbacks.History at 0x7f0d019041c0>"
            ]
          },
          "metadata": {},
          "execution_count": 65
        }
      ]
    },
    {
      "cell_type": "markdown",
      "source": [
        "## **2. no. of correct nuarans in a layer**"
      ],
      "metadata": {
        "id": "mEJ74TyOXUMF"
      }
    },
    {
      "cell_type": "code",
      "source": [
        "def build_model(hp):\n",
        "  # Model implimentation\n",
        "  model = Sequential()\n",
        "\n",
        "  # set values of optimizers\n",
        "  units = hp.Int('units', min_value = 8,max_value = 128)\n",
        "\n",
        "  #adding model dense layers\n",
        "\n",
        "  model.add(Dense(units = units, activation='relu', input_dim=8))\n",
        "\n",
        "  model.add(Dense(1,activation='sigmoid'))\n",
        "\n",
        "\n",
        "  model.compile(optimizer='rmsprop', loss='binary_crossentropy',metrics=['accuracy'])\n",
        "\n",
        "  return model"
      ],
      "metadata": {
        "id": "P06bfTwOW_Gj"
      },
      "execution_count": 85,
      "outputs": []
    },
    {
      "cell_type": "code",
      "source": [
        "# Tuner object\n",
        "tuner = kt.RandomSearch(build_model, objective = 'val_accuracy', max_trials = 5, directory = 'kk', )"
      ],
      "metadata": {
        "id": "Kb3IVuP8YGSs"
      },
      "execution_count": 87,
      "outputs": []
    },
    {
      "cell_type": "code",
      "source": [
        "tuner.search(x_train, y_train, epochs=5, validation_data=(x_test,y_test))"
      ],
      "metadata": {
        "colab": {
          "base_uri": "https://localhost:8080/"
        },
        "id": "_VplyB4GYXuR",
        "outputId": "ffee18b2-894d-4bda-e69b-74e4b434bc3e"
      },
      "execution_count": 88,
      "outputs": [
        {
          "output_type": "stream",
          "name": "stdout",
          "text": [
            "Trial 5 Complete [00h 00m 01s]\n",
            "val_accuracy: 0.7532467246055603\n",
            "\n",
            "Best val_accuracy So Far: 0.8051947951316833\n",
            "Total elapsed time: 00h 00m 07s\n"
          ]
        }
      ]
    },
    {
      "cell_type": "code",
      "source": [
        "# Getting best optimizer values\n",
        "tuner.get_best_hyperparameters()[0].values"
      ],
      "metadata": {
        "colab": {
          "base_uri": "https://localhost:8080/"
        },
        "id": "5rS-f2fcY0bz",
        "outputId": "93de8a68-58f9-4c3e-c090-604c6e4d4592"
      },
      "execution_count": 89,
      "outputs": [
        {
          "output_type": "execute_result",
          "data": {
            "text/plain": [
              "{'units': 108}"
            ]
          },
          "metadata": {},
          "execution_count": 89
        }
      ]
    },
    {
      "cell_type": "code",
      "source": [
        "model = tuner.get_best_models(num_models=1)[0]"
      ],
      "metadata": {
        "id": "fSPic-2EaYtb"
      },
      "execution_count": 90,
      "outputs": []
    },
    {
      "cell_type": "code",
      "source": [
        "model.summary()"
      ],
      "metadata": {
        "colab": {
          "base_uri": "https://localhost:8080/"
        },
        "outputId": "e00dd199-cc6a-4975-badd-7124330a33ce",
        "id": "smHh1rTnaYtg"
      },
      "execution_count": 91,
      "outputs": [
        {
          "output_type": "stream",
          "name": "stdout",
          "text": [
            "Model: \"sequential\"\n",
            "_________________________________________________________________\n",
            " Layer (type)                Output Shape              Param #   \n",
            "=================================================================\n",
            " dense (Dense)               (None, 108)               972       \n",
            "                                                                 \n",
            " dense_1 (Dense)             (None, 1)                 109       \n",
            "                                                                 \n",
            "=================================================================\n",
            "Total params: 1,081\n",
            "Trainable params: 1,081\n",
            "Non-trainable params: 0\n",
            "_________________________________________________________________\n"
          ]
        }
      ]
    },
    {
      "cell_type": "code",
      "source": [
        "model.fit(x_train, y_train, batch_size=32, epochs=100, initial_epoch = 6, validation_data=(x_test,y_test))"
      ],
      "metadata": {
        "id": "jmZkAu3xaYth"
      },
      "execution_count": null,
      "outputs": []
    },
    {
      "cell_type": "markdown",
      "source": [
        "## **3. how to select no of layers**"
      ],
      "metadata": {
        "id": "3jCP38qhbJrL"
      }
    },
    {
      "cell_type": "code",
      "source": [
        "def build_model(hp):\n",
        "  # Model implimentation\n",
        "  model = Sequential()\n",
        "\n",
        "  #adding model dense layers\n",
        "  model.add(Dense(108, activation='relu', input_dim=8))\n",
        "\n",
        "  for i in range(hp.Int('num_layers', min_value=1, max_value =10)):\n",
        "\n",
        "    model.add(Dense(108,activation='relu'))\n",
        "\n",
        "  model.add(Dense(1,activation='sigmoid'))\n",
        "\n",
        "  # Model compiletion\n",
        "  model.compile(optimizer='rmsprop', loss='binary_crossentropy',metrics=['accuracy'])\n",
        "\n",
        "\n",
        "  return model"
      ],
      "metadata": {
        "id": "eCRuFchPbN-h"
      },
      "execution_count": 96,
      "outputs": []
    },
    {
      "cell_type": "code",
      "source": [
        "# Tuner object\n",
        "tuner = kt.RandomSearch(build_model, objective = 'val_accuracy',\n",
        "                        max_trials = 3,\n",
        "                        directory = 'mydr', project_name = 'num_layers')"
      ],
      "metadata": {
        "id": "qzZ59tVVeDV6"
      },
      "execution_count": 97,
      "outputs": []
    },
    {
      "cell_type": "code",
      "source": [
        "tuner.search(x_train, y_train, epochs=5, validation_data=(x_test,y_test))"
      ],
      "metadata": {
        "colab": {
          "base_uri": "https://localhost:8080/"
        },
        "outputId": "62685273-e189-4792-f17c-5a81c9833d24",
        "id": "tx7IZGL9eDV7"
      },
      "execution_count": 98,
      "outputs": [
        {
          "output_type": "stream",
          "name": "stdout",
          "text": [
            "Trial 3 Complete [00h 00m 02s]\n",
            "val_accuracy: 0.8311688303947449\n",
            "\n",
            "Best val_accuracy So Far: 0.8311688303947449\n",
            "Total elapsed time: 00h 00m 07s\n"
          ]
        }
      ]
    },
    {
      "cell_type": "code",
      "source": [
        "# Getting best optimizer values\n",
        "tuner.get_best_hyperparameters()[0].values"
      ],
      "metadata": {
        "colab": {
          "base_uri": "https://localhost:8080/"
        },
        "outputId": "7c49889e-97db-4afe-80d0-5d98beb1d117",
        "id": "Kcb8dRMOeDV7"
      },
      "execution_count": 99,
      "outputs": [
        {
          "output_type": "execute_result",
          "data": {
            "text/plain": [
              "{'num_layers': 2}"
            ]
          },
          "metadata": {},
          "execution_count": 99
        }
      ]
    },
    {
      "cell_type": "code",
      "source": [
        "model = tuner.get_best_models(num_models=1)[0]"
      ],
      "metadata": {
        "id": "Vl0rv3MKeDV8"
      },
      "execution_count": 100,
      "outputs": []
    },
    {
      "cell_type": "code",
      "source": [
        "model.summary()"
      ],
      "metadata": {
        "colab": {
          "base_uri": "https://localhost:8080/"
        },
        "outputId": "3624071e-069a-46b1-e24b-eb9924b461d3",
        "id": "BmDDIx2KeDV8"
      },
      "execution_count": 101,
      "outputs": [
        {
          "output_type": "stream",
          "name": "stdout",
          "text": [
            "Model: \"sequential\"\n",
            "_________________________________________________________________\n",
            " Layer (type)                Output Shape              Param #   \n",
            "=================================================================\n",
            " dense (Dense)               (None, 108)               972       \n",
            "                                                                 \n",
            " dense_1 (Dense)             (None, 108)               11772     \n",
            "                                                                 \n",
            " dense_2 (Dense)             (None, 108)               11772     \n",
            "                                                                 \n",
            " dense_3 (Dense)             (None, 1)                 109       \n",
            "                                                                 \n",
            "=================================================================\n",
            "Total params: 24,625\n",
            "Trainable params: 24,625\n",
            "Non-trainable params: 0\n",
            "_________________________________________________________________\n"
          ]
        }
      ]
    },
    {
      "cell_type": "code",
      "source": [
        "model.fit(x_train, y_train, batch_size=32, epochs=100, initial_epoch = 6, validation_data=(x_test,y_test))"
      ],
      "metadata": {
        "colab": {
          "base_uri": "https://localhost:8080/"
        },
        "id": "zjwT_egieDV9",
        "outputId": "ec63a786-e34b-4ebd-ebaf-73355a988a0f"
      },
      "execution_count": 102,
      "outputs": [
        {
          "output_type": "stream",
          "name": "stdout",
          "text": [
            "Epoch 7/100\n",
            "20/20 [==============================] - 2s 26ms/step - loss: 0.4362 - accuracy: 0.7915 - val_loss: 0.5046 - val_accuracy: 0.7597\n",
            "Epoch 8/100\n",
            "20/20 [==============================] - 0s 14ms/step - loss: 0.4354 - accuracy: 0.7883 - val_loss: 0.4614 - val_accuracy: 0.8182\n",
            "Epoch 9/100\n",
            "20/20 [==============================] - 0s 9ms/step - loss: 0.4253 - accuracy: 0.7948 - val_loss: 0.4547 - val_accuracy: 0.7987\n",
            "Epoch 10/100\n",
            "20/20 [==============================] - 0s 10ms/step - loss: 0.4228 - accuracy: 0.7915 - val_loss: 0.4610 - val_accuracy: 0.8247\n",
            "Epoch 11/100\n",
            "20/20 [==============================] - 0s 8ms/step - loss: 0.4146 - accuracy: 0.8046 - val_loss: 0.4738 - val_accuracy: 0.7922\n",
            "Epoch 12/100\n",
            "20/20 [==============================] - 0s 7ms/step - loss: 0.4098 - accuracy: 0.7899 - val_loss: 0.4656 - val_accuracy: 0.8182\n",
            "Epoch 13/100\n",
            "20/20 [==============================] - 0s 9ms/step - loss: 0.4035 - accuracy: 0.8029 - val_loss: 0.4577 - val_accuracy: 0.8117\n",
            "Epoch 14/100\n",
            "20/20 [==============================] - 0s 8ms/step - loss: 0.3998 - accuracy: 0.8111 - val_loss: 0.4666 - val_accuracy: 0.8052\n",
            "Epoch 15/100\n",
            "20/20 [==============================] - 0s 8ms/step - loss: 0.3923 - accuracy: 0.8176 - val_loss: 0.4753 - val_accuracy: 0.7922\n",
            "Epoch 16/100\n",
            "20/20 [==============================] - 0s 7ms/step - loss: 0.3914 - accuracy: 0.8094 - val_loss: 0.4727 - val_accuracy: 0.7987\n",
            "Epoch 17/100\n",
            "20/20 [==============================] - 0s 8ms/step - loss: 0.3820 - accuracy: 0.8339 - val_loss: 0.4702 - val_accuracy: 0.7922\n",
            "Epoch 18/100\n",
            "20/20 [==============================] - 0s 8ms/step - loss: 0.3744 - accuracy: 0.8241 - val_loss: 0.4741 - val_accuracy: 0.8117\n",
            "Epoch 19/100\n",
            "20/20 [==============================] - 0s 10ms/step - loss: 0.3697 - accuracy: 0.8420 - val_loss: 0.4792 - val_accuracy: 0.8117\n",
            "Epoch 20/100\n",
            "20/20 [==============================] - 0s 9ms/step - loss: 0.3626 - accuracy: 0.8241 - val_loss: 0.4993 - val_accuracy: 0.7792\n",
            "Epoch 21/100\n",
            "20/20 [==============================] - 0s 10ms/step - loss: 0.3589 - accuracy: 0.8339 - val_loss: 0.4776 - val_accuracy: 0.7922\n",
            "Epoch 22/100\n",
            "20/20 [==============================] - 0s 12ms/step - loss: 0.3511 - accuracy: 0.8404 - val_loss: 0.5096 - val_accuracy: 0.8052\n",
            "Epoch 23/100\n",
            "20/20 [==============================] - 0s 7ms/step - loss: 0.3485 - accuracy: 0.8290 - val_loss: 0.4978 - val_accuracy: 0.8117\n",
            "Epoch 24/100\n",
            "20/20 [==============================] - 0s 8ms/step - loss: 0.3380 - accuracy: 0.8518 - val_loss: 0.4998 - val_accuracy: 0.8052\n",
            "Epoch 25/100\n",
            "20/20 [==============================] - 0s 13ms/step - loss: 0.3318 - accuracy: 0.8616 - val_loss: 0.5706 - val_accuracy: 0.7338\n",
            "Epoch 26/100\n",
            "20/20 [==============================] - 0s 7ms/step - loss: 0.3295 - accuracy: 0.8485 - val_loss: 0.5091 - val_accuracy: 0.7792\n",
            "Epoch 27/100\n",
            "20/20 [==============================] - 0s 8ms/step - loss: 0.3234 - accuracy: 0.8502 - val_loss: 0.5115 - val_accuracy: 0.8117\n",
            "Epoch 28/100\n",
            "20/20 [==============================] - 0s 9ms/step - loss: 0.3139 - accuracy: 0.8567 - val_loss: 0.5219 - val_accuracy: 0.8052\n",
            "Epoch 29/100\n",
            "20/20 [==============================] - 0s 10ms/step - loss: 0.3078 - accuracy: 0.8599 - val_loss: 0.4976 - val_accuracy: 0.8182\n",
            "Epoch 30/100\n",
            "20/20 [==============================] - 0s 9ms/step - loss: 0.3007 - accuracy: 0.8616 - val_loss: 0.5917 - val_accuracy: 0.7532\n",
            "Epoch 31/100\n",
            "20/20 [==============================] - 0s 12ms/step - loss: 0.3002 - accuracy: 0.8713 - val_loss: 0.5297 - val_accuracy: 0.8052\n",
            "Epoch 32/100\n",
            "20/20 [==============================] - 0s 10ms/step - loss: 0.2854 - accuracy: 0.8811 - val_loss: 0.5347 - val_accuracy: 0.8117\n",
            "Epoch 33/100\n",
            "20/20 [==============================] - 0s 11ms/step - loss: 0.2842 - accuracy: 0.8779 - val_loss: 0.6213 - val_accuracy: 0.7532\n",
            "Epoch 34/100\n",
            "20/20 [==============================] - 0s 9ms/step - loss: 0.2770 - accuracy: 0.8795 - val_loss: 0.5876 - val_accuracy: 0.7662\n",
            "Epoch 35/100\n",
            "20/20 [==============================] - 0s 8ms/step - loss: 0.2678 - accuracy: 0.8876 - val_loss: 0.5827 - val_accuracy: 0.8052\n",
            "Epoch 36/100\n",
            "20/20 [==============================] - 0s 6ms/step - loss: 0.2589 - accuracy: 0.8860 - val_loss: 0.6343 - val_accuracy: 0.7662\n",
            "Epoch 37/100\n",
            "20/20 [==============================] - 0s 6ms/step - loss: 0.2565 - accuracy: 0.8941 - val_loss: 0.5879 - val_accuracy: 0.7792\n",
            "Epoch 38/100\n",
            "20/20 [==============================] - 0s 7ms/step - loss: 0.2550 - accuracy: 0.9072 - val_loss: 0.5910 - val_accuracy: 0.7987\n",
            "Epoch 39/100\n",
            "20/20 [==============================] - 0s 8ms/step - loss: 0.2457 - accuracy: 0.9104 - val_loss: 0.6289 - val_accuracy: 0.8117\n",
            "Epoch 40/100\n",
            "20/20 [==============================] - 0s 7ms/step - loss: 0.2360 - accuracy: 0.9007 - val_loss: 0.6456 - val_accuracy: 0.7987\n",
            "Epoch 41/100\n",
            "20/20 [==============================] - 0s 8ms/step - loss: 0.2275 - accuracy: 0.9072 - val_loss: 0.6168 - val_accuracy: 0.7662\n",
            "Epoch 42/100\n",
            "20/20 [==============================] - 0s 10ms/step - loss: 0.2367 - accuracy: 0.9039 - val_loss: 0.6368 - val_accuracy: 0.7792\n",
            "Epoch 43/100\n",
            "20/20 [==============================] - 0s 7ms/step - loss: 0.2099 - accuracy: 0.9235 - val_loss: 0.6581 - val_accuracy: 0.7727\n",
            "Epoch 44/100\n",
            "20/20 [==============================] - 0s 14ms/step - loss: 0.2113 - accuracy: 0.9169 - val_loss: 0.6944 - val_accuracy: 0.7922\n",
            "Epoch 45/100\n",
            "20/20 [==============================] - 0s 11ms/step - loss: 0.1986 - accuracy: 0.9218 - val_loss: 0.6632 - val_accuracy: 0.7922\n",
            "Epoch 46/100\n",
            "20/20 [==============================] - 0s 9ms/step - loss: 0.2050 - accuracy: 0.9316 - val_loss: 0.6873 - val_accuracy: 0.7857\n",
            "Epoch 47/100\n",
            "20/20 [==============================] - 0s 8ms/step - loss: 0.1999 - accuracy: 0.9235 - val_loss: 0.6988 - val_accuracy: 0.7727\n",
            "Epoch 48/100\n",
            "20/20 [==============================] - 0s 11ms/step - loss: 0.1755 - accuracy: 0.9430 - val_loss: 0.8275 - val_accuracy: 0.7597\n",
            "Epoch 49/100\n",
            "20/20 [==============================] - 0s 18ms/step - loss: 0.1866 - accuracy: 0.9300 - val_loss: 0.8115 - val_accuracy: 0.7338\n",
            "Epoch 50/100\n",
            "20/20 [==============================] - 0s 20ms/step - loss: 0.1748 - accuracy: 0.9397 - val_loss: 0.7336 - val_accuracy: 0.7792\n",
            "Epoch 51/100\n",
            "20/20 [==============================] - 0s 7ms/step - loss: 0.1721 - accuracy: 0.9332 - val_loss: 0.7750 - val_accuracy: 0.7532\n",
            "Epoch 52/100\n",
            "20/20 [==============================] - 0s 4ms/step - loss: 0.1560 - accuracy: 0.9479 - val_loss: 0.8789 - val_accuracy: 0.7727\n",
            "Epoch 53/100\n",
            "20/20 [==============================] - 0s 4ms/step - loss: 0.1657 - accuracy: 0.9381 - val_loss: 0.8078 - val_accuracy: 0.7532\n",
            "Epoch 54/100\n",
            "20/20 [==============================] - 0s 4ms/step - loss: 0.1478 - accuracy: 0.9528 - val_loss: 0.8245 - val_accuracy: 0.7597\n",
            "Epoch 55/100\n",
            "20/20 [==============================] - 0s 5ms/step - loss: 0.1494 - accuracy: 0.9446 - val_loss: 0.8074 - val_accuracy: 0.7662\n",
            "Epoch 56/100\n",
            "20/20 [==============================] - 0s 11ms/step - loss: 0.1429 - accuracy: 0.9463 - val_loss: 0.8137 - val_accuracy: 0.7597\n",
            "Epoch 57/100\n",
            "20/20 [==============================] - 0s 15ms/step - loss: 0.1421 - accuracy: 0.9479 - val_loss: 0.8963 - val_accuracy: 0.7468\n",
            "Epoch 58/100\n",
            "20/20 [==============================] - 0s 9ms/step - loss: 0.1263 - accuracy: 0.9674 - val_loss: 0.8448 - val_accuracy: 0.7792\n",
            "Epoch 59/100\n",
            "20/20 [==============================] - 0s 4ms/step - loss: 0.1301 - accuracy: 0.9577 - val_loss: 0.9182 - val_accuracy: 0.7597\n",
            "Epoch 60/100\n",
            "20/20 [==============================] - 0s 4ms/step - loss: 0.1212 - accuracy: 0.9544 - val_loss: 0.8753 - val_accuracy: 0.7727\n",
            "Epoch 61/100\n",
            "20/20 [==============================] - 0s 4ms/step - loss: 0.1212 - accuracy: 0.9544 - val_loss: 0.8951 - val_accuracy: 0.7468\n",
            "Epoch 62/100\n",
            "20/20 [==============================] - 0s 4ms/step - loss: 0.1135 - accuracy: 0.9674 - val_loss: 0.9403 - val_accuracy: 0.7403\n",
            "Epoch 63/100\n",
            "20/20 [==============================] - 0s 4ms/step - loss: 0.1108 - accuracy: 0.9674 - val_loss: 1.0160 - val_accuracy: 0.7597\n",
            "Epoch 64/100\n",
            "20/20 [==============================] - 0s 12ms/step - loss: 0.1071 - accuracy: 0.9560 - val_loss: 0.9994 - val_accuracy: 0.7532\n",
            "Epoch 65/100\n",
            "20/20 [==============================] - 0s 16ms/step - loss: 0.0961 - accuracy: 0.9756 - val_loss: 0.9387 - val_accuracy: 0.7403\n",
            "Epoch 66/100\n",
            "20/20 [==============================] - 0s 6ms/step - loss: 0.1026 - accuracy: 0.9625 - val_loss: 0.9640 - val_accuracy: 0.7532\n",
            "Epoch 67/100\n",
            "20/20 [==============================] - 0s 4ms/step - loss: 0.0856 - accuracy: 0.9739 - val_loss: 1.0547 - val_accuracy: 0.7403\n",
            "Epoch 68/100\n",
            "20/20 [==============================] - 0s 5ms/step - loss: 0.1044 - accuracy: 0.9642 - val_loss: 0.9365 - val_accuracy: 0.7338\n",
            "Epoch 69/100\n",
            "20/20 [==============================] - 0s 4ms/step - loss: 0.0762 - accuracy: 0.9772 - val_loss: 1.1466 - val_accuracy: 0.7857\n",
            "Epoch 70/100\n",
            "20/20 [==============================] - 0s 4ms/step - loss: 0.0776 - accuracy: 0.9756 - val_loss: 1.3061 - val_accuracy: 0.6818\n",
            "Epoch 71/100\n",
            "20/20 [==============================] - 0s 4ms/step - loss: 0.0922 - accuracy: 0.9691 - val_loss: 1.0099 - val_accuracy: 0.7468\n",
            "Epoch 72/100\n",
            "20/20 [==============================] - 0s 5ms/step - loss: 0.0805 - accuracy: 0.9739 - val_loss: 1.1635 - val_accuracy: 0.7403\n",
            "Epoch 73/100\n",
            "20/20 [==============================] - 0s 3ms/step - loss: 0.0847 - accuracy: 0.9739 - val_loss: 1.1288 - val_accuracy: 0.7662\n",
            "Epoch 74/100\n",
            "20/20 [==============================] - 0s 4ms/step - loss: 0.0736 - accuracy: 0.9772 - val_loss: 1.1020 - val_accuracy: 0.7597\n",
            "Epoch 75/100\n",
            "20/20 [==============================] - 0s 4ms/step - loss: 0.0673 - accuracy: 0.9772 - val_loss: 1.0862 - val_accuracy: 0.7662\n",
            "Epoch 76/100\n",
            "20/20 [==============================] - 0s 4ms/step - loss: 0.0717 - accuracy: 0.9739 - val_loss: 1.2818 - val_accuracy: 0.7013\n",
            "Epoch 77/100\n",
            "20/20 [==============================] - 0s 4ms/step - loss: 0.0741 - accuracy: 0.9788 - val_loss: 1.2673 - val_accuracy: 0.7532\n",
            "Epoch 78/100\n",
            "20/20 [==============================] - 0s 4ms/step - loss: 0.0665 - accuracy: 0.9756 - val_loss: 1.1726 - val_accuracy: 0.7143\n",
            "Epoch 79/100\n",
            "20/20 [==============================] - 0s 4ms/step - loss: 0.0492 - accuracy: 0.9886 - val_loss: 1.2084 - val_accuracy: 0.7403\n",
            "Epoch 80/100\n",
            "20/20 [==============================] - 0s 4ms/step - loss: 0.0697 - accuracy: 0.9756 - val_loss: 1.3451 - val_accuracy: 0.7273\n",
            "Epoch 81/100\n",
            "20/20 [==============================] - 0s 4ms/step - loss: 0.0618 - accuracy: 0.9788 - val_loss: 1.1806 - val_accuracy: 0.7532\n",
            "Epoch 82/100\n",
            "20/20 [==============================] - 0s 4ms/step - loss: 0.0518 - accuracy: 0.9821 - val_loss: 1.2345 - val_accuracy: 0.7403\n",
            "Epoch 83/100\n",
            "20/20 [==============================] - 0s 4ms/step - loss: 0.0647 - accuracy: 0.9772 - val_loss: 1.2231 - val_accuracy: 0.7532\n",
            "Epoch 84/100\n",
            "20/20 [==============================] - 0s 4ms/step - loss: 0.0548 - accuracy: 0.9837 - val_loss: 1.2972 - val_accuracy: 0.7532\n",
            "Epoch 85/100\n",
            "20/20 [==============================] - 0s 4ms/step - loss: 0.0421 - accuracy: 0.9886 - val_loss: 1.2401 - val_accuracy: 0.7208\n",
            "Epoch 86/100\n",
            "20/20 [==============================] - 0s 4ms/step - loss: 0.0658 - accuracy: 0.9788 - val_loss: 1.3229 - val_accuracy: 0.7532\n",
            "Epoch 87/100\n",
            "20/20 [==============================] - 0s 4ms/step - loss: 0.0406 - accuracy: 0.9902 - val_loss: 1.2976 - val_accuracy: 0.7338\n",
            "Epoch 88/100\n",
            "20/20 [==============================] - 0s 4ms/step - loss: 0.0395 - accuracy: 0.9919 - val_loss: 1.3215 - val_accuracy: 0.7597\n",
            "Epoch 89/100\n",
            "20/20 [==============================] - 0s 5ms/step - loss: 0.0425 - accuracy: 0.9886 - val_loss: 1.3317 - val_accuracy: 0.7662\n",
            "Epoch 90/100\n",
            "20/20 [==============================] - 0s 4ms/step - loss: 0.0646 - accuracy: 0.9805 - val_loss: 1.3267 - val_accuracy: 0.7403\n",
            "Epoch 91/100\n",
            "20/20 [==============================] - 0s 4ms/step - loss: 0.0327 - accuracy: 0.9935 - val_loss: 1.5310 - val_accuracy: 0.7273\n",
            "Epoch 92/100\n",
            "20/20 [==============================] - 0s 5ms/step - loss: 0.0477 - accuracy: 0.9837 - val_loss: 1.4741 - val_accuracy: 0.7403\n",
            "Epoch 93/100\n",
            "20/20 [==============================] - 0s 4ms/step - loss: 0.0517 - accuracy: 0.9853 - val_loss: 1.4144 - val_accuracy: 0.7468\n",
            "Epoch 94/100\n",
            "20/20 [==============================] - 0s 4ms/step - loss: 0.0278 - accuracy: 0.9951 - val_loss: 1.5120 - val_accuracy: 0.7273\n",
            "Epoch 95/100\n",
            "20/20 [==============================] - 0s 5ms/step - loss: 0.0398 - accuracy: 0.9870 - val_loss: 1.5729 - val_accuracy: 0.7338\n",
            "Epoch 96/100\n",
            "20/20 [==============================] - 0s 4ms/step - loss: 0.0326 - accuracy: 0.9919 - val_loss: 1.4913 - val_accuracy: 0.7532\n",
            "Epoch 97/100\n",
            "20/20 [==============================] - 0s 4ms/step - loss: 0.0311 - accuracy: 0.9902 - val_loss: 1.5463 - val_accuracy: 0.7273\n",
            "Epoch 98/100\n",
            "20/20 [==============================] - 0s 4ms/step - loss: 0.0435 - accuracy: 0.9853 - val_loss: 1.7149 - val_accuracy: 0.7078\n",
            "Epoch 99/100\n",
            "20/20 [==============================] - 0s 4ms/step - loss: 0.0207 - accuracy: 0.9984 - val_loss: 1.6358 - val_accuracy: 0.7532\n",
            "Epoch 100/100\n",
            "20/20 [==============================] - 0s 4ms/step - loss: 0.0271 - accuracy: 0.9951 - val_loss: 1.6236 - val_accuracy: 0.7273\n"
          ]
        },
        {
          "output_type": "execute_result",
          "data": {
            "text/plain": [
              "<keras.callbacks.History at 0x7f0d0155fbe0>"
            ]
          },
          "metadata": {},
          "execution_count": 102
        }
      ]
    },
    {
      "cell_type": "markdown",
      "source": [
        "## 4. all in one model"
      ],
      "metadata": {
        "id": "Y3RuUNE7iOAm"
      }
    },
    {
      "cell_type": "code",
      "source": [
        "from keras_tuner.protos.keras_tuner_pb2 import Choice\n",
        "def build_model(hp):\n",
        "  # Model implimentation\n",
        "  model = Sequential()\n",
        "\n",
        "  counter = 0\n",
        "\n",
        "  #adding model dense layers\n",
        "\n",
        "  for i in range(hp.Int('num_layers', min_value=1, max_value =10)):\n",
        "    if counter ==0:\n",
        "\n",
        "      model.add(Dense(hp.Int('units'+ str(i),min_value=8,max_value=128,step=8),\n",
        "              activation=hp.Choice('activation' + str(i),values=['relu','tanh','sigmoid']),\n",
        "              input_dim=8))\n",
        "      model.add(Dropout(hp.Choice('dropout' + str(i), values=[0.1,0.2,0.3,0.4,0.5,0.6,0.7,0.8,0.9])))\n",
        "              \n",
        "              \n",
        "    else:\n",
        "\n",
        "      model.add(\n",
        "          Dense(\n",
        "              hp.Int('units'+ str(i), min_value = 8,max_value = 128, step = 8),\n",
        "              activation=hp.Choice('activation' + str(i), values = ['relu','tanh','sigmoid']),\n",
        "                                          )\n",
        "              )\n",
        "      model.add(Dropout(hp.Choice('dropout' + str(i), values =[0.1,0.2,0.3,0.4,0.5,0.6,0.7,0.8,0.9])))\n",
        "\n",
        "    counter+=1\n",
        "\n",
        "\n",
        "  model.add(Dense(1,activation='sigmoid'))\n",
        "\n",
        "  # Model compiletion\n",
        "  model.compile(optimizer=hp.Choice('optimizer', values = ['rmsprop','adam','sgd','nadam','adadelta']),\n",
        "                loss='binary_crossentropy',\n",
        "                metrics=['accuracy'])\n",
        "\n",
        "\n",
        "  return model"
      ],
      "metadata": {
        "id": "tsnWi8EbiUQP"
      },
      "execution_count": 129,
      "outputs": []
    },
    {
      "cell_type": "code",
      "source": [
        "# Tuner object\n",
        "tuner = kt.RandomSearch(build_model, objective = 'val_accuracy',\n",
        "                        max_trials = 3,\n",
        "                        directory = 'mydr', project_name = 'final1')"
      ],
      "metadata": {
        "id": "EJEYHg8UiUQQ"
      },
      "execution_count": 130,
      "outputs": []
    },
    {
      "cell_type": "code",
      "source": [
        "tuner.search(x_train, y_train, epochs=5, validation_data=(x_test,y_test))"
      ],
      "metadata": {
        "colab": {
          "base_uri": "https://localhost:8080/"
        },
        "outputId": "5ed56cad-37b1-4eb1-b327-54293013f65c",
        "id": "e1eqTA7xiUQR"
      },
      "execution_count": 131,
      "outputs": [
        {
          "output_type": "stream",
          "name": "stdout",
          "text": [
            "Trial 3 Complete [00h 00m 02s]\n",
            "val_accuracy: 0.3636363744735718\n",
            "\n",
            "Best val_accuracy So Far: 0.6688311696052551\n",
            "Total elapsed time: 00h 00m 07s\n"
          ]
        }
      ]
    },
    {
      "cell_type": "code",
      "source": [
        "# Getting best optimizer values\n",
        "tuner.get_best_hyperparameters()[0].values"
      ],
      "metadata": {
        "colab": {
          "base_uri": "https://localhost:8080/"
        },
        "outputId": "dab65c51-0214-4d25-8c8e-3fa1745df84b",
        "id": "rM8Ltf5GiUQS"
      },
      "execution_count": 132,
      "outputs": [
        {
          "output_type": "execute_result",
          "data": {
            "text/plain": [
              "{'num_layers': 6,\n",
              " 'units0': 40,\n",
              " 'activation0': 'relu',\n",
              " 'dropout0': 0.4,\n",
              " 'optimizer': 'adadelta',\n",
              " 'units1': 16,\n",
              " 'activation1': 'tanh',\n",
              " 'dropout1': 0.6,\n",
              " 'units2': 56,\n",
              " 'activation2': 'relu',\n",
              " 'dropout2': 0.2,\n",
              " 'units3': 48,\n",
              " 'activation3': 'relu',\n",
              " 'dropout3': 0.7,\n",
              " 'units4': 96,\n",
              " 'activation4': 'tanh',\n",
              " 'dropout4': 0.9,\n",
              " 'units5': 80,\n",
              " 'activation5': 'relu',\n",
              " 'dropout5': 0.1,\n",
              " 'units6': 8,\n",
              " 'activation6': 'sigmoid',\n",
              " 'dropout6': 0.8,\n",
              " 'units7': 24,\n",
              " 'activation7': 'tanh',\n",
              " 'dropout7': 0.2}"
            ]
          },
          "metadata": {},
          "execution_count": 132
        }
      ]
    },
    {
      "cell_type": "code",
      "source": [
        "model = tuner.get_best_models(num_models=1)[0]"
      ],
      "metadata": {
        "id": "z1AdX-DOiUQT"
      },
      "execution_count": 133,
      "outputs": []
    },
    {
      "cell_type": "code",
      "source": [
        "model.summary()"
      ],
      "metadata": {
        "colab": {
          "base_uri": "https://localhost:8080/"
        },
        "outputId": "50a00dde-87d3-4990-ab51-2a5820049a9e",
        "id": "4LS2uKzWiUQT"
      },
      "execution_count": 134,
      "outputs": [
        {
          "output_type": "stream",
          "name": "stdout",
          "text": [
            "Model: \"sequential\"\n",
            "_________________________________________________________________\n",
            " Layer (type)                Output Shape              Param #   \n",
            "=================================================================\n",
            " dense (Dense)               (None, 40)                360       \n",
            "                                                                 \n",
            " dropout (Dropout)           (None, 40)                0         \n",
            "                                                                 \n",
            " dense_1 (Dense)             (None, 16)                656       \n",
            "                                                                 \n",
            " dropout_1 (Dropout)         (None, 16)                0         \n",
            "                                                                 \n",
            " dense_2 (Dense)             (None, 56)                952       \n",
            "                                                                 \n",
            " dropout_2 (Dropout)         (None, 56)                0         \n",
            "                                                                 \n",
            " dense_3 (Dense)             (None, 48)                2736      \n",
            "                                                                 \n",
            " dropout_3 (Dropout)         (None, 48)                0         \n",
            "                                                                 \n",
            " dense_4 (Dense)             (None, 96)                4704      \n",
            "                                                                 \n",
            " dropout_4 (Dropout)         (None, 96)                0         \n",
            "                                                                 \n",
            " dense_5 (Dense)             (None, 80)                7760      \n",
            "                                                                 \n",
            " dropout_5 (Dropout)         (None, 80)                0         \n",
            "                                                                 \n",
            " dense_6 (Dense)             (None, 1)                 81        \n",
            "                                                                 \n",
            "=================================================================\n",
            "Total params: 17,249\n",
            "Trainable params: 17,249\n",
            "Non-trainable params: 0\n",
            "_________________________________________________________________\n"
          ]
        }
      ]
    },
    {
      "cell_type": "code",
      "source": [
        "model.fit(x_train, y_train, epochs=200, initial_epoch = 6, validation_data=(x_test,y_test))"
      ],
      "metadata": {
        "colab": {
          "base_uri": "https://localhost:8080/"
        },
        "outputId": "900ef9eb-8aec-48b4-aa2f-d7e63cd709c3",
        "id": "W2X84umxiUQU"
      },
      "execution_count": 135,
      "outputs": [
        {
          "output_type": "stream",
          "name": "stdout",
          "text": [
            "Epoch 7/200\n",
            "20/20 [==============================] - 1s 13ms/step - loss: 0.7348 - accuracy: 0.5782 - val_loss: 0.6900 - val_accuracy: 0.6688\n",
            "Epoch 8/200\n",
            "20/20 [==============================] - 0s 5ms/step - loss: 0.7349 - accuracy: 0.5668 - val_loss: 0.6899 - val_accuracy: 0.6688\n",
            "Epoch 9/200\n",
            "20/20 [==============================] - 0s 5ms/step - loss: 0.7585 - accuracy: 0.5440 - val_loss: 0.6899 - val_accuracy: 0.6688\n",
            "Epoch 10/200\n",
            "20/20 [==============================] - 0s 4ms/step - loss: 0.7019 - accuracy: 0.6042 - val_loss: 0.6899 - val_accuracy: 0.6688\n",
            "Epoch 11/200\n",
            "20/20 [==============================] - 0s 5ms/step - loss: 0.7410 - accuracy: 0.5456 - val_loss: 0.6898 - val_accuracy: 0.6753\n",
            "Epoch 12/200\n",
            "20/20 [==============================] - 0s 4ms/step - loss: 0.7501 - accuracy: 0.5342 - val_loss: 0.6898 - val_accuracy: 0.6818\n",
            "Epoch 13/200\n",
            "20/20 [==============================] - 0s 4ms/step - loss: 0.7641 - accuracy: 0.4984 - val_loss: 0.6898 - val_accuracy: 0.6818\n",
            "Epoch 14/200\n",
            "20/20 [==============================] - 0s 5ms/step - loss: 0.7748 - accuracy: 0.5147 - val_loss: 0.6898 - val_accuracy: 0.6818\n",
            "Epoch 15/200\n",
            "20/20 [==============================] - 0s 4ms/step - loss: 0.7679 - accuracy: 0.5423 - val_loss: 0.6898 - val_accuracy: 0.6818\n",
            "Epoch 16/200\n",
            "20/20 [==============================] - 0s 5ms/step - loss: 0.7462 - accuracy: 0.5651 - val_loss: 0.6897 - val_accuracy: 0.6883\n",
            "Epoch 17/200\n",
            "20/20 [==============================] - 0s 5ms/step - loss: 0.7594 - accuracy: 0.5537 - val_loss: 0.6897 - val_accuracy: 0.6883\n",
            "Epoch 18/200\n",
            "20/20 [==============================] - 0s 4ms/step - loss: 0.7327 - accuracy: 0.5407 - val_loss: 0.6897 - val_accuracy: 0.6883\n",
            "Epoch 19/200\n",
            "20/20 [==============================] - 0s 4ms/step - loss: 0.7517 - accuracy: 0.5489 - val_loss: 0.6897 - val_accuracy: 0.6883\n",
            "Epoch 20/200\n",
            "20/20 [==============================] - 0s 4ms/step - loss: 0.7628 - accuracy: 0.5505 - val_loss: 0.6896 - val_accuracy: 0.6818\n",
            "Epoch 21/200\n",
            "20/20 [==============================] - 0s 5ms/step - loss: 0.7474 - accuracy: 0.5440 - val_loss: 0.6896 - val_accuracy: 0.6818\n",
            "Epoch 22/200\n",
            "20/20 [==============================] - 0s 4ms/step - loss: 0.7696 - accuracy: 0.5309 - val_loss: 0.6896 - val_accuracy: 0.6818\n",
            "Epoch 23/200\n",
            "20/20 [==============================] - 0s 4ms/step - loss: 0.7417 - accuracy: 0.5391 - val_loss: 0.6896 - val_accuracy: 0.6818\n",
            "Epoch 24/200\n",
            "20/20 [==============================] - 0s 5ms/step - loss: 0.7871 - accuracy: 0.5423 - val_loss: 0.6896 - val_accuracy: 0.6883\n",
            "Epoch 25/200\n",
            "20/20 [==============================] - 0s 5ms/step - loss: 0.7793 - accuracy: 0.5261 - val_loss: 0.6896 - val_accuracy: 0.6883\n",
            "Epoch 26/200\n",
            "20/20 [==============================] - 0s 4ms/step - loss: 0.7260 - accuracy: 0.5717 - val_loss: 0.6895 - val_accuracy: 0.6948\n",
            "Epoch 27/200\n",
            "20/20 [==============================] - 0s 4ms/step - loss: 0.7637 - accuracy: 0.5277 - val_loss: 0.6895 - val_accuracy: 0.6948\n",
            "Epoch 28/200\n",
            "20/20 [==============================] - 0s 4ms/step - loss: 0.7749 - accuracy: 0.5619 - val_loss: 0.6895 - val_accuracy: 0.6948\n",
            "Epoch 29/200\n",
            "20/20 [==============================] - 0s 6ms/step - loss: 0.7426 - accuracy: 0.5586 - val_loss: 0.6895 - val_accuracy: 0.6948\n",
            "Epoch 30/200\n",
            "20/20 [==============================] - 0s 4ms/step - loss: 0.7637 - accuracy: 0.5521 - val_loss: 0.6895 - val_accuracy: 0.6948\n",
            "Epoch 31/200\n",
            "20/20 [==============================] - 0s 4ms/step - loss: 0.7509 - accuracy: 0.5651 - val_loss: 0.6894 - val_accuracy: 0.6948\n",
            "Epoch 32/200\n",
            "20/20 [==============================] - 0s 4ms/step - loss: 0.7413 - accuracy: 0.5749 - val_loss: 0.6894 - val_accuracy: 0.6948\n",
            "Epoch 33/200\n",
            "20/20 [==============================] - 0s 5ms/step - loss: 0.7655 - accuracy: 0.5342 - val_loss: 0.6894 - val_accuracy: 0.6948\n",
            "Epoch 34/200\n",
            "20/20 [==============================] - 0s 5ms/step - loss: 0.7459 - accuracy: 0.5749 - val_loss: 0.6894 - val_accuracy: 0.6948\n",
            "Epoch 35/200\n",
            "20/20 [==============================] - 0s 5ms/step - loss: 0.7786 - accuracy: 0.5440 - val_loss: 0.6894 - val_accuracy: 0.6948\n",
            "Epoch 36/200\n",
            "20/20 [==============================] - 0s 4ms/step - loss: 0.7339 - accuracy: 0.5668 - val_loss: 0.6894 - val_accuracy: 0.6948\n",
            "Epoch 37/200\n",
            "20/20 [==============================] - 0s 4ms/step - loss: 0.7434 - accuracy: 0.5717 - val_loss: 0.6893 - val_accuracy: 0.6948\n",
            "Epoch 38/200\n",
            "20/20 [==============================] - 0s 4ms/step - loss: 0.7657 - accuracy: 0.5456 - val_loss: 0.6893 - val_accuracy: 0.6948\n",
            "Epoch 39/200\n",
            "20/20 [==============================] - 0s 4ms/step - loss: 0.7865 - accuracy: 0.5309 - val_loss: 0.6893 - val_accuracy: 0.6948\n",
            "Epoch 40/200\n",
            "20/20 [==============================] - 0s 4ms/step - loss: 0.7583 - accuracy: 0.5440 - val_loss: 0.6893 - val_accuracy: 0.6948\n",
            "Epoch 41/200\n",
            "20/20 [==============================] - 0s 4ms/step - loss: 0.7647 - accuracy: 0.5293 - val_loss: 0.6893 - val_accuracy: 0.6948\n",
            "Epoch 42/200\n",
            "20/20 [==============================] - 0s 5ms/step - loss: 0.7479 - accuracy: 0.5228 - val_loss: 0.6893 - val_accuracy: 0.6948\n",
            "Epoch 43/200\n",
            "20/20 [==============================] - 0s 4ms/step - loss: 0.7840 - accuracy: 0.5309 - val_loss: 0.6892 - val_accuracy: 0.6948\n",
            "Epoch 44/200\n",
            "20/20 [==============================] - 0s 4ms/step - loss: 0.7645 - accuracy: 0.5407 - val_loss: 0.6892 - val_accuracy: 0.6948\n",
            "Epoch 45/200\n",
            "20/20 [==============================] - 0s 4ms/step - loss: 0.7797 - accuracy: 0.5407 - val_loss: 0.6892 - val_accuracy: 0.6948\n",
            "Epoch 46/200\n",
            "20/20 [==============================] - 0s 5ms/step - loss: 0.7561 - accuracy: 0.5521 - val_loss: 0.6892 - val_accuracy: 0.6948\n",
            "Epoch 47/200\n",
            "20/20 [==============================] - 0s 4ms/step - loss: 0.7414 - accuracy: 0.5700 - val_loss: 0.6892 - val_accuracy: 0.6948\n",
            "Epoch 48/200\n",
            "20/20 [==============================] - 0s 6ms/step - loss: 0.7715 - accuracy: 0.5440 - val_loss: 0.6892 - val_accuracy: 0.6948\n",
            "Epoch 49/200\n",
            "20/20 [==============================] - 0s 5ms/step - loss: 0.8075 - accuracy: 0.4984 - val_loss: 0.6892 - val_accuracy: 0.6948\n",
            "Epoch 50/200\n",
            "20/20 [==============================] - 0s 4ms/step - loss: 0.7728 - accuracy: 0.5212 - val_loss: 0.6891 - val_accuracy: 0.6948\n",
            "Epoch 51/200\n",
            "20/20 [==============================] - 0s 5ms/step - loss: 0.7692 - accuracy: 0.5570 - val_loss: 0.6891 - val_accuracy: 0.6948\n",
            "Epoch 52/200\n",
            "20/20 [==============================] - 0s 4ms/step - loss: 0.7638 - accuracy: 0.5537 - val_loss: 0.6891 - val_accuracy: 0.6948\n",
            "Epoch 53/200\n",
            "20/20 [==============================] - 0s 4ms/step - loss: 0.7481 - accuracy: 0.5782 - val_loss: 0.6891 - val_accuracy: 0.6948\n",
            "Epoch 54/200\n",
            "20/20 [==============================] - 0s 4ms/step - loss: 0.7269 - accuracy: 0.5863 - val_loss: 0.6891 - val_accuracy: 0.6948\n",
            "Epoch 55/200\n",
            "20/20 [==============================] - 0s 4ms/step - loss: 0.7332 - accuracy: 0.5831 - val_loss: 0.6890 - val_accuracy: 0.6883\n",
            "Epoch 56/200\n",
            "20/20 [==============================] - 0s 5ms/step - loss: 0.7162 - accuracy: 0.5651 - val_loss: 0.6890 - val_accuracy: 0.6883\n",
            "Epoch 57/200\n",
            "20/20 [==============================] - 0s 4ms/step - loss: 0.7242 - accuracy: 0.5684 - val_loss: 0.6890 - val_accuracy: 0.6883\n",
            "Epoch 58/200\n",
            "20/20 [==============================] - 0s 4ms/step - loss: 0.7462 - accuracy: 0.5505 - val_loss: 0.6890 - val_accuracy: 0.6883\n",
            "Epoch 59/200\n",
            "20/20 [==============================] - 0s 4ms/step - loss: 0.7390 - accuracy: 0.5440 - val_loss: 0.6890 - val_accuracy: 0.6883\n",
            "Epoch 60/200\n",
            "20/20 [==============================] - 0s 4ms/step - loss: 0.7456 - accuracy: 0.5521 - val_loss: 0.6890 - val_accuracy: 0.6883\n",
            "Epoch 61/200\n",
            "20/20 [==============================] - 0s 5ms/step - loss: 0.7878 - accuracy: 0.5358 - val_loss: 0.6889 - val_accuracy: 0.6883\n",
            "Epoch 62/200\n",
            "20/20 [==============================] - 0s 4ms/step - loss: 0.7434 - accuracy: 0.5684 - val_loss: 0.6889 - val_accuracy: 0.6883\n",
            "Epoch 63/200\n",
            "20/20 [==============================] - 0s 4ms/step - loss: 0.7802 - accuracy: 0.5277 - val_loss: 0.6889 - val_accuracy: 0.6883\n",
            "Epoch 64/200\n",
            "20/20 [==============================] - 0s 4ms/step - loss: 0.7730 - accuracy: 0.5391 - val_loss: 0.6889 - val_accuracy: 0.6883\n",
            "Epoch 65/200\n",
            "20/20 [==============================] - 0s 5ms/step - loss: 0.7611 - accuracy: 0.5603 - val_loss: 0.6889 - val_accuracy: 0.6883\n",
            "Epoch 66/200\n",
            "20/20 [==============================] - 0s 4ms/step - loss: 0.7771 - accuracy: 0.5293 - val_loss: 0.6889 - val_accuracy: 0.6883\n",
            "Epoch 67/200\n",
            "20/20 [==============================] - 0s 4ms/step - loss: 0.7742 - accuracy: 0.5619 - val_loss: 0.6888 - val_accuracy: 0.6883\n",
            "Epoch 68/200\n",
            "20/20 [==============================] - 0s 4ms/step - loss: 0.7379 - accuracy: 0.5782 - val_loss: 0.6888 - val_accuracy: 0.6883\n",
            "Epoch 69/200\n",
            "20/20 [==============================] - 0s 5ms/step - loss: 0.7566 - accuracy: 0.5586 - val_loss: 0.6888 - val_accuracy: 0.6883\n",
            "Epoch 70/200\n",
            "20/20 [==============================] - 0s 4ms/step - loss: 0.7608 - accuracy: 0.5651 - val_loss: 0.6888 - val_accuracy: 0.6883\n",
            "Epoch 71/200\n",
            "20/20 [==============================] - 0s 5ms/step - loss: 0.7454 - accuracy: 0.5603 - val_loss: 0.6888 - val_accuracy: 0.6883\n",
            "Epoch 72/200\n",
            "20/20 [==============================] - 0s 4ms/step - loss: 0.7670 - accuracy: 0.5163 - val_loss: 0.6888 - val_accuracy: 0.6948\n",
            "Epoch 73/200\n",
            "20/20 [==============================] - 0s 4ms/step - loss: 0.7679 - accuracy: 0.5407 - val_loss: 0.6887 - val_accuracy: 0.6948\n",
            "Epoch 74/200\n",
            "20/20 [==============================] - 0s 4ms/step - loss: 0.7763 - accuracy: 0.5537 - val_loss: 0.6887 - val_accuracy: 0.6948\n",
            "Epoch 75/200\n",
            "20/20 [==============================] - 0s 4ms/step - loss: 0.7514 - accuracy: 0.5407 - val_loss: 0.6887 - val_accuracy: 0.6948\n",
            "Epoch 76/200\n",
            "20/20 [==============================] - 0s 4ms/step - loss: 0.7404 - accuracy: 0.5570 - val_loss: 0.6887 - val_accuracy: 0.6948\n",
            "Epoch 77/200\n",
            "20/20 [==============================] - 0s 4ms/step - loss: 0.7385 - accuracy: 0.5603 - val_loss: 0.6887 - val_accuracy: 0.7013\n",
            "Epoch 78/200\n",
            "20/20 [==============================] - 0s 4ms/step - loss: 0.7631 - accuracy: 0.5375 - val_loss: 0.6887 - val_accuracy: 0.7013\n",
            "Epoch 79/200\n",
            "20/20 [==============================] - 0s 5ms/step - loss: 0.7438 - accuracy: 0.5570 - val_loss: 0.6886 - val_accuracy: 0.7013\n",
            "Epoch 80/200\n",
            "20/20 [==============================] - 0s 4ms/step - loss: 0.7714 - accuracy: 0.5505 - val_loss: 0.6886 - val_accuracy: 0.7013\n",
            "Epoch 81/200\n",
            "20/20 [==============================] - 0s 5ms/step - loss: 0.7693 - accuracy: 0.5472 - val_loss: 0.6886 - val_accuracy: 0.7013\n",
            "Epoch 82/200\n",
            "20/20 [==============================] - 0s 5ms/step - loss: 0.7522 - accuracy: 0.5440 - val_loss: 0.6886 - val_accuracy: 0.7013\n",
            "Epoch 83/200\n",
            "20/20 [==============================] - 0s 5ms/step - loss: 0.7448 - accuracy: 0.5309 - val_loss: 0.6886 - val_accuracy: 0.6948\n",
            "Epoch 84/200\n",
            "20/20 [==============================] - 0s 4ms/step - loss: 0.7683 - accuracy: 0.5407 - val_loss: 0.6886 - val_accuracy: 0.6948\n",
            "Epoch 85/200\n",
            "20/20 [==============================] - 0s 4ms/step - loss: 0.7468 - accuracy: 0.5489 - val_loss: 0.6886 - val_accuracy: 0.6948\n",
            "Epoch 86/200\n",
            "20/20 [==============================] - 0s 4ms/step - loss: 0.7435 - accuracy: 0.5863 - val_loss: 0.6886 - val_accuracy: 0.6948\n",
            "Epoch 87/200\n",
            "20/20 [==============================] - 0s 4ms/step - loss: 0.7658 - accuracy: 0.5179 - val_loss: 0.6885 - val_accuracy: 0.6948\n",
            "Epoch 88/200\n",
            "20/20 [==============================] - 0s 5ms/step - loss: 0.7335 - accuracy: 0.5586 - val_loss: 0.6885 - val_accuracy: 0.6948\n",
            "Epoch 89/200\n",
            "20/20 [==============================] - 0s 4ms/step - loss: 0.7289 - accuracy: 0.5831 - val_loss: 0.6885 - val_accuracy: 0.6948\n",
            "Epoch 90/200\n",
            "20/20 [==============================] - 0s 5ms/step - loss: 0.7320 - accuracy: 0.5717 - val_loss: 0.6885 - val_accuracy: 0.6948\n",
            "Epoch 91/200\n",
            "20/20 [==============================] - 0s 5ms/step - loss: 0.7780 - accuracy: 0.5309 - val_loss: 0.6885 - val_accuracy: 0.6948\n",
            "Epoch 92/200\n",
            "20/20 [==============================] - 0s 4ms/step - loss: 0.7419 - accuracy: 0.5342 - val_loss: 0.6885 - val_accuracy: 0.6883\n",
            "Epoch 93/200\n",
            "20/20 [==============================] - 0s 5ms/step - loss: 0.7573 - accuracy: 0.5586 - val_loss: 0.6885 - val_accuracy: 0.6883\n",
            "Epoch 94/200\n",
            "20/20 [==============================] - 0s 4ms/step - loss: 0.7497 - accuracy: 0.5505 - val_loss: 0.6884 - val_accuracy: 0.6883\n",
            "Epoch 95/200\n",
            "20/20 [==============================] - 0s 4ms/step - loss: 0.7865 - accuracy: 0.5651 - val_loss: 0.6884 - val_accuracy: 0.6883\n",
            "Epoch 96/200\n",
            "20/20 [==============================] - 0s 4ms/step - loss: 0.7371 - accuracy: 0.5814 - val_loss: 0.6884 - val_accuracy: 0.6883\n",
            "Epoch 97/200\n",
            "20/20 [==============================] - 0s 4ms/step - loss: 0.7377 - accuracy: 0.5717 - val_loss: 0.6884 - val_accuracy: 0.6883\n",
            "Epoch 98/200\n",
            "20/20 [==============================] - 0s 5ms/step - loss: 0.7423 - accuracy: 0.5684 - val_loss: 0.6884 - val_accuracy: 0.6883\n",
            "Epoch 99/200\n",
            "20/20 [==============================] - 0s 4ms/step - loss: 0.7520 - accuracy: 0.5391 - val_loss: 0.6884 - val_accuracy: 0.6883\n",
            "Epoch 100/200\n",
            "20/20 [==============================] - 0s 5ms/step - loss: 0.7987 - accuracy: 0.5277 - val_loss: 0.6884 - val_accuracy: 0.6883\n",
            "Epoch 101/200\n",
            "20/20 [==============================] - 0s 5ms/step - loss: 0.7497 - accuracy: 0.5635 - val_loss: 0.6883 - val_accuracy: 0.6883\n",
            "Epoch 102/200\n",
            "20/20 [==============================] - 0s 5ms/step - loss: 0.7350 - accuracy: 0.5586 - val_loss: 0.6883 - val_accuracy: 0.6883\n",
            "Epoch 103/200\n",
            "20/20 [==============================] - 0s 4ms/step - loss: 0.7717 - accuracy: 0.5114 - val_loss: 0.6883 - val_accuracy: 0.6883\n",
            "Epoch 104/200\n",
            "20/20 [==============================] - 0s 4ms/step - loss: 0.7724 - accuracy: 0.5081 - val_loss: 0.6883 - val_accuracy: 0.6883\n",
            "Epoch 105/200\n",
            "20/20 [==============================] - 0s 4ms/step - loss: 0.7289 - accuracy: 0.5765 - val_loss: 0.6883 - val_accuracy: 0.6883\n",
            "Epoch 106/200\n",
            "20/20 [==============================] - 0s 4ms/step - loss: 0.7654 - accuracy: 0.5619 - val_loss: 0.6883 - val_accuracy: 0.6883\n",
            "Epoch 107/200\n",
            "20/20 [==============================] - 0s 4ms/step - loss: 0.7395 - accuracy: 0.5570 - val_loss: 0.6882 - val_accuracy: 0.6883\n",
            "Epoch 108/200\n",
            "20/20 [==============================] - 0s 4ms/step - loss: 0.7448 - accuracy: 0.5489 - val_loss: 0.6882 - val_accuracy: 0.6883\n",
            "Epoch 109/200\n",
            "20/20 [==============================] - 0s 4ms/step - loss: 0.7217 - accuracy: 0.5733 - val_loss: 0.6882 - val_accuracy: 0.6883\n",
            "Epoch 110/200\n",
            "20/20 [==============================] - 0s 4ms/step - loss: 0.7464 - accuracy: 0.5537 - val_loss: 0.6882 - val_accuracy: 0.6883\n",
            "Epoch 111/200\n",
            "20/20 [==============================] - 0s 4ms/step - loss: 0.7336 - accuracy: 0.5717 - val_loss: 0.6882 - val_accuracy: 0.6948\n",
            "Epoch 112/200\n",
            "20/20 [==============================] - 0s 5ms/step - loss: 0.7292 - accuracy: 0.5505 - val_loss: 0.6882 - val_accuracy: 0.6948\n",
            "Epoch 113/200\n",
            "20/20 [==============================] - 0s 4ms/step - loss: 0.7430 - accuracy: 0.5635 - val_loss: 0.6882 - val_accuracy: 0.6948\n",
            "Epoch 114/200\n",
            "20/20 [==============================] - 0s 4ms/step - loss: 0.7629 - accuracy: 0.5472 - val_loss: 0.6881 - val_accuracy: 0.6948\n",
            "Epoch 115/200\n",
            "20/20 [==============================] - 0s 4ms/step - loss: 0.7481 - accuracy: 0.5586 - val_loss: 0.6881 - val_accuracy: 0.6948\n",
            "Epoch 116/200\n",
            "20/20 [==============================] - 0s 4ms/step - loss: 0.7331 - accuracy: 0.5782 - val_loss: 0.6881 - val_accuracy: 0.6948\n",
            "Epoch 117/200\n",
            "20/20 [==============================] - 0s 4ms/step - loss: 0.7370 - accuracy: 0.5537 - val_loss: 0.6881 - val_accuracy: 0.6948\n",
            "Epoch 118/200\n",
            "20/20 [==============================] - 0s 4ms/step - loss: 0.7682 - accuracy: 0.5326 - val_loss: 0.6881 - val_accuracy: 0.6948\n",
            "Epoch 119/200\n",
            "20/20 [==============================] - 0s 4ms/step - loss: 0.7314 - accuracy: 0.5749 - val_loss: 0.6881 - val_accuracy: 0.6883\n",
            "Epoch 120/200\n",
            "20/20 [==============================] - 0s 5ms/step - loss: 0.7526 - accuracy: 0.5668 - val_loss: 0.6881 - val_accuracy: 0.6883\n",
            "Epoch 121/200\n",
            "20/20 [==============================] - 0s 4ms/step - loss: 0.7482 - accuracy: 0.5505 - val_loss: 0.6880 - val_accuracy: 0.6883\n",
            "Epoch 122/200\n",
            "20/20 [==============================] - 0s 5ms/step - loss: 0.7537 - accuracy: 0.5651 - val_loss: 0.6880 - val_accuracy: 0.6883\n",
            "Epoch 123/200\n",
            "20/20 [==============================] - 0s 4ms/step - loss: 0.7641 - accuracy: 0.5521 - val_loss: 0.6880 - val_accuracy: 0.6883\n",
            "Epoch 124/200\n",
            "20/20 [==============================] - 0s 4ms/step - loss: 0.7547 - accuracy: 0.5423 - val_loss: 0.6880 - val_accuracy: 0.6883\n",
            "Epoch 125/200\n",
            "20/20 [==============================] - 0s 4ms/step - loss: 0.7439 - accuracy: 0.5472 - val_loss: 0.6880 - val_accuracy: 0.6883\n",
            "Epoch 126/200\n",
            "20/20 [==============================] - 0s 5ms/step - loss: 0.7918 - accuracy: 0.5261 - val_loss: 0.6880 - val_accuracy: 0.6818\n",
            "Epoch 127/200\n",
            "20/20 [==============================] - 0s 4ms/step - loss: 0.7264 - accuracy: 0.5700 - val_loss: 0.6879 - val_accuracy: 0.6818\n",
            "Epoch 128/200\n",
            "20/20 [==============================] - 0s 4ms/step - loss: 0.7470 - accuracy: 0.5603 - val_loss: 0.6879 - val_accuracy: 0.6753\n",
            "Epoch 129/200\n",
            "20/20 [==============================] - 0s 4ms/step - loss: 0.7477 - accuracy: 0.5684 - val_loss: 0.6879 - val_accuracy: 0.6753\n",
            "Epoch 130/200\n",
            "20/20 [==============================] - 0s 4ms/step - loss: 0.7446 - accuracy: 0.5700 - val_loss: 0.6879 - val_accuracy: 0.6753\n",
            "Epoch 131/200\n",
            "20/20 [==============================] - 0s 5ms/step - loss: 0.7603 - accuracy: 0.5179 - val_loss: 0.6879 - val_accuracy: 0.6753\n",
            "Epoch 132/200\n",
            "20/20 [==============================] - 0s 5ms/step - loss: 0.7562 - accuracy: 0.5537 - val_loss: 0.6879 - val_accuracy: 0.6753\n",
            "Epoch 133/200\n",
            "20/20 [==============================] - 0s 5ms/step - loss: 0.7680 - accuracy: 0.5309 - val_loss: 0.6878 - val_accuracy: 0.6753\n",
            "Epoch 134/200\n",
            "20/20 [==============================] - 0s 4ms/step - loss: 0.7513 - accuracy: 0.5619 - val_loss: 0.6878 - val_accuracy: 0.6753\n",
            "Epoch 135/200\n",
            "20/20 [==============================] - 0s 4ms/step - loss: 0.7553 - accuracy: 0.5651 - val_loss: 0.6878 - val_accuracy: 0.6753\n",
            "Epoch 136/200\n",
            "20/20 [==============================] - 0s 5ms/step - loss: 0.7438 - accuracy: 0.5782 - val_loss: 0.6878 - val_accuracy: 0.6753\n",
            "Epoch 137/200\n",
            "20/20 [==============================] - 0s 4ms/step - loss: 0.7105 - accuracy: 0.5928 - val_loss: 0.6878 - val_accuracy: 0.6753\n",
            "Epoch 138/200\n",
            "20/20 [==============================] - 0s 4ms/step - loss: 0.7177 - accuracy: 0.5733 - val_loss: 0.6878 - val_accuracy: 0.6753\n",
            "Epoch 139/200\n",
            "20/20 [==============================] - 0s 4ms/step - loss: 0.7474 - accuracy: 0.5554 - val_loss: 0.6878 - val_accuracy: 0.6753\n",
            "Epoch 140/200\n",
            "20/20 [==============================] - 0s 4ms/step - loss: 0.7470 - accuracy: 0.5489 - val_loss: 0.6877 - val_accuracy: 0.6753\n",
            "Epoch 141/200\n",
            "20/20 [==============================] - 0s 4ms/step - loss: 0.7480 - accuracy: 0.5472 - val_loss: 0.6877 - val_accuracy: 0.6753\n",
            "Epoch 142/200\n",
            "20/20 [==============================] - 0s 6ms/step - loss: 0.7743 - accuracy: 0.5212 - val_loss: 0.6877 - val_accuracy: 0.6753\n",
            "Epoch 143/200\n",
            "20/20 [==============================] - 0s 5ms/step - loss: 0.7508 - accuracy: 0.5570 - val_loss: 0.6877 - val_accuracy: 0.6753\n",
            "Epoch 144/200\n",
            "20/20 [==============================] - 0s 4ms/step - loss: 0.7552 - accuracy: 0.5847 - val_loss: 0.6877 - val_accuracy: 0.6753\n",
            "Epoch 145/200\n",
            "20/20 [==============================] - 0s 4ms/step - loss: 0.7269 - accuracy: 0.5684 - val_loss: 0.6877 - val_accuracy: 0.6753\n",
            "Epoch 146/200\n",
            "20/20 [==============================] - 0s 4ms/step - loss: 0.7415 - accuracy: 0.5700 - val_loss: 0.6876 - val_accuracy: 0.6753\n",
            "Epoch 147/200\n",
            "20/20 [==============================] - 0s 4ms/step - loss: 0.7388 - accuracy: 0.5782 - val_loss: 0.6876 - val_accuracy: 0.6753\n",
            "Epoch 148/200\n",
            "20/20 [==============================] - 0s 5ms/step - loss: 0.7352 - accuracy: 0.5440 - val_loss: 0.6876 - val_accuracy: 0.6753\n",
            "Epoch 149/200\n",
            "20/20 [==============================] - 0s 4ms/step - loss: 0.7473 - accuracy: 0.5309 - val_loss: 0.6876 - val_accuracy: 0.6753\n",
            "Epoch 150/200\n",
            "20/20 [==============================] - 0s 4ms/step - loss: 0.7731 - accuracy: 0.5407 - val_loss: 0.6876 - val_accuracy: 0.6753\n",
            "Epoch 151/200\n",
            "20/20 [==============================] - 0s 4ms/step - loss: 0.7564 - accuracy: 0.5651 - val_loss: 0.6876 - val_accuracy: 0.6753\n",
            "Epoch 152/200\n",
            "20/20 [==============================] - 0s 4ms/step - loss: 0.7538 - accuracy: 0.5277 - val_loss: 0.6875 - val_accuracy: 0.6753\n",
            "Epoch 153/200\n",
            "20/20 [==============================] - 0s 4ms/step - loss: 0.7300 - accuracy: 0.5733 - val_loss: 0.6875 - val_accuracy: 0.6753\n",
            "Epoch 154/200\n",
            "20/20 [==============================] - 0s 4ms/step - loss: 0.6915 - accuracy: 0.5945 - val_loss: 0.6875 - val_accuracy: 0.6753\n",
            "Epoch 155/200\n",
            "20/20 [==============================] - 0s 5ms/step - loss: 0.7232 - accuracy: 0.5798 - val_loss: 0.6875 - val_accuracy: 0.6753\n",
            "Epoch 156/200\n",
            "20/20 [==============================] - 0s 6ms/step - loss: 0.7737 - accuracy: 0.5195 - val_loss: 0.6875 - val_accuracy: 0.6753\n",
            "Epoch 157/200\n",
            "20/20 [==============================] - 0s 4ms/step - loss: 0.7366 - accuracy: 0.5228 - val_loss: 0.6875 - val_accuracy: 0.6688\n",
            "Epoch 158/200\n",
            "20/20 [==============================] - 0s 5ms/step - loss: 0.7768 - accuracy: 0.5407 - val_loss: 0.6875 - val_accuracy: 0.6688\n",
            "Epoch 159/200\n",
            "20/20 [==============================] - 0s 5ms/step - loss: 0.7440 - accuracy: 0.5375 - val_loss: 0.6875 - val_accuracy: 0.6688\n",
            "Epoch 160/200\n",
            "20/20 [==============================] - 0s 4ms/step - loss: 0.7783 - accuracy: 0.5407 - val_loss: 0.6874 - val_accuracy: 0.6623\n",
            "Epoch 161/200\n",
            "20/20 [==============================] - 0s 4ms/step - loss: 0.7609 - accuracy: 0.5635 - val_loss: 0.6874 - val_accuracy: 0.6623\n",
            "Epoch 162/200\n",
            "20/20 [==============================] - 0s 5ms/step - loss: 0.7500 - accuracy: 0.5212 - val_loss: 0.6874 - val_accuracy: 0.6623\n",
            "Epoch 163/200\n",
            "20/20 [==============================] - 0s 4ms/step - loss: 0.7448 - accuracy: 0.5570 - val_loss: 0.6874 - val_accuracy: 0.6623\n",
            "Epoch 164/200\n",
            "20/20 [==============================] - 0s 4ms/step - loss: 0.7604 - accuracy: 0.5765 - val_loss: 0.6874 - val_accuracy: 0.6623\n",
            "Epoch 165/200\n",
            "20/20 [==============================] - 0s 5ms/step - loss: 0.7209 - accuracy: 0.5521 - val_loss: 0.6874 - val_accuracy: 0.6623\n",
            "Epoch 166/200\n",
            "20/20 [==============================] - 0s 5ms/step - loss: 0.7284 - accuracy: 0.5635 - val_loss: 0.6873 - val_accuracy: 0.6623\n",
            "Epoch 167/200\n",
            "20/20 [==============================] - 0s 5ms/step - loss: 0.7719 - accuracy: 0.5554 - val_loss: 0.6873 - val_accuracy: 0.6623\n",
            "Epoch 168/200\n",
            "20/20 [==============================] - 0s 4ms/step - loss: 0.7468 - accuracy: 0.5619 - val_loss: 0.6873 - val_accuracy: 0.6623\n",
            "Epoch 169/200\n",
            "20/20 [==============================] - 0s 4ms/step - loss: 0.7662 - accuracy: 0.5228 - val_loss: 0.6873 - val_accuracy: 0.6623\n",
            "Epoch 170/200\n",
            "20/20 [==============================] - 0s 5ms/step - loss: 0.7594 - accuracy: 0.5489 - val_loss: 0.6873 - val_accuracy: 0.6623\n",
            "Epoch 171/200\n",
            "20/20 [==============================] - 0s 5ms/step - loss: 0.7570 - accuracy: 0.5847 - val_loss: 0.6873 - val_accuracy: 0.6623\n",
            "Epoch 172/200\n",
            "20/20 [==============================] - 0s 5ms/step - loss: 0.7264 - accuracy: 0.5456 - val_loss: 0.6872 - val_accuracy: 0.6623\n",
            "Epoch 173/200\n",
            "20/20 [==============================] - 0s 4ms/step - loss: 0.7759 - accuracy: 0.5505 - val_loss: 0.6872 - val_accuracy: 0.6623\n",
            "Epoch 174/200\n",
            "20/20 [==============================] - 0s 4ms/step - loss: 0.7155 - accuracy: 0.5440 - val_loss: 0.6872 - val_accuracy: 0.6688\n",
            "Epoch 175/200\n",
            "20/20 [==============================] - 0s 5ms/step - loss: 0.7372 - accuracy: 0.5945 - val_loss: 0.6872 - val_accuracy: 0.6688\n",
            "Epoch 176/200\n",
            "20/20 [==============================] - 0s 5ms/step - loss: 0.7243 - accuracy: 0.5847 - val_loss: 0.6872 - val_accuracy: 0.6688\n",
            "Epoch 177/200\n",
            "20/20 [==============================] - 0s 4ms/step - loss: 0.7553 - accuracy: 0.5619 - val_loss: 0.6872 - val_accuracy: 0.6688\n",
            "Epoch 178/200\n",
            "20/20 [==============================] - 0s 5ms/step - loss: 0.7449 - accuracy: 0.5456 - val_loss: 0.6872 - val_accuracy: 0.6688\n",
            "Epoch 179/200\n",
            "20/20 [==============================] - 0s 5ms/step - loss: 0.7303 - accuracy: 0.5456 - val_loss: 0.6871 - val_accuracy: 0.6688\n",
            "Epoch 180/200\n",
            "20/20 [==============================] - 0s 4ms/step - loss: 0.7444 - accuracy: 0.5440 - val_loss: 0.6871 - val_accuracy: 0.6623\n",
            "Epoch 181/200\n",
            "20/20 [==============================] - 0s 4ms/step - loss: 0.7430 - accuracy: 0.5717 - val_loss: 0.6871 - val_accuracy: 0.6558\n",
            "Epoch 182/200\n",
            "20/20 [==============================] - 0s 4ms/step - loss: 0.7467 - accuracy: 0.5619 - val_loss: 0.6871 - val_accuracy: 0.6558\n",
            "Epoch 183/200\n",
            "20/20 [==============================] - 0s 4ms/step - loss: 0.7322 - accuracy: 0.5814 - val_loss: 0.6871 - val_accuracy: 0.6558\n",
            "Epoch 184/200\n",
            "20/20 [==============================] - 0s 5ms/step - loss: 0.7345 - accuracy: 0.5733 - val_loss: 0.6871 - val_accuracy: 0.6558\n",
            "Epoch 185/200\n",
            "20/20 [==============================] - 0s 5ms/step - loss: 0.7319 - accuracy: 0.5651 - val_loss: 0.6870 - val_accuracy: 0.6558\n",
            "Epoch 186/200\n",
            "20/20 [==============================] - 0s 5ms/step - loss: 0.7355 - accuracy: 0.5684 - val_loss: 0.6870 - val_accuracy: 0.6558\n",
            "Epoch 187/200\n",
            "20/20 [==============================] - 0s 4ms/step - loss: 0.7488 - accuracy: 0.5537 - val_loss: 0.6870 - val_accuracy: 0.6558\n",
            "Epoch 188/200\n",
            "20/20 [==============================] - 0s 4ms/step - loss: 0.7565 - accuracy: 0.5358 - val_loss: 0.6870 - val_accuracy: 0.6558\n",
            "Epoch 189/200\n",
            "20/20 [==============================] - 0s 5ms/step - loss: 0.7470 - accuracy: 0.5619 - val_loss: 0.6870 - val_accuracy: 0.6558\n",
            "Epoch 190/200\n",
            "20/20 [==============================] - 0s 5ms/step - loss: 0.7675 - accuracy: 0.5505 - val_loss: 0.6870 - val_accuracy: 0.6558\n",
            "Epoch 191/200\n",
            "20/20 [==============================] - 0s 4ms/step - loss: 0.7641 - accuracy: 0.5244 - val_loss: 0.6869 - val_accuracy: 0.6558\n",
            "Epoch 192/200\n",
            "20/20 [==============================] - 0s 4ms/step - loss: 0.7333 - accuracy: 0.5684 - val_loss: 0.6869 - val_accuracy: 0.6558\n",
            "Epoch 193/200\n",
            "20/20 [==============================] - 0s 4ms/step - loss: 0.7763 - accuracy: 0.5440 - val_loss: 0.6869 - val_accuracy: 0.6558\n",
            "Epoch 194/200\n",
            "20/20 [==============================] - 0s 4ms/step - loss: 0.7613 - accuracy: 0.5521 - val_loss: 0.6869 - val_accuracy: 0.6558\n",
            "Epoch 195/200\n",
            "20/20 [==============================] - 0s 5ms/step - loss: 0.7750 - accuracy: 0.5472 - val_loss: 0.6869 - val_accuracy: 0.6558\n",
            "Epoch 196/200\n",
            "20/20 [==============================] - 0s 4ms/step - loss: 0.7560 - accuracy: 0.5505 - val_loss: 0.6869 - val_accuracy: 0.6558\n",
            "Epoch 197/200\n",
            "20/20 [==============================] - 0s 5ms/step - loss: 0.7678 - accuracy: 0.5342 - val_loss: 0.6869 - val_accuracy: 0.6558\n",
            "Epoch 198/200\n",
            "20/20 [==============================] - 0s 4ms/step - loss: 0.7373 - accuracy: 0.5521 - val_loss: 0.6869 - val_accuracy: 0.6558\n",
            "Epoch 199/200\n",
            "20/20 [==============================] - 0s 4ms/step - loss: 0.7630 - accuracy: 0.5521 - val_loss: 0.6868 - val_accuracy: 0.6558\n",
            "Epoch 200/200\n",
            "20/20 [==============================] - 0s 4ms/step - loss: 0.7506 - accuracy: 0.5570 - val_loss: 0.6868 - val_accuracy: 0.6558\n"
          ]
        },
        {
          "output_type": "execute_result",
          "data": {
            "text/plain": [
              "<keras.callbacks.History at 0x7f0ca1443670>"
            ]
          },
          "metadata": {},
          "execution_count": 135
        }
      ]
    }
  ]
}
