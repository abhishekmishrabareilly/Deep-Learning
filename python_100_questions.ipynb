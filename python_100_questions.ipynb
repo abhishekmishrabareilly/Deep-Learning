{
  "nbformat": 4,
  "nbformat_minor": 0,
  "metadata": {
    "colab": {
      "provenance": [],
      "mount_file_id": "1mcQ6eqqrS89L-Mkly58H61Y7jcMo17-7",
      "authorship_tag": "ABX9TyNBYk2ffdAykNqoqpQiGicp",
      "include_colab_link": true
    },
    "kernelspec": {
      "name": "python3",
      "display_name": "Python 3"
    },
    "language_info": {
      "name": "python"
    }
  },
  "cells": [
    {
      "cell_type": "markdown",
      "metadata": {
        "id": "view-in-github",
        "colab_type": "text"
      },
      "source": [
        "<a href=\"https://colab.research.google.com/github/abhishekmishrabareilly/Deep-Learning/blob/main/python_100_questions.ipynb\" target=\"_parent\"><img src=\"https://colab.research.google.com/assets/colab-badge.svg\" alt=\"Open In Colab\"/></a>"
      ]
    },
    {
      "cell_type": "markdown",
      "source": [
        "**Q - find out the data types and count only int type of data**"
      ],
      "metadata": {
        "id": "dFNaQQ0kmx-x"
      }
    },
    {
      "cell_type": "code",
      "source": [
        "import pandas as pd\n",
        "import numpy as np"
      ],
      "metadata": {
        "id": "BGvraZa_mVU8"
      },
      "execution_count": 2,
      "outputs": []
    },
    {
      "cell_type": "code",
      "execution_count": 5,
      "metadata": {
        "id": "kNw-kiI7klYg"
      },
      "outputs": [],
      "source": [
        "data = pd.read_csv('/content/drive/MyDrive/Colab Notebooks/PYTHON/colab with data/automobile/automobile_data.csv')"
      ]
    },
    {
      "cell_type": "code",
      "source": [
        "data.head()"
      ],
      "metadata": {
        "colab": {
          "base_uri": "https://localhost:8080/",
          "height": 386
        },
        "id": "VJluIrRkmSFm",
        "outputId": "a3227597-4cad-40c2-bff5-4c2dc7ba6472"
      },
      "execution_count": 6,
      "outputs": [
        {
          "output_type": "execute_result",
          "data": {
            "text/plain": [
              "   symboling normalized-losses         make fuel-type aspiration num-of-doors  \\\n",
              "0          3                 ?  alfa-romero       gas        std          two   \n",
              "1          3                 ?  alfa-romero       gas        std          two   \n",
              "2          1                 ?  alfa-romero       gas        std          two   \n",
              "3          2               164         audi       gas        std         four   \n",
              "4          2               164         audi       gas        std         four   \n",
              "\n",
              "    body-style drive-wheels engine-location  wheel-base  ...  engine-size  \\\n",
              "0  convertible          rwd           front        88.6  ...          130   \n",
              "1  convertible          rwd           front        88.6  ...          130   \n",
              "2    hatchback          rwd           front        94.5  ...          152   \n",
              "3        sedan          fwd           front        99.8  ...          109   \n",
              "4        sedan          4wd           front        99.4  ...          136   \n",
              "\n",
              "   fuel-system  bore  stroke compression-ratio horsepower  peak-rpm city-mpg  \\\n",
              "0         mpfi  3.47    2.68               9.0        111      5000       21   \n",
              "1         mpfi  3.47    2.68               9.0        111      5000       21   \n",
              "2         mpfi  2.68    3.47               9.0        154      5000       19   \n",
              "3         mpfi  3.19     3.4              10.0        102      5500       24   \n",
              "4         mpfi  3.19     3.4               8.0        115      5500       18   \n",
              "\n",
              "  highway-mpg  price  \n",
              "0          27  13495  \n",
              "1          27  16500  \n",
              "2          26  16500  \n",
              "3          30  13950  \n",
              "4          22  17450  \n",
              "\n",
              "[5 rows x 26 columns]"
            ],
            "text/html": [
              "\n",
              "  <div id=\"df-048f4c68-d215-42a5-b0db-b156983128bc\">\n",
              "    <div class=\"colab-df-container\">\n",
              "      <div>\n",
              "<style scoped>\n",
              "    .dataframe tbody tr th:only-of-type {\n",
              "        vertical-align: middle;\n",
              "    }\n",
              "\n",
              "    .dataframe tbody tr th {\n",
              "        vertical-align: top;\n",
              "    }\n",
              "\n",
              "    .dataframe thead th {\n",
              "        text-align: right;\n",
              "    }\n",
              "</style>\n",
              "<table border=\"1\" class=\"dataframe\">\n",
              "  <thead>\n",
              "    <tr style=\"text-align: right;\">\n",
              "      <th></th>\n",
              "      <th>symboling</th>\n",
              "      <th>normalized-losses</th>\n",
              "      <th>make</th>\n",
              "      <th>fuel-type</th>\n",
              "      <th>aspiration</th>\n",
              "      <th>num-of-doors</th>\n",
              "      <th>body-style</th>\n",
              "      <th>drive-wheels</th>\n",
              "      <th>engine-location</th>\n",
              "      <th>wheel-base</th>\n",
              "      <th>...</th>\n",
              "      <th>engine-size</th>\n",
              "      <th>fuel-system</th>\n",
              "      <th>bore</th>\n",
              "      <th>stroke</th>\n",
              "      <th>compression-ratio</th>\n",
              "      <th>horsepower</th>\n",
              "      <th>peak-rpm</th>\n",
              "      <th>city-mpg</th>\n",
              "      <th>highway-mpg</th>\n",
              "      <th>price</th>\n",
              "    </tr>\n",
              "  </thead>\n",
              "  <tbody>\n",
              "    <tr>\n",
              "      <th>0</th>\n",
              "      <td>3</td>\n",
              "      <td>?</td>\n",
              "      <td>alfa-romero</td>\n",
              "      <td>gas</td>\n",
              "      <td>std</td>\n",
              "      <td>two</td>\n",
              "      <td>convertible</td>\n",
              "      <td>rwd</td>\n",
              "      <td>front</td>\n",
              "      <td>88.6</td>\n",
              "      <td>...</td>\n",
              "      <td>130</td>\n",
              "      <td>mpfi</td>\n",
              "      <td>3.47</td>\n",
              "      <td>2.68</td>\n",
              "      <td>9.0</td>\n",
              "      <td>111</td>\n",
              "      <td>5000</td>\n",
              "      <td>21</td>\n",
              "      <td>27</td>\n",
              "      <td>13495</td>\n",
              "    </tr>\n",
              "    <tr>\n",
              "      <th>1</th>\n",
              "      <td>3</td>\n",
              "      <td>?</td>\n",
              "      <td>alfa-romero</td>\n",
              "      <td>gas</td>\n",
              "      <td>std</td>\n",
              "      <td>two</td>\n",
              "      <td>convertible</td>\n",
              "      <td>rwd</td>\n",
              "      <td>front</td>\n",
              "      <td>88.6</td>\n",
              "      <td>...</td>\n",
              "      <td>130</td>\n",
              "      <td>mpfi</td>\n",
              "      <td>3.47</td>\n",
              "      <td>2.68</td>\n",
              "      <td>9.0</td>\n",
              "      <td>111</td>\n",
              "      <td>5000</td>\n",
              "      <td>21</td>\n",
              "      <td>27</td>\n",
              "      <td>16500</td>\n",
              "    </tr>\n",
              "    <tr>\n",
              "      <th>2</th>\n",
              "      <td>1</td>\n",
              "      <td>?</td>\n",
              "      <td>alfa-romero</td>\n",
              "      <td>gas</td>\n",
              "      <td>std</td>\n",
              "      <td>two</td>\n",
              "      <td>hatchback</td>\n",
              "      <td>rwd</td>\n",
              "      <td>front</td>\n",
              "      <td>94.5</td>\n",
              "      <td>...</td>\n",
              "      <td>152</td>\n",
              "      <td>mpfi</td>\n",
              "      <td>2.68</td>\n",
              "      <td>3.47</td>\n",
              "      <td>9.0</td>\n",
              "      <td>154</td>\n",
              "      <td>5000</td>\n",
              "      <td>19</td>\n",
              "      <td>26</td>\n",
              "      <td>16500</td>\n",
              "    </tr>\n",
              "    <tr>\n",
              "      <th>3</th>\n",
              "      <td>2</td>\n",
              "      <td>164</td>\n",
              "      <td>audi</td>\n",
              "      <td>gas</td>\n",
              "      <td>std</td>\n",
              "      <td>four</td>\n",
              "      <td>sedan</td>\n",
              "      <td>fwd</td>\n",
              "      <td>front</td>\n",
              "      <td>99.8</td>\n",
              "      <td>...</td>\n",
              "      <td>109</td>\n",
              "      <td>mpfi</td>\n",
              "      <td>3.19</td>\n",
              "      <td>3.4</td>\n",
              "      <td>10.0</td>\n",
              "      <td>102</td>\n",
              "      <td>5500</td>\n",
              "      <td>24</td>\n",
              "      <td>30</td>\n",
              "      <td>13950</td>\n",
              "    </tr>\n",
              "    <tr>\n",
              "      <th>4</th>\n",
              "      <td>2</td>\n",
              "      <td>164</td>\n",
              "      <td>audi</td>\n",
              "      <td>gas</td>\n",
              "      <td>std</td>\n",
              "      <td>four</td>\n",
              "      <td>sedan</td>\n",
              "      <td>4wd</td>\n",
              "      <td>front</td>\n",
              "      <td>99.4</td>\n",
              "      <td>...</td>\n",
              "      <td>136</td>\n",
              "      <td>mpfi</td>\n",
              "      <td>3.19</td>\n",
              "      <td>3.4</td>\n",
              "      <td>8.0</td>\n",
              "      <td>115</td>\n",
              "      <td>5500</td>\n",
              "      <td>18</td>\n",
              "      <td>22</td>\n",
              "      <td>17450</td>\n",
              "    </tr>\n",
              "  </tbody>\n",
              "</table>\n",
              "<p>5 rows × 26 columns</p>\n",
              "</div>\n",
              "      <button class=\"colab-df-convert\" onclick=\"convertToInteractive('df-048f4c68-d215-42a5-b0db-b156983128bc')\"\n",
              "              title=\"Convert this dataframe to an interactive table.\"\n",
              "              style=\"display:none;\">\n",
              "        \n",
              "  <svg xmlns=\"http://www.w3.org/2000/svg\" height=\"24px\"viewBox=\"0 0 24 24\"\n",
              "       width=\"24px\">\n",
              "    <path d=\"M0 0h24v24H0V0z\" fill=\"none\"/>\n",
              "    <path d=\"M18.56 5.44l.94 2.06.94-2.06 2.06-.94-2.06-.94-.94-2.06-.94 2.06-2.06.94zm-11 1L8.5 8.5l.94-2.06 2.06-.94-2.06-.94L8.5 2.5l-.94 2.06-2.06.94zm10 10l.94 2.06.94-2.06 2.06-.94-2.06-.94-.94-2.06-.94 2.06-2.06.94z\"/><path d=\"M17.41 7.96l-1.37-1.37c-.4-.4-.92-.59-1.43-.59-.52 0-1.04.2-1.43.59L10.3 9.45l-7.72 7.72c-.78.78-.78 2.05 0 2.83L4 21.41c.39.39.9.59 1.41.59.51 0 1.02-.2 1.41-.59l7.78-7.78 2.81-2.81c.8-.78.8-2.07 0-2.86zM5.41 20L4 18.59l7.72-7.72 1.47 1.35L5.41 20z\"/>\n",
              "  </svg>\n",
              "      </button>\n",
              "      \n",
              "  <style>\n",
              "    .colab-df-container {\n",
              "      display:flex;\n",
              "      flex-wrap:wrap;\n",
              "      gap: 12px;\n",
              "    }\n",
              "\n",
              "    .colab-df-convert {\n",
              "      background-color: #E8F0FE;\n",
              "      border: none;\n",
              "      border-radius: 50%;\n",
              "      cursor: pointer;\n",
              "      display: none;\n",
              "      fill: #1967D2;\n",
              "      height: 32px;\n",
              "      padding: 0 0 0 0;\n",
              "      width: 32px;\n",
              "    }\n",
              "\n",
              "    .colab-df-convert:hover {\n",
              "      background-color: #E2EBFA;\n",
              "      box-shadow: 0px 1px 2px rgba(60, 64, 67, 0.3), 0px 1px 3px 1px rgba(60, 64, 67, 0.15);\n",
              "      fill: #174EA6;\n",
              "    }\n",
              "\n",
              "    [theme=dark] .colab-df-convert {\n",
              "      background-color: #3B4455;\n",
              "      fill: #D2E3FC;\n",
              "    }\n",
              "\n",
              "    [theme=dark] .colab-df-convert:hover {\n",
              "      background-color: #434B5C;\n",
              "      box-shadow: 0px 1px 3px 1px rgba(0, 0, 0, 0.15);\n",
              "      filter: drop-shadow(0px 1px 2px rgba(0, 0, 0, 0.3));\n",
              "      fill: #FFFFFF;\n",
              "    }\n",
              "  </style>\n",
              "\n",
              "      <script>\n",
              "        const buttonEl =\n",
              "          document.querySelector('#df-048f4c68-d215-42a5-b0db-b156983128bc button.colab-df-convert');\n",
              "        buttonEl.style.display =\n",
              "          google.colab.kernel.accessAllowed ? 'block' : 'none';\n",
              "\n",
              "        async function convertToInteractive(key) {\n",
              "          const element = document.querySelector('#df-048f4c68-d215-42a5-b0db-b156983128bc');\n",
              "          const dataTable =\n",
              "            await google.colab.kernel.invokeFunction('convertToInteractive',\n",
              "                                                     [key], {});\n",
              "          if (!dataTable) return;\n",
              "\n",
              "          const docLinkHtml = 'Like what you see? Visit the ' +\n",
              "            '<a target=\"_blank\" href=https://colab.research.google.com/notebooks/data_table.ipynb>data table notebook</a>'\n",
              "            + ' to learn more about interactive tables.';\n",
              "          element.innerHTML = '';\n",
              "          dataTable['output_type'] = 'display_data';\n",
              "          await google.colab.output.renderOutput(dataTable, element);\n",
              "          const docLink = document.createElement('div');\n",
              "          docLink.innerHTML = docLinkHtml;\n",
              "          element.appendChild(docLink);\n",
              "        }\n",
              "      </script>\n",
              "    </div>\n",
              "  </div>\n",
              "  "
            ]
          },
          "metadata": {},
          "execution_count": 6
        }
      ]
    },
    {
      "cell_type": "code",
      "source": [
        "data.dtypes.value_counts()"
      ],
      "metadata": {
        "colab": {
          "base_uri": "https://localhost:8080/"
        },
        "id": "ISLk0fkhmapg",
        "outputId": "ef00ed13-dfe8-421b-b4ad-56f4487be793"
      },
      "execution_count": 12,
      "outputs": [
        {
          "output_type": "execute_result",
          "data": {
            "text/plain": [
              "object     16\n",
              "int64       5\n",
              "float64     5\n",
              "dtype: int64"
            ]
          },
          "metadata": {},
          "execution_count": 12
        }
      ]
    },
    {
      "cell_type": "code",
      "source": [
        "new_data = data.select_dtypes(include = ['int64','float64'])\n",
        "new_data.dtypes.value_counts()"
      ],
      "metadata": {
        "colab": {
          "base_uri": "https://localhost:8080/"
        },
        "id": "o4cVfcpEnBko",
        "outputId": "e1e0d3e2-f410-478d-9c62-b598b35916cc"
      },
      "execution_count": 23,
      "outputs": [
        {
          "output_type": "execute_result",
          "data": {
            "text/plain": [
              "int64      5\n",
              "float64    5\n",
              "dtype: int64"
            ]
          },
          "metadata": {},
          "execution_count": 23
        }
      ]
    },
    {
      "cell_type": "markdown",
      "source": [
        "**Q - find top 5 highlly corelated varibles**\n"
      ],
      "metadata": {
        "id": "FvXE2rg3oSKr"
      }
    },
    {
      "cell_type": "code",
      "source": [
        "correlations = data.corr().unstack().sort_values(ascending=False)"
      ],
      "metadata": {
        "id": "xqebct4xnjJ7"
      },
      "execution_count": 26,
      "outputs": []
    },
    {
      "cell_type": "code",
      "source": [
        "correlations[correlations >= correlations.iloc[1]]"
      ],
      "metadata": {
        "colab": {
          "base_uri": "https://localhost:8080/"
        },
        "id": "4Pw4JGlrojxX",
        "outputId": "f9cb3849-9583-4bd2-83bc-2c5b1532fb80"
      },
      "execution_count": 27,
      "outputs": [
        {
          "output_type": "execute_result",
          "data": {
            "text/plain": [
              "symboling          symboling            1.0\n",
              "wheel-base         wheel-base           1.0\n",
              "city-mpg           city-mpg             1.0\n",
              "compression-ratio  compression-ratio    1.0\n",
              "engine-size        engine-size          1.0\n",
              "curb-weight        curb-weight          1.0\n",
              "height             height               1.0\n",
              "width              width                1.0\n",
              "length             length               1.0\n",
              "highway-mpg        highway-mpg          1.0\n",
              "dtype: float64"
            ]
          },
          "metadata": {},
          "execution_count": 27
        }
      ]
    },
    {
      "cell_type": "markdown",
      "source": [
        "### **Q- key features of python**\n",
        "\n",
        "* it is free and open source language\n",
        "* it hase clear syntex to understanding\n",
        "* easy to fixing errors\n",
        "* it is object orianted language"
      ],
      "metadata": {
        "id": "XAMydsTNtEY7"
      }
    },
    {
      "cell_type": "markdown",
      "source": [
        "### **Q - how many keywords in python**\n",
        "* keywords are resurved words, there are 33 keywords in python like- if, else, for, return, true, false, none, def etc"
      ],
      "metadata": {
        "id": "vSDRDBlftqdP"
      }
    },
    {
      "cell_type": "markdown",
      "source": [
        "### **Q - what are literals in python**\n",
        "* string literals - sequence of the charectors\n",
        "* numbers literals - integer, float, complex numbers\n",
        "* booleean literals - true or false\n",
        "* spacial literals none is the good example"
      ],
      "metadata": {
        "id": "eK1nFi72uJkT"
      }
    },
    {
      "cell_type": "markdown",
      "source": [
        "###**Q  - how to concat two tuples**"
      ],
      "metadata": {
        "id": "7EgK4FHuu31U"
      }
    },
    {
      "cell_type": "code",
      "source": [
        "tup1 = (1,'a',True)\n",
        "tup2 = (4,5,6)\n",
        "c = tup1 + tup2\n",
        "c"
      ],
      "metadata": {
        "colab": {
          "base_uri": "https://localhost:8080/"
        },
        "id": "ukgyLYXWtI6e",
        "outputId": "1c3c5317-e865-4262-e5a3-fa5f91ad8db9"
      },
      "execution_count": 28,
      "outputs": [
        {
          "output_type": "execute_result",
          "data": {
            "text/plain": [
              "(1, 'a', True, 4, 5, 6)"
            ]
          },
          "metadata": {},
          "execution_count": 28
        }
      ]
    },
    {
      "cell_type": "markdown",
      "source": [
        "### **Q5 - what are functions in python**\n",
        "* function is the pice of code that can be re use in the program\n",
        "* python have pre build function like print(), pop()\n",
        "* also it allowes to build function from the user using **def**"
      ],
      "metadata": {
        "id": "qmYN9l2Mw0y6"
      }
    },
    {
      "cell_type": "markdown",
      "source": [
        "### **Q6 - initialize 5*5 numpy array with only zero**"
      ],
      "metadata": {
        "id": "_KAfA7_nxwXB"
      }
    },
    {
      "cell_type": "code",
      "source": [
        "import numpy as np\n",
        "n1 = np.zeros((5,5))\n",
        "print(n1)"
      ],
      "metadata": {
        "colab": {
          "base_uri": "https://localhost:8080/"
        },
        "id": "O_afw11VvSiD",
        "outputId": "b181a548-383f-400c-863e-967522ad2a3c"
      },
      "execution_count": 31,
      "outputs": [
        {
          "output_type": "stream",
          "name": "stdout",
          "text": [
            "[[0. 0. 0. 0. 0.]\n",
            " [0. 0. 0. 0. 0.]\n",
            " [0. 0. 0. 0. 0.]\n",
            " [0. 0. 0. 0. 0.]\n",
            " [0. 0. 0. 0. 0.]]\n"
          ]
        }
      ]
    },
    {
      "cell_type": "markdown",
      "source": [
        "###**Q7 - what is pandas?**\n",
        "* it can help to deal with large variety of files using **series** and **DataFrame**"
      ],
      "metadata": {
        "id": "2mBGiB3IyVLK"
      }
    },
    {
      "cell_type": "markdown",
      "source": [
        "### **Q8 - what are dataframe?**\n",
        "* data frames are mutable datatypes present in the pandas libarary Also we can store many type of data\n",
        "* like read csv file using **pd.read_csv('my_data.csv')**"
      ],
      "metadata": {
        "id": "txjjskAGy6Aj"
      }
    },
    {
      "cell_type": "markdown",
      "source": [
        "### **Q9- what is pandas series**\n",
        "* seriese is a **one dimensional pandas datastructure** that support almost any types of data"
      ],
      "metadata": {
        "id": "Bc0P3wscz7I_"
      }
    },
    {
      "cell_type": "code",
      "source": [
        "data = ['1',2,'three',4.0]\n",
        "s = pd.Series(data)\n",
        "print(s)\n",
        "print(type(s))"
      ],
      "metadata": {
        "colab": {
          "base_uri": "https://localhost:8080/"
        },
        "id": "uzlY8kI1yNJi",
        "outputId": "e3c88a63-77fd-4815-8182-58e2177293dc"
      },
      "execution_count": 35,
      "outputs": [
        {
          "output_type": "stream",
          "name": "stdout",
          "text": [
            "0        1\n",
            "1        2\n",
            "2    three\n",
            "3      4.0\n",
            "dtype: object\n",
            "<class 'pandas.core.series.Series'>\n"
          ]
        }
      ]
    },
    {
      "cell_type": "markdown",
      "source": [
        "### **Q10 - what is the use of groupby() function**\n",
        "* it is use to take set of information and gives groupped information"
      ],
      "metadata": {
        "id": "diT-shBe1FlW"
      }
    },
    {
      "cell_type": "markdown",
      "source": [
        "### **Q11- how to create a dataframe from list**"
      ],
      "metadata": {
        "id": "kxQPmkzp3DeA"
      }
    },
    {
      "cell_type": "code",
      "source": [
        "import pandas as pd\n",
        "\n",
        "data = [[1, 2, 3], [4, 5, 6], [7, 8, 9]]\n",
        "df = pd.DataFrame(data, columns=[\"A\", \"B\", \"C\"])\n",
        "\n",
        "print(df)"
      ],
      "metadata": {
        "colab": {
          "base_uri": "https://localhost:8080/"
        },
        "id": "Qh3sZkgx05oR",
        "outputId": "186e2615-4900-4b93-9371-3674cbe66696"
      },
      "execution_count": 44,
      "outputs": [
        {
          "output_type": "stream",
          "name": "stdout",
          "text": [
            "   A  B  C\n",
            "0  1  2  3\n",
            "1  4  5  6\n",
            "2  7  8  9\n"
          ]
        }
      ]
    },
    {
      "cell_type": "markdown",
      "source": [
        "### **Q12- how to create dataframe\" from dictonary**"
      ],
      "metadata": {
        "id": "uqxCMAGF5kuC"
      }
    },
    {
      "cell_type": "code",
      "source": [
        "bikes = [1,2,3]\n",
        "car = ['mahindra', 'kia', 'tata']\n",
        "d = {'car':car,'bikes':bikes}\n",
        "data = pd.DataFrame(d)\n",
        "data"
      ],
      "metadata": {
        "colab": {
          "base_uri": "https://localhost:8080/",
          "height": 143
        },
        "id": "HE0ykFqg3moH",
        "outputId": "48afa1c8-e1a6-4fba-f784-309fb7ede295"
      },
      "execution_count": 45,
      "outputs": [
        {
          "output_type": "execute_result",
          "data": {
            "text/plain": [
              "        car  bikes\n",
              "0  mahindra      1\n",
              "1       kia      2\n",
              "2      tata      3"
            ],
            "text/html": [
              "\n",
              "  <div id=\"df-3a44c5d4-574d-45b1-8c94-482609bc472a\">\n",
              "    <div class=\"colab-df-container\">\n",
              "      <div>\n",
              "<style scoped>\n",
              "    .dataframe tbody tr th:only-of-type {\n",
              "        vertical-align: middle;\n",
              "    }\n",
              "\n",
              "    .dataframe tbody tr th {\n",
              "        vertical-align: top;\n",
              "    }\n",
              "\n",
              "    .dataframe thead th {\n",
              "        text-align: right;\n",
              "    }\n",
              "</style>\n",
              "<table border=\"1\" class=\"dataframe\">\n",
              "  <thead>\n",
              "    <tr style=\"text-align: right;\">\n",
              "      <th></th>\n",
              "      <th>car</th>\n",
              "      <th>bikes</th>\n",
              "    </tr>\n",
              "  </thead>\n",
              "  <tbody>\n",
              "    <tr>\n",
              "      <th>0</th>\n",
              "      <td>mahindra</td>\n",
              "      <td>1</td>\n",
              "    </tr>\n",
              "    <tr>\n",
              "      <th>1</th>\n",
              "      <td>kia</td>\n",
              "      <td>2</td>\n",
              "    </tr>\n",
              "    <tr>\n",
              "      <th>2</th>\n",
              "      <td>tata</td>\n",
              "      <td>3</td>\n",
              "    </tr>\n",
              "  </tbody>\n",
              "</table>\n",
              "</div>\n",
              "      <button class=\"colab-df-convert\" onclick=\"convertToInteractive('df-3a44c5d4-574d-45b1-8c94-482609bc472a')\"\n",
              "              title=\"Convert this dataframe to an interactive table.\"\n",
              "              style=\"display:none;\">\n",
              "        \n",
              "  <svg xmlns=\"http://www.w3.org/2000/svg\" height=\"24px\"viewBox=\"0 0 24 24\"\n",
              "       width=\"24px\">\n",
              "    <path d=\"M0 0h24v24H0V0z\" fill=\"none\"/>\n",
              "    <path d=\"M18.56 5.44l.94 2.06.94-2.06 2.06-.94-2.06-.94-.94-2.06-.94 2.06-2.06.94zm-11 1L8.5 8.5l.94-2.06 2.06-.94-2.06-.94L8.5 2.5l-.94 2.06-2.06.94zm10 10l.94 2.06.94-2.06 2.06-.94-2.06-.94-.94-2.06-.94 2.06-2.06.94z\"/><path d=\"M17.41 7.96l-1.37-1.37c-.4-.4-.92-.59-1.43-.59-.52 0-1.04.2-1.43.59L10.3 9.45l-7.72 7.72c-.78.78-.78 2.05 0 2.83L4 21.41c.39.39.9.59 1.41.59.51 0 1.02-.2 1.41-.59l7.78-7.78 2.81-2.81c.8-.78.8-2.07 0-2.86zM5.41 20L4 18.59l7.72-7.72 1.47 1.35L5.41 20z\"/>\n",
              "  </svg>\n",
              "      </button>\n",
              "      \n",
              "  <style>\n",
              "    .colab-df-container {\n",
              "      display:flex;\n",
              "      flex-wrap:wrap;\n",
              "      gap: 12px;\n",
              "    }\n",
              "\n",
              "    .colab-df-convert {\n",
              "      background-color: #E8F0FE;\n",
              "      border: none;\n",
              "      border-radius: 50%;\n",
              "      cursor: pointer;\n",
              "      display: none;\n",
              "      fill: #1967D2;\n",
              "      height: 32px;\n",
              "      padding: 0 0 0 0;\n",
              "      width: 32px;\n",
              "    }\n",
              "\n",
              "    .colab-df-convert:hover {\n",
              "      background-color: #E2EBFA;\n",
              "      box-shadow: 0px 1px 2px rgba(60, 64, 67, 0.3), 0px 1px 3px 1px rgba(60, 64, 67, 0.15);\n",
              "      fill: #174EA6;\n",
              "    }\n",
              "\n",
              "    [theme=dark] .colab-df-convert {\n",
              "      background-color: #3B4455;\n",
              "      fill: #D2E3FC;\n",
              "    }\n",
              "\n",
              "    [theme=dark] .colab-df-convert:hover {\n",
              "      background-color: #434B5C;\n",
              "      box-shadow: 0px 1px 3px 1px rgba(0, 0, 0, 0.15);\n",
              "      filter: drop-shadow(0px 1px 2px rgba(0, 0, 0, 0.3));\n",
              "      fill: #FFFFFF;\n",
              "    }\n",
              "  </style>\n",
              "\n",
              "      <script>\n",
              "        const buttonEl =\n",
              "          document.querySelector('#df-3a44c5d4-574d-45b1-8c94-482609bc472a button.colab-df-convert');\n",
              "        buttonEl.style.display =\n",
              "          google.colab.kernel.accessAllowed ? 'block' : 'none';\n",
              "\n",
              "        async function convertToInteractive(key) {\n",
              "          const element = document.querySelector('#df-3a44c5d4-574d-45b1-8c94-482609bc472a');\n",
              "          const dataTable =\n",
              "            await google.colab.kernel.invokeFunction('convertToInteractive',\n",
              "                                                     [key], {});\n",
              "          if (!dataTable) return;\n",
              "\n",
              "          const docLinkHtml = 'Like what you see? Visit the ' +\n",
              "            '<a target=\"_blank\" href=https://colab.research.google.com/notebooks/data_table.ipynb>data table notebook</a>'\n",
              "            + ' to learn more about interactive tables.';\n",
              "          element.innerHTML = '';\n",
              "          dataTable['output_type'] = 'display_data';\n",
              "          await google.colab.output.renderOutput(dataTable, element);\n",
              "          const docLink = document.createElement('div');\n",
              "          docLink.innerHTML = docLinkHtml;\n",
              "          element.appendChild(docLink);\n",
              "        }\n",
              "      </script>\n",
              "    </div>\n",
              "  </div>\n",
              "  "
            ]
          },
          "metadata": {},
          "execution_count": 45
        }
      ]
    },
    {
      "cell_type": "markdown",
      "source": [
        "### **Q13 - how to combine dataframe using join() function**\n",
        "* when we want to combine diffrent dataframe **horizontally**  then we use join function\n",
        "* pandas support left, right, inner, right, and outer joints"
      ],
      "metadata": {
        "id": "83Z3DPNZ6OOG"
      }
    },
    {
      "cell_type": "markdown",
      "source": [
        "### **Q14 - which methosd works best for vertically stacking of dataframe**\n",
        "* we can use **concat** when we having same columns from both dataframes"
      ],
      "metadata": {
        "id": "Sz3a5Nuv7NhJ"
      }
    },
    {
      "cell_type": "markdown",
      "source": [
        "### **Q15 - how to merse dataframe in pandas**\n",
        "* merse depends the key and fields of the diffrent dataframe\n",
        "* if the data have similar field then use axis 0\n",
        "* if the data have diffrent fields then use axis 1\n"
      ],
      "metadata": {
        "id": "WMb9i79I7tki"
      }
    },
    {
      "cell_type": "code",
      "source": [
        "import pandas as pd\n",
        "\n",
        "left_df = pd.DataFrame({\n",
        "    \"key\": [1, 2, 3, 4],\n",
        "    \"left_value\": [\"A\", \"B\", \"C\", \"D\"]\n",
        "})\n",
        "\n",
        "right_df = pd.DataFrame({\n",
        "    \"key\": [3, 4, 5, 6],\n",
        "    \"right_value\": [\"X\", \"Y\", \"Z\", \"W\"]\n",
        "})\n",
        "\n",
        "mearsing_data = pd.merge(left_df,right_df, on = 'key')\n",
        "\n",
        "print(mearsing_data)"
      ],
      "metadata": {
        "colab": {
          "base_uri": "https://localhost:8080/"
        },
        "id": "kpHz6iuy-E2g",
        "outputId": "87d02e26-1742-4025-c29d-70b880da7a5b"
      },
      "execution_count": 46,
      "outputs": [
        {
          "output_type": "stream",
          "name": "stdout",
          "text": [
            "   key left_value right_value\n",
            "0    3          C           X\n",
            "1    4          D           Y\n"
          ]
        }
      ]
    },
    {
      "cell_type": "markdown",
      "source": [
        "### **Q16- how to drop NAN in pandas**"
      ],
      "metadata": {
        "id": "dgwpr6oW7teq"
      }
    },
    {
      "cell_type": "code",
      "source": [
        "data = pd.read_csv('/content/drive/MyDrive/Colab Notebooks/Abhishek Mishra EDA capstone project 1/Airbnb NYC 2019.csv')\n",
        "data.info()"
      ],
      "metadata": {
        "colab": {
          "base_uri": "https://localhost:8080/"
        },
        "id": "YNVm4P1b6GVg",
        "outputId": "397545ba-6e0b-4435-9be4-e1b2554c3d05"
      },
      "execution_count": 48,
      "outputs": [
        {
          "output_type": "stream",
          "name": "stdout",
          "text": [
            "<class 'pandas.core.frame.DataFrame'>\n",
            "RangeIndex: 48895 entries, 0 to 48894\n",
            "Data columns (total 16 columns):\n",
            " #   Column                          Non-Null Count  Dtype  \n",
            "---  ------                          --------------  -----  \n",
            " 0   id                              48895 non-null  int64  \n",
            " 1   name                            48879 non-null  object \n",
            " 2   host_id                         48895 non-null  int64  \n",
            " 3   host_name                       48874 non-null  object \n",
            " 4   neighbourhood_group             48895 non-null  object \n",
            " 5   neighbourhood                   48895 non-null  object \n",
            " 6   latitude                        48895 non-null  float64\n",
            " 7   longitude                       48895 non-null  float64\n",
            " 8   room_type                       48895 non-null  object \n",
            " 9   price                           48895 non-null  int64  \n",
            " 10  minimum_nights                  48895 non-null  int64  \n",
            " 11  number_of_reviews               48895 non-null  int64  \n",
            " 12  last_review                     38843 non-null  object \n",
            " 13  reviews_per_month               38843 non-null  float64\n",
            " 14  calculated_host_listings_count  48895 non-null  int64  \n",
            " 15  availability_365                48895 non-null  int64  \n",
            "dtypes: float64(3), int64(7), object(6)\n",
            "memory usage: 6.0+ MB\n"
          ]
        }
      ]
    },
    {
      "cell_type": "code",
      "source": [
        "new_data = data.dropna()\n",
        "new_data.info()"
      ],
      "metadata": {
        "colab": {
          "base_uri": "https://localhost:8080/"
        },
        "id": "Mfw0ixkZ-3Ak",
        "outputId": "16d222f0-ccfc-4a64-8835-20fa1b13fa1d"
      },
      "execution_count": 51,
      "outputs": [
        {
          "output_type": "stream",
          "name": "stdout",
          "text": [
            "<class 'pandas.core.frame.DataFrame'>\n",
            "Int64Index: 38821 entries, 0 to 48852\n",
            "Data columns (total 16 columns):\n",
            " #   Column                          Non-Null Count  Dtype  \n",
            "---  ------                          --------------  -----  \n",
            " 0   id                              38821 non-null  int64  \n",
            " 1   name                            38821 non-null  object \n",
            " 2   host_id                         38821 non-null  int64  \n",
            " 3   host_name                       38821 non-null  object \n",
            " 4   neighbourhood_group             38821 non-null  object \n",
            " 5   neighbourhood                   38821 non-null  object \n",
            " 6   latitude                        38821 non-null  float64\n",
            " 7   longitude                       38821 non-null  float64\n",
            " 8   room_type                       38821 non-null  object \n",
            " 9   price                           38821 non-null  int64  \n",
            " 10  minimum_nights                  38821 non-null  int64  \n",
            " 11  number_of_reviews               38821 non-null  int64  \n",
            " 12  last_review                     38821 non-null  object \n",
            " 13  reviews_per_month               38821 non-null  float64\n",
            " 14  calculated_host_listings_count  38821 non-null  int64  \n",
            " 15  availability_365                38821 non-null  int64  \n",
            "dtypes: float64(3), int64(7), object(6)\n",
            "memory usage: 5.0+ MB\n"
          ]
        }
      ]
    },
    {
      "cell_type": "markdown",
      "source": [
        "###**Q17 - how to access data using value index**\n",
        "* Using loc we can do this "
      ],
      "metadata": {
        "id": "bKDAtcGI_iK_"
      }
    },
    {
      "cell_type": "code",
      "source": [
        "import pandas as pd\n",
        "\n",
        "df = pd.DataFrame({\n",
        "    \"A\": [1, 2, 3],\n",
        "    \"B\": [4, 5, 6],\n",
        "    \"C\": [7, 8, 9]\n",
        "})\n",
        "\n",
        "df = df.set_index(\"A\")\n",
        "print(df)\n",
        "print(' ')\n",
        "print(' ')\n",
        "print(df.loc[2])\n"
      ],
      "metadata": {
        "colab": {
          "base_uri": "https://localhost:8080/"
        },
        "id": "-j2hk0OL_IH5",
        "outputId": "6d51b129-76f3-468c-e451-6d9046c5cc42"
      },
      "execution_count": 54,
      "outputs": [
        {
          "output_type": "stream",
          "name": "stdout",
          "text": [
            "   B  C\n",
            "A      \n",
            "1  4  7\n",
            "2  5  8\n",
            "3  6  9\n",
            " \n",
            " \n",
            "B    5\n",
            "C    8\n",
            "Name: 2, dtype: int64\n"
          ]
        }
      ]
    },
    {
      "cell_type": "markdown",
      "source": [
        "### **Q18 - how to add single line and multiline comment in python**\n",
        "* single line - #\n",
        "* multiline comment - \"\"\"your comments\"\"\""
      ],
      "metadata": {
        "id": "TUE2LEsSB-Ef"
      }
    },
    {
      "cell_type": "code",
      "source": [
        "# single line\n",
        "\n",
        "\"\"\" multiline comment\n",
        "multiline comment\n",
        "multiline comment\"\"\""
      ],
      "metadata": {
        "id": "uEuLc1MPBsMO"
      },
      "execution_count": null,
      "outputs": []
    },
    {
      "cell_type": "markdown",
      "source": [
        "### **Q19 - can we add eliment in tuple**\n",
        "* no we can not because tuple is immutable"
      ],
      "metadata": {
        "id": "YRuZPxQlChtq"
      }
    },
    {
      "cell_type": "markdown",
      "source": [
        "### **Q20 - what is dictionary in python**\n",
        "* dictonary is the collection of items in no particular order"
      ],
      "metadata": {
        "id": "d289c4n2C3Gf"
      }
    },
    {
      "cell_type": "markdown",
      "source": [
        "### **Q21- wind central tendancy of [10,20,30,40,50,60]**"
      ],
      "metadata": {
        "id": "7ycfF3kiDOTS"
      }
    },
    {
      "cell_type": "code",
      "source": [
        "data = np.array([10,20,30,30,40,50,60])\n",
        "\n",
        "print(np.mean(data))\n",
        "print(np.median(data))\n",
        "print(np.std(data))"
      ],
      "metadata": {
        "colab": {
          "base_uri": "https://localhost:8080/"
        },
        "id": "rq3itK_fCd_V",
        "outputId": "c9bb92fa-55cb-4e2b-8ef9-a2dee69d6dc1"
      },
      "execution_count": 56,
      "outputs": [
        {
          "output_type": "stream",
          "name": "stdout",
          "text": [
            "34.285714285714285\n",
            "30.0\n",
            "15.90789817951435\n"
          ]
        }
      ]
    },
    {
      "cell_type": "markdown",
      "source": [
        "### **Q22 - what is use of the classifier**\n",
        "* it use to predict the class"
      ],
      "metadata": {
        "id": "fSCu80uCD_q8"
      }
    },
    {
      "cell_type": "markdown",
      "source": [
        "### **Q23 - how to convert lowercase**"
      ],
      "metadata": {
        "id": "4x6pJhDsEbPW"
      }
    },
    {
      "cell_type": "code",
      "source": [
        "data = 'I AM ABHISHEK MISHRA'\n",
        "\n",
        "print(data.lower())"
      ],
      "metadata": {
        "colab": {
          "base_uri": "https://localhost:8080/"
        },
        "id": "qKeaGqIhD0mU",
        "outputId": "effbc47c-e6c2-4060-8ac7-12718e11e5fc"
      },
      "execution_count": 57,
      "outputs": [
        {
          "output_type": "stream",
          "name": "stdout",
          "text": [
            "i am abhishek mishra\n"
          ]
        }
      ]
    },
    {
      "cell_type": "markdown",
      "source": [
        "### **Q24 - how to get all the keyes in a dictonary**"
      ],
      "metadata": {
        "id": "1OFTc_ptEuhV"
      }
    },
    {
      "cell_type": "code",
      "source": [
        "my_dict = {\n",
        "    \"A\": 1,\n",
        "    \"B\": 2,\n",
        "    \"C\": 3\n",
        "}\n",
        "\n",
        "k = my_dict.keys()\n",
        "\n",
        "k\n"
      ],
      "metadata": {
        "colab": {
          "base_uri": "https://localhost:8080/"
        },
        "id": "-gnkWeirEppb",
        "outputId": "67de7838-f22b-44d2-cfc3-9fe0644a8f32"
      },
      "execution_count": 59,
      "outputs": [
        {
          "output_type": "execute_result",
          "data": {
            "text/plain": [
              "dict_keys(['A', 'B', 'C'])"
            ]
          },
          "metadata": {},
          "execution_count": 59
        }
      ]
    },
    {
      "cell_type": "markdown",
      "source": [
        "### **Q25 - how to capitalize fist letter in a string**"
      ],
      "metadata": {
        "id": "tn1A-HAALTM3"
      }
    },
    {
      "cell_type": "code",
      "source": [
        "string = 'abhishek'\n",
        "\n",
        "print(string.capitalize())"
      ],
      "metadata": {
        "colab": {
          "base_uri": "https://localhost:8080/"
        },
        "id": "MKFegtR4FKVN",
        "outputId": "29631f7d-9fbe-4bcc-941a-20cf9bbf8fec"
      },
      "execution_count": 60,
      "outputs": [
        {
          "output_type": "stream",
          "name": "stdout",
          "text": [
            "Abhishek\n"
          ]
        }
      ]
    },
    {
      "cell_type": "markdown",
      "source": [
        "### **Q26 - how to insert an eliment at given index in python**\n",
        "* by using insert()"
      ],
      "metadata": {
        "id": "GSUh2Ws4Ln4B"
      }
    },
    {
      "cell_type": "code",
      "source": [
        "list = [0, 1, 2, 3, 4, 5, 6, 7, 8]\n",
        "\n",
        "list.insert(6,10) # insert 10 in 6th index\n",
        "list"
      ],
      "metadata": {
        "colab": {
          "base_uri": "https://localhost:8080/"
        },
        "id": "pgRjitprLkaF",
        "outputId": "0946e303-242b-410a-c54d-cc14668b3289"
      },
      "execution_count": 61,
      "outputs": [
        {
          "output_type": "execute_result",
          "data": {
            "text/plain": [
              "[0, 1, 2, 3, 4, 5, 10, 6, 7, 8]"
            ]
          },
          "metadata": {},
          "execution_count": 61
        }
      ]
    },
    {
      "cell_type": "markdown",
      "source": [
        "### **Q27 - how to remove duplicate from list**\n",
        "* we can remove duplicats using set"
      ],
      "metadata": {
        "id": "GGAb-gxTMlsT"
      }
    },
    {
      "cell_type": "code",
      "source": [
        "list1 = [3,3,4,5,5,6,7,8]\n",
        "\n",
        "new_list = set(list1)\n",
        "print(new_list)"
      ],
      "metadata": {
        "colab": {
          "base_uri": "https://localhost:8080/"
        },
        "id": "XBsgYpq2MR4N",
        "outputId": "a544ca5a-035b-4338-d227-5981df14c9a5"
      },
      "execution_count": 66,
      "outputs": [
        {
          "output_type": "stream",
          "name": "stdout",
          "text": [
            "{3, 4, 5, 6, 7, 8}\n"
          ]
        }
      ]
    },
    {
      "cell_type": "markdown",
      "source": [
        "### **Q28 - what is recursion?**\n",
        "* the basic mean of recursion is the function calling itself\n",
        "* if we use recursion in a loop then we need to mension terminated otherwise recursion all itself till infinite."
      ],
      "metadata": {
        "id": "ol5SIqc8NfTH"
      }
    },
    {
      "cell_type": "markdown",
      "source": [
        "###**Q29- write down a function to find fectorial**"
      ],
      "metadata": {
        "id": "8l0XGcgYPE70"
      }
    },
    {
      "cell_type": "code",
      "source": [
        "def fectorial(n):\n",
        "  if n == 1:\n",
        "    return 1\n",
        "\n",
        "  else:\n",
        "    return (n * fectorial(n-1))\n",
        "\n",
        "\n",
        "print(fectorial(3))"
      ],
      "metadata": {
        "colab": {
          "base_uri": "https://localhost:8080/"
        },
        "id": "sEJFWxWUNYyi",
        "outputId": "331f23db-4ef7-4ab4-c6d6-47c35f1401b7"
      },
      "execution_count": 76,
      "outputs": [
        {
          "output_type": "stream",
          "name": "stdout",
          "text": [
            "6\n"
          ]
        }
      ]
    },
    {
      "cell_type": "markdown",
      "source": [
        "### **Q30 - what is list comprehension?**\n",
        "* it is use for transforming one list into another list."
      ],
      "metadata": {
        "id": "Shw37VkHQfQB"
      }
    },
    {
      "cell_type": "code",
      "source": [
        "a = [i for i in range(100)]\n",
        "\n",
        "print(a)"
      ],
      "metadata": {
        "colab": {
          "base_uri": "https://localhost:8080/"
        },
        "id": "JVMA7nGpP4Gn",
        "outputId": "3d8333b6-2286-4c95-da3b-86cb03ac41cf"
      },
      "execution_count": 77,
      "outputs": [
        {
          "output_type": "stream",
          "name": "stdout",
          "text": [
            "[0, 1, 2, 3, 4, 5, 6, 7, 8, 9, 10, 11, 12, 13, 14, 15, 16, 17, 18, 19, 20, 21, 22, 23, 24, 25, 26, 27, 28, 29, 30, 31, 32, 33, 34, 35, 36, 37, 38, 39, 40, 41, 42, 43, 44, 45, 46, 47, 48, 49, 50, 51, 52, 53, 54, 55, 56, 57, 58, 59, 60, 61, 62, 63, 64, 65, 66, 67, 68, 69, 70, 71, 72, 73, 74, 75, 76, 77, 78, 79, 80, 81, 82, 83, 84, 85, 86, 87, 88, 89, 90, 91, 92, 93, 94, 95, 96, 97, 98, 99]\n"
          ]
        }
      ]
    },
    {
      "cell_type": "markdown",
      "source": [
        "### **Q31 - why we use bytes() function**\n",
        "* it return bytes object"
      ],
      "metadata": {
        "id": "bB8IgE54SlML"
      }
    },
    {
      "cell_type": "markdown",
      "source": [
        "### **Q32 - what are the diffrent types of operators in python**\n",
        "* arthmetic operation -   +, -, *, /, %, **, //\n",
        "* relational operation -    ==, !=, >, <, >=, <=\n",
        "* assignment operation -   =, +=, -=, *=, /=, %=, **=, //=\n",
        "* logical operation -   and, or, not"
      ],
      "metadata": {
        "id": "IzfzgSswTP8P"
      }
    },
    {
      "cell_type": "markdown",
      "source": [
        "### **Q33 - what is with statement used for in python?**\n",
        "* it use for exception handaling.\n",
        "* it makes the code more esy to read."
      ],
      "metadata": {
        "id": "l1_Vez9hUDYK"
      }
    },
    {
      "cell_type": "markdown",
      "source": [
        "###**Q34 - what is map() function in python**\n",
        "* it use to apply function on all the eliment."
      ],
      "metadata": {
        "id": "1aQff1UwUmmf"
      }
    },
    {
      "cell_type": "code",
      "source": [
        "def mul3(n):\n",
        "  return n*3\n",
        "\n",
        "num = (1,2,3,4,5,6,7)\n",
        "result = map(mul3,num)\n",
        "print(set(result))"
      ],
      "metadata": {
        "colab": {
          "base_uri": "https://localhost:8080/"
        },
        "id": "YLgTmD2GTHmB",
        "outputId": "ee12cef6-85c5-42b9-ea1b-58eb63f0a253"
      },
      "execution_count": 81,
      "outputs": [
        {
          "output_type": "stream",
          "name": "stdout",
          "text": [
            "{3, 6, 9, 12, 15, 18, 21}\n"
          ]
        }
      ]
    },
    {
      "cell_type": "markdown",
      "source": [
        "### **Q35 - what is __init__ in python**\n",
        "* __init__ is use to create the class\n",
        "* it is reserved method in python"
      ],
      "metadata": {
        "id": "xiS8cN62Vg95"
      }
    },
    {
      "cell_type": "markdown",
      "source": [
        "### **Q36 - what is the diffrence b/w tupel and dictonary**\n",
        "* tupel is immuatable, can not manupulate the eliments in the tupel\n",
        "* dictonary is mutable"
      ],
      "metadata": {
        "id": "VY26PJhmWCyW"
      }
    },
    {
      "cell_type": "markdown",
      "source": [
        "### **Q37 - what is pass in python**\n",
        "* pass do nothing, it is null statment.\n",
        "* it is use when you do not have any statment but still you need to mension a statment"
      ],
      "metadata": {
        "id": "d9axFougYxA9"
      }
    },
    {
      "cell_type": "markdown",
      "source": [
        "### **Q38 - how can an object can be coppyed in python?**\n",
        "* we can use  = operator to copy the object variable\n",
        "* also can use .copy()"
      ],
      "metadata": {
        "id": "NgbndPzkZQuX"
      }
    },
    {
      "cell_type": "markdown",
      "source": [
        "### **Q39 - how can a number converted into string?**"
      ],
      "metadata": {
        "id": "TNvNUDVaabB1"
      }
    },
    {
      "cell_type": "code",
      "source": [
        "n = 10\n",
        "new_n =str(n)\n",
        "print(new_n)\n",
        "print(type(new_n))"
      ],
      "metadata": {
        "colab": {
          "base_uri": "https://localhost:8080/"
        },
        "id": "fw_ERK4yVRcj",
        "outputId": "dd42cd8b-3bd2-4c85-f8f3-5687bbfcb768"
      },
      "execution_count": 84,
      "outputs": [
        {
          "output_type": "stream",
          "name": "stdout",
          "text": [
            "10\n",
            "<class 'str'>\n"
          ]
        }
      ]
    },
    {
      "cell_type": "markdown",
      "source": [
        "### **Q40 - what are the module and packages in python?**\n",
        "* module mean is the structure of a program.\n",
        "\n",
        "* pacckage the folder where the program present with multiple module."
      ],
      "metadata": {
        "id": "xs92CzA9a3ql"
      }
    },
    {
      "cell_type": "markdown",
      "source": [
        "### **Q41 - difference b/w numpy and scipy**\n",
        "* numpy(numerical python) is use for simple mathmetical problems.\n",
        "\n",
        "* scipy (scientific python) is use for complex numerical problems."
      ],
      "metadata": {
        "id": "f2VbBBGdbg4Q"
      }
    },
    {
      "cell_type": "markdown",
      "source": [
        "### **Q42 - what is encapsulation in python**\n",
        "* it means binding the small codes.\n",
        "\n",
        "* Example - class"
      ],
      "metadata": {
        "id": "Nez-jZ9tdjyN"
      }
    },
    {
      "cell_type": "markdown",
      "source": [
        "### **Q43 - what is split function dose in python?**\n",
        "* it split entire data according to the condition"
      ],
      "metadata": {
        "id": "JHDXqIKbeM6I"
      }
    },
    {
      "cell_type": "code",
      "source": [
        "string = ('i, am, abhishek mishra')\n",
        "n = string.split(',')\n",
        "print(n)"
      ],
      "metadata": {
        "colab": {
          "base_uri": "https://localhost:8080/"
        },
        "id": "G5rLwvxYasuX",
        "outputId": "4769c3b2-6b6c-444f-8740-16809123ef6e"
      },
      "execution_count": 86,
      "outputs": [
        {
          "output_type": "stream",
          "name": "stdout",
          "text": [
            "['i', ' am', ' abhishek mishra']\n"
          ]
        }
      ]
    },
    {
      "cell_type": "markdown",
      "source": [
        "### **Q44 - what is docstring in python?**\n",
        "* it use to describe the functionality of the particular function, class\n",
        "* it is define right after the definition of a function, method, class\n"
      ],
      "metadata": {
        "id": "xiBVAIrQfGPg"
      }
    },
    {
      "cell_type": "markdown",
      "source": [
        "### **Q45 - what is the use of a lambda function**\n",
        "\n",
        "* it serve as nameless function that are needed for short periods of time.\n"
      ],
      "metadata": {
        "id": "gYWV33Y3gC6S"
      }
    },
    {
      "cell_type": "code",
      "source": [
        "triple = lambda x: x * 3\n",
        " \n",
        "print(triple(4))"
      ],
      "metadata": {
        "colab": {
          "base_uri": "https://localhost:8080/"
        },
        "id": "T6NcacGpes0e",
        "outputId": "9b8e00e4-e972-4f58-cb19-2890dd01e40b"
      },
      "execution_count": 87,
      "outputs": [
        {
          "output_type": "stream",
          "name": "stdout",
          "text": [
            "12\n"
          ]
        }
      ]
    },
    {
      "cell_type": "markdown",
      "source": [
        "### **Q46 - cn you denote the working of the bool() function**"
      ],
      "metadata": {
        "id": "37WIO0WriEpb"
      }
    },
    {
      "cell_type": "code",
      "source": [
        "a = 10\n",
        "b = 0\n",
        "c = 15\n",
        "\n",
        "print(bool(a))\n",
        "print(bool(b))\n",
        "print(bool(c))"
      ],
      "metadata": {
        "colab": {
          "base_uri": "https://localhost:8080/"
        },
        "id": "LZvL0NEMhRla",
        "outputId": "e44d1525-4e31-43af-c64a-383497ad0cac"
      },
      "execution_count": 90,
      "outputs": [
        {
          "output_type": "stream",
          "name": "stdout",
          "text": [
            "True\n",
            "False\n",
            "True\n"
          ]
        }
      ]
    },
    {
      "cell_type": "markdown",
      "source": [
        "## **intermediat questions**"
      ],
      "metadata": {
        "id": "ShNiTvt9jcbe"
      }
    },
    {
      "cell_type": "markdown",
      "source": [
        "### **Q47 - how to create a new column in pandas using the values from other columns**"
      ],
      "metadata": {
        "id": "IGwRqKZWjP0a"
      }
    },
    {
      "cell_type": "code",
      "source": [
        "df = pd.DataFrame({\n",
        "    \"A\": [1, 2, 3],\n",
        "    \"B\": [4, 5, 6],\n",
        "    \"C\": [7, 8, 9]})\n",
        "df['SUM'] = df['A']+df['B']+df['C']\n",
        "df"
      ],
      "metadata": {
        "colab": {
          "base_uri": "https://localhost:8080/",
          "height": 143
        },
        "id": "uw4J20G-ioEW",
        "outputId": "87b3f7e2-e8c3-4bb1-8499-2df95490c11a"
      },
      "execution_count": 95,
      "outputs": [
        {
          "output_type": "execute_result",
          "data": {
            "text/plain": [
              "   A  B  C  SUM\n",
              "0  1  4  7   12\n",
              "1  2  5  8   15\n",
              "2  3  6  9   18"
            ],
            "text/html": [
              "\n",
              "  <div id=\"df-04592bbd-375b-4809-96f1-5a07c56ab1f4\">\n",
              "    <div class=\"colab-df-container\">\n",
              "      <div>\n",
              "<style scoped>\n",
              "    .dataframe tbody tr th:only-of-type {\n",
              "        vertical-align: middle;\n",
              "    }\n",
              "\n",
              "    .dataframe tbody tr th {\n",
              "        vertical-align: top;\n",
              "    }\n",
              "\n",
              "    .dataframe thead th {\n",
              "        text-align: right;\n",
              "    }\n",
              "</style>\n",
              "<table border=\"1\" class=\"dataframe\">\n",
              "  <thead>\n",
              "    <tr style=\"text-align: right;\">\n",
              "      <th></th>\n",
              "      <th>A</th>\n",
              "      <th>B</th>\n",
              "      <th>C</th>\n",
              "      <th>SUM</th>\n",
              "    </tr>\n",
              "  </thead>\n",
              "  <tbody>\n",
              "    <tr>\n",
              "      <th>0</th>\n",
              "      <td>1</td>\n",
              "      <td>4</td>\n",
              "      <td>7</td>\n",
              "      <td>12</td>\n",
              "    </tr>\n",
              "    <tr>\n",
              "      <th>1</th>\n",
              "      <td>2</td>\n",
              "      <td>5</td>\n",
              "      <td>8</td>\n",
              "      <td>15</td>\n",
              "    </tr>\n",
              "    <tr>\n",
              "      <th>2</th>\n",
              "      <td>3</td>\n",
              "      <td>6</td>\n",
              "      <td>9</td>\n",
              "      <td>18</td>\n",
              "    </tr>\n",
              "  </tbody>\n",
              "</table>\n",
              "</div>\n",
              "      <button class=\"colab-df-convert\" onclick=\"convertToInteractive('df-04592bbd-375b-4809-96f1-5a07c56ab1f4')\"\n",
              "              title=\"Convert this dataframe to an interactive table.\"\n",
              "              style=\"display:none;\">\n",
              "        \n",
              "  <svg xmlns=\"http://www.w3.org/2000/svg\" height=\"24px\"viewBox=\"0 0 24 24\"\n",
              "       width=\"24px\">\n",
              "    <path d=\"M0 0h24v24H0V0z\" fill=\"none\"/>\n",
              "    <path d=\"M18.56 5.44l.94 2.06.94-2.06 2.06-.94-2.06-.94-.94-2.06-.94 2.06-2.06.94zm-11 1L8.5 8.5l.94-2.06 2.06-.94-2.06-.94L8.5 2.5l-.94 2.06-2.06.94zm10 10l.94 2.06.94-2.06 2.06-.94-2.06-.94-.94-2.06-.94 2.06-2.06.94z\"/><path d=\"M17.41 7.96l-1.37-1.37c-.4-.4-.92-.59-1.43-.59-.52 0-1.04.2-1.43.59L10.3 9.45l-7.72 7.72c-.78.78-.78 2.05 0 2.83L4 21.41c.39.39.9.59 1.41.59.51 0 1.02-.2 1.41-.59l7.78-7.78 2.81-2.81c.8-.78.8-2.07 0-2.86zM5.41 20L4 18.59l7.72-7.72 1.47 1.35L5.41 20z\"/>\n",
              "  </svg>\n",
              "      </button>\n",
              "      \n",
              "  <style>\n",
              "    .colab-df-container {\n",
              "      display:flex;\n",
              "      flex-wrap:wrap;\n",
              "      gap: 12px;\n",
              "    }\n",
              "\n",
              "    .colab-df-convert {\n",
              "      background-color: #E8F0FE;\n",
              "      border: none;\n",
              "      border-radius: 50%;\n",
              "      cursor: pointer;\n",
              "      display: none;\n",
              "      fill: #1967D2;\n",
              "      height: 32px;\n",
              "      padding: 0 0 0 0;\n",
              "      width: 32px;\n",
              "    }\n",
              "\n",
              "    .colab-df-convert:hover {\n",
              "      background-color: #E2EBFA;\n",
              "      box-shadow: 0px 1px 2px rgba(60, 64, 67, 0.3), 0px 1px 3px 1px rgba(60, 64, 67, 0.15);\n",
              "      fill: #174EA6;\n",
              "    }\n",
              "\n",
              "    [theme=dark] .colab-df-convert {\n",
              "      background-color: #3B4455;\n",
              "      fill: #D2E3FC;\n",
              "    }\n",
              "\n",
              "    [theme=dark] .colab-df-convert:hover {\n",
              "      background-color: #434B5C;\n",
              "      box-shadow: 0px 1px 3px 1px rgba(0, 0, 0, 0.15);\n",
              "      filter: drop-shadow(0px 1px 2px rgba(0, 0, 0, 0.3));\n",
              "      fill: #FFFFFF;\n",
              "    }\n",
              "  </style>\n",
              "\n",
              "      <script>\n",
              "        const buttonEl =\n",
              "          document.querySelector('#df-04592bbd-375b-4809-96f1-5a07c56ab1f4 button.colab-df-convert');\n",
              "        buttonEl.style.display =\n",
              "          google.colab.kernel.accessAllowed ? 'block' : 'none';\n",
              "\n",
              "        async function convertToInteractive(key) {\n",
              "          const element = document.querySelector('#df-04592bbd-375b-4809-96f1-5a07c56ab1f4');\n",
              "          const dataTable =\n",
              "            await google.colab.kernel.invokeFunction('convertToInteractive',\n",
              "                                                     [key], {});\n",
              "          if (!dataTable) return;\n",
              "\n",
              "          const docLinkHtml = 'Like what you see? Visit the ' +\n",
              "            '<a target=\"_blank\" href=https://colab.research.google.com/notebooks/data_table.ipynb>data table notebook</a>'\n",
              "            + ' to learn more about interactive tables.';\n",
              "          element.innerHTML = '';\n",
              "          dataTable['output_type'] = 'display_data';\n",
              "          await google.colab.output.renderOutput(dataTable, element);\n",
              "          const docLink = document.createElement('div');\n",
              "          docLink.innerHTML = docLinkHtml;\n",
              "          element.appendChild(docLink);\n",
              "        }\n",
              "      </script>\n",
              "    </div>\n",
              "  </div>\n",
              "  "
            ]
          },
          "metadata": {},
          "execution_count": 95
        }
      ]
    },
    {
      "cell_type": "markdown",
      "source": [
        "## **Q48 - what are the diffrent function can be used by groupby() in pandas?**\n",
        "* sum(), mean(), max(), min(), count(), std()"
      ],
      "metadata": {
        "id": "NeM7SCp4kdTi"
      }
    },
    {
      "cell_type": "markdown",
      "source": [
        "### **Q49 - how to drop column from the data**"
      ],
      "metadata": {
        "id": "WvmWN5eqlCIX"
      }
    },
    {
      "cell_type": "code",
      "source": [
        "df = pd.DataFrame({\n",
        "    \"A\": [1, 2, 3],\n",
        "    \"B\": [4, 5, 6],\n",
        "    \"C\": [7, 8, 9]})\n",
        "\n",
        "df.drop(columns = 'A',inplace=True)\n",
        "df"
      ],
      "metadata": {
        "colab": {
          "base_uri": "https://localhost:8080/",
          "height": 143
        },
        "id": "jmwOhNjTj8qW",
        "outputId": "24d36e99-2d84-4e2d-e570-26671e42be60"
      },
      "execution_count": 96,
      "outputs": [
        {
          "output_type": "execute_result",
          "data": {
            "text/plain": [
              "   B  C\n",
              "0  4  7\n",
              "1  5  8\n",
              "2  6  9"
            ],
            "text/html": [
              "\n",
              "  <div id=\"df-dc2182ff-ca04-457d-af81-13927f1e5938\">\n",
              "    <div class=\"colab-df-container\">\n",
              "      <div>\n",
              "<style scoped>\n",
              "    .dataframe tbody tr th:only-of-type {\n",
              "        vertical-align: middle;\n",
              "    }\n",
              "\n",
              "    .dataframe tbody tr th {\n",
              "        vertical-align: top;\n",
              "    }\n",
              "\n",
              "    .dataframe thead th {\n",
              "        text-align: right;\n",
              "    }\n",
              "</style>\n",
              "<table border=\"1\" class=\"dataframe\">\n",
              "  <thead>\n",
              "    <tr style=\"text-align: right;\">\n",
              "      <th></th>\n",
              "      <th>B</th>\n",
              "      <th>C</th>\n",
              "    </tr>\n",
              "  </thead>\n",
              "  <tbody>\n",
              "    <tr>\n",
              "      <th>0</th>\n",
              "      <td>4</td>\n",
              "      <td>7</td>\n",
              "    </tr>\n",
              "    <tr>\n",
              "      <th>1</th>\n",
              "      <td>5</td>\n",
              "      <td>8</td>\n",
              "    </tr>\n",
              "    <tr>\n",
              "      <th>2</th>\n",
              "      <td>6</td>\n",
              "      <td>9</td>\n",
              "    </tr>\n",
              "  </tbody>\n",
              "</table>\n",
              "</div>\n",
              "      <button class=\"colab-df-convert\" onclick=\"convertToInteractive('df-dc2182ff-ca04-457d-af81-13927f1e5938')\"\n",
              "              title=\"Convert this dataframe to an interactive table.\"\n",
              "              style=\"display:none;\">\n",
              "        \n",
              "  <svg xmlns=\"http://www.w3.org/2000/svg\" height=\"24px\"viewBox=\"0 0 24 24\"\n",
              "       width=\"24px\">\n",
              "    <path d=\"M0 0h24v24H0V0z\" fill=\"none\"/>\n",
              "    <path d=\"M18.56 5.44l.94 2.06.94-2.06 2.06-.94-2.06-.94-.94-2.06-.94 2.06-2.06.94zm-11 1L8.5 8.5l.94-2.06 2.06-.94-2.06-.94L8.5 2.5l-.94 2.06-2.06.94zm10 10l.94 2.06.94-2.06 2.06-.94-2.06-.94-.94-2.06-.94 2.06-2.06.94z\"/><path d=\"M17.41 7.96l-1.37-1.37c-.4-.4-.92-.59-1.43-.59-.52 0-1.04.2-1.43.59L10.3 9.45l-7.72 7.72c-.78.78-.78 2.05 0 2.83L4 21.41c.39.39.9.59 1.41.59.51 0 1.02-.2 1.41-.59l7.78-7.78 2.81-2.81c.8-.78.8-2.07 0-2.86zM5.41 20L4 18.59l7.72-7.72 1.47 1.35L5.41 20z\"/>\n",
              "  </svg>\n",
              "      </button>\n",
              "      \n",
              "  <style>\n",
              "    .colab-df-container {\n",
              "      display:flex;\n",
              "      flex-wrap:wrap;\n",
              "      gap: 12px;\n",
              "    }\n",
              "\n",
              "    .colab-df-convert {\n",
              "      background-color: #E8F0FE;\n",
              "      border: none;\n",
              "      border-radius: 50%;\n",
              "      cursor: pointer;\n",
              "      display: none;\n",
              "      fill: #1967D2;\n",
              "      height: 32px;\n",
              "      padding: 0 0 0 0;\n",
              "      width: 32px;\n",
              "    }\n",
              "\n",
              "    .colab-df-convert:hover {\n",
              "      background-color: #E2EBFA;\n",
              "      box-shadow: 0px 1px 2px rgba(60, 64, 67, 0.3), 0px 1px 3px 1px rgba(60, 64, 67, 0.15);\n",
              "      fill: #174EA6;\n",
              "    }\n",
              "\n",
              "    [theme=dark] .colab-df-convert {\n",
              "      background-color: #3B4455;\n",
              "      fill: #D2E3FC;\n",
              "    }\n",
              "\n",
              "    [theme=dark] .colab-df-convert:hover {\n",
              "      background-color: #434B5C;\n",
              "      box-shadow: 0px 1px 3px 1px rgba(0, 0, 0, 0.15);\n",
              "      filter: drop-shadow(0px 1px 2px rgba(0, 0, 0, 0.3));\n",
              "      fill: #FFFFFF;\n",
              "    }\n",
              "  </style>\n",
              "\n",
              "      <script>\n",
              "        const buttonEl =\n",
              "          document.querySelector('#df-dc2182ff-ca04-457d-af81-13927f1e5938 button.colab-df-convert');\n",
              "        buttonEl.style.display =\n",
              "          google.colab.kernel.accessAllowed ? 'block' : 'none';\n",
              "\n",
              "        async function convertToInteractive(key) {\n",
              "          const element = document.querySelector('#df-dc2182ff-ca04-457d-af81-13927f1e5938');\n",
              "          const dataTable =\n",
              "            await google.colab.kernel.invokeFunction('convertToInteractive',\n",
              "                                                     [key], {});\n",
              "          if (!dataTable) return;\n",
              "\n",
              "          const docLinkHtml = 'Like what you see? Visit the ' +\n",
              "            '<a target=\"_blank\" href=https://colab.research.google.com/notebooks/data_table.ipynb>data table notebook</a>'\n",
              "            + ' to learn more about interactive tables.';\n",
              "          element.innerHTML = '';\n",
              "          dataTable['output_type'] = 'display_data';\n",
              "          await google.colab.output.renderOutput(dataTable, element);\n",
              "          const docLink = document.createElement('div');\n",
              "          docLink.innerHTML = docLinkHtml;\n",
              "          element.appendChild(docLink);\n",
              "        }\n",
              "      </script>\n",
              "    </div>\n",
              "  </div>\n",
              "  "
            ]
          },
          "metadata": {},
          "execution_count": 96
        }
      ]
    },
    {
      "cell_type": "markdown",
      "source": [
        "### **Q50 - drop the row having column values as 7**"
      ],
      "metadata": {
        "id": "LZ2U3UKhnxqh"
      }
    },
    {
      "cell_type": "code",
      "source": [
        "df = pd.DataFrame({\n",
        "    \"A\": [1, 2, 3],\n",
        "    \"B\": [4, 5, 6],\n",
        "    \"C\": [7, 8, 9]})\n",
        "\n",
        "\n",
        "df = df[df.C!=7]\n",
        "df"
      ],
      "metadata": {
        "colab": {
          "base_uri": "https://localhost:8080/",
          "height": 112
        },
        "id": "o8ma_AMGluNE",
        "outputId": "ea07a760-a9d1-4006-807b-b7a58252a2e2"
      },
      "execution_count": 99,
      "outputs": [
        {
          "output_type": "execute_result",
          "data": {
            "text/plain": [
              "   A  B  C\n",
              "1  2  5  8\n",
              "2  3  6  9"
            ],
            "text/html": [
              "\n",
              "  <div id=\"df-ad64526c-4584-4e1d-b1be-b26a624bbba3\">\n",
              "    <div class=\"colab-df-container\">\n",
              "      <div>\n",
              "<style scoped>\n",
              "    .dataframe tbody tr th:only-of-type {\n",
              "        vertical-align: middle;\n",
              "    }\n",
              "\n",
              "    .dataframe tbody tr th {\n",
              "        vertical-align: top;\n",
              "    }\n",
              "\n",
              "    .dataframe thead th {\n",
              "        text-align: right;\n",
              "    }\n",
              "</style>\n",
              "<table border=\"1\" class=\"dataframe\">\n",
              "  <thead>\n",
              "    <tr style=\"text-align: right;\">\n",
              "      <th></th>\n",
              "      <th>A</th>\n",
              "      <th>B</th>\n",
              "      <th>C</th>\n",
              "    </tr>\n",
              "  </thead>\n",
              "  <tbody>\n",
              "    <tr>\n",
              "      <th>1</th>\n",
              "      <td>2</td>\n",
              "      <td>5</td>\n",
              "      <td>8</td>\n",
              "    </tr>\n",
              "    <tr>\n",
              "      <th>2</th>\n",
              "      <td>3</td>\n",
              "      <td>6</td>\n",
              "      <td>9</td>\n",
              "    </tr>\n",
              "  </tbody>\n",
              "</table>\n",
              "</div>\n",
              "      <button class=\"colab-df-convert\" onclick=\"convertToInteractive('df-ad64526c-4584-4e1d-b1be-b26a624bbba3')\"\n",
              "              title=\"Convert this dataframe to an interactive table.\"\n",
              "              style=\"display:none;\">\n",
              "        \n",
              "  <svg xmlns=\"http://www.w3.org/2000/svg\" height=\"24px\"viewBox=\"0 0 24 24\"\n",
              "       width=\"24px\">\n",
              "    <path d=\"M0 0h24v24H0V0z\" fill=\"none\"/>\n",
              "    <path d=\"M18.56 5.44l.94 2.06.94-2.06 2.06-.94-2.06-.94-.94-2.06-.94 2.06-2.06.94zm-11 1L8.5 8.5l.94-2.06 2.06-.94-2.06-.94L8.5 2.5l-.94 2.06-2.06.94zm10 10l.94 2.06.94-2.06 2.06-.94-2.06-.94-.94-2.06-.94 2.06-2.06.94z\"/><path d=\"M17.41 7.96l-1.37-1.37c-.4-.4-.92-.59-1.43-.59-.52 0-1.04.2-1.43.59L10.3 9.45l-7.72 7.72c-.78.78-.78 2.05 0 2.83L4 21.41c.39.39.9.59 1.41.59.51 0 1.02-.2 1.41-.59l7.78-7.78 2.81-2.81c.8-.78.8-2.07 0-2.86zM5.41 20L4 18.59l7.72-7.72 1.47 1.35L5.41 20z\"/>\n",
              "  </svg>\n",
              "      </button>\n",
              "      \n",
              "  <style>\n",
              "    .colab-df-container {\n",
              "      display:flex;\n",
              "      flex-wrap:wrap;\n",
              "      gap: 12px;\n",
              "    }\n",
              "\n",
              "    .colab-df-convert {\n",
              "      background-color: #E8F0FE;\n",
              "      border: none;\n",
              "      border-radius: 50%;\n",
              "      cursor: pointer;\n",
              "      display: none;\n",
              "      fill: #1967D2;\n",
              "      height: 32px;\n",
              "      padding: 0 0 0 0;\n",
              "      width: 32px;\n",
              "    }\n",
              "\n",
              "    .colab-df-convert:hover {\n",
              "      background-color: #E2EBFA;\n",
              "      box-shadow: 0px 1px 2px rgba(60, 64, 67, 0.3), 0px 1px 3px 1px rgba(60, 64, 67, 0.15);\n",
              "      fill: #174EA6;\n",
              "    }\n",
              "\n",
              "    [theme=dark] .colab-df-convert {\n",
              "      background-color: #3B4455;\n",
              "      fill: #D2E3FC;\n",
              "    }\n",
              "\n",
              "    [theme=dark] .colab-df-convert:hover {\n",
              "      background-color: #434B5C;\n",
              "      box-shadow: 0px 1px 3px 1px rgba(0, 0, 0, 0.15);\n",
              "      filter: drop-shadow(0px 1px 2px rgba(0, 0, 0, 0.3));\n",
              "      fill: #FFFFFF;\n",
              "    }\n",
              "  </style>\n",
              "\n",
              "      <script>\n",
              "        const buttonEl =\n",
              "          document.querySelector('#df-ad64526c-4584-4e1d-b1be-b26a624bbba3 button.colab-df-convert');\n",
              "        buttonEl.style.display =\n",
              "          google.colab.kernel.accessAllowed ? 'block' : 'none';\n",
              "\n",
              "        async function convertToInteractive(key) {\n",
              "          const element = document.querySelector('#df-ad64526c-4584-4e1d-b1be-b26a624bbba3');\n",
              "          const dataTable =\n",
              "            await google.colab.kernel.invokeFunction('convertToInteractive',\n",
              "                                                     [key], {});\n",
              "          if (!dataTable) return;\n",
              "\n",
              "          const docLinkHtml = 'Like what you see? Visit the ' +\n",
              "            '<a target=\"_blank\" href=https://colab.research.google.com/notebooks/data_table.ipynb>data table notebook</a>'\n",
              "            + ' to learn more about interactive tables.';\n",
              "          element.innerHTML = '';\n",
              "          dataTable['output_type'] = 'display_data';\n",
              "          await google.colab.output.renderOutput(dataTable, element);\n",
              "          const docLink = document.createElement('div');\n",
              "          docLink.innerHTML = docLinkHtml;\n",
              "          element.appendChild(docLink);\n",
              "        }\n",
              "      </script>\n",
              "    </div>\n",
              "  </div>\n",
              "  "
            ]
          },
          "metadata": {},
          "execution_count": 99
        }
      ]
    },
    {
      "cell_type": "markdown",
      "source": [
        "### **Q51 - find out highest paid player in each college team**"
      ],
      "metadata": {
        "id": "fdM_4nrrpFl0"
      }
    },
    {
      "cell_type": "code",
      "source": [
        "df.groupby(['team','college'])['salary'].max()"
      ],
      "metadata": {
        "id": "ljzzv-v2oKAj"
      },
      "execution_count": null,
      "outputs": []
    },
    {
      "cell_type": "markdown",
      "source": [
        "### **Q52 - what is reindexing in pandas**\n",
        "* reassing the entire index"
      ],
      "metadata": {
        "id": "MVqNNvO_pg8Y"
      }
    },
    {
      "cell_type": "code",
      "source": [
        "df = pd.DataFrame({\n",
        "    \"A\": [1, 2, 3],\n",
        "    \"B\": [4, 5, 6],\n",
        "    \"C\": [7, 8, 9]})\n",
        "\n",
        "d = [10,20,30]\n",
        "df.index = d\n",
        "df"
      ],
      "metadata": {
        "colab": {
          "base_uri": "https://localhost:8080/",
          "height": 143
        },
        "id": "AxdC5bEApo3q",
        "outputId": "24c3087d-e169-465e-c2fe-5d95bffd8306"
      },
      "execution_count": 100,
      "outputs": [
        {
          "output_type": "execute_result",
          "data": {
            "text/plain": [
              "    A  B  C\n",
              "10  1  4  7\n",
              "20  2  5  8\n",
              "30  3  6  9"
            ],
            "text/html": [
              "\n",
              "  <div id=\"df-4bb7c708-8d8f-4e4e-bb4c-eef4e7ec799c\">\n",
              "    <div class=\"colab-df-container\">\n",
              "      <div>\n",
              "<style scoped>\n",
              "    .dataframe tbody tr th:only-of-type {\n",
              "        vertical-align: middle;\n",
              "    }\n",
              "\n",
              "    .dataframe tbody tr th {\n",
              "        vertical-align: top;\n",
              "    }\n",
              "\n",
              "    .dataframe thead th {\n",
              "        text-align: right;\n",
              "    }\n",
              "</style>\n",
              "<table border=\"1\" class=\"dataframe\">\n",
              "  <thead>\n",
              "    <tr style=\"text-align: right;\">\n",
              "      <th></th>\n",
              "      <th>A</th>\n",
              "      <th>B</th>\n",
              "      <th>C</th>\n",
              "    </tr>\n",
              "  </thead>\n",
              "  <tbody>\n",
              "    <tr>\n",
              "      <th>10</th>\n",
              "      <td>1</td>\n",
              "      <td>4</td>\n",
              "      <td>7</td>\n",
              "    </tr>\n",
              "    <tr>\n",
              "      <th>20</th>\n",
              "      <td>2</td>\n",
              "      <td>5</td>\n",
              "      <td>8</td>\n",
              "    </tr>\n",
              "    <tr>\n",
              "      <th>30</th>\n",
              "      <td>3</td>\n",
              "      <td>6</td>\n",
              "      <td>9</td>\n",
              "    </tr>\n",
              "  </tbody>\n",
              "</table>\n",
              "</div>\n",
              "      <button class=\"colab-df-convert\" onclick=\"convertToInteractive('df-4bb7c708-8d8f-4e4e-bb4c-eef4e7ec799c')\"\n",
              "              title=\"Convert this dataframe to an interactive table.\"\n",
              "              style=\"display:none;\">\n",
              "        \n",
              "  <svg xmlns=\"http://www.w3.org/2000/svg\" height=\"24px\"viewBox=\"0 0 24 24\"\n",
              "       width=\"24px\">\n",
              "    <path d=\"M0 0h24v24H0V0z\" fill=\"none\"/>\n",
              "    <path d=\"M18.56 5.44l.94 2.06.94-2.06 2.06-.94-2.06-.94-.94-2.06-.94 2.06-2.06.94zm-11 1L8.5 8.5l.94-2.06 2.06-.94-2.06-.94L8.5 2.5l-.94 2.06-2.06.94zm10 10l.94 2.06.94-2.06 2.06-.94-2.06-.94-.94-2.06-.94 2.06-2.06.94z\"/><path d=\"M17.41 7.96l-1.37-1.37c-.4-.4-.92-.59-1.43-.59-.52 0-1.04.2-1.43.59L10.3 9.45l-7.72 7.72c-.78.78-.78 2.05 0 2.83L4 21.41c.39.39.9.59 1.41.59.51 0 1.02-.2 1.41-.59l7.78-7.78 2.81-2.81c.8-.78.8-2.07 0-2.86zM5.41 20L4 18.59l7.72-7.72 1.47 1.35L5.41 20z\"/>\n",
              "  </svg>\n",
              "      </button>\n",
              "      \n",
              "  <style>\n",
              "    .colab-df-container {\n",
              "      display:flex;\n",
              "      flex-wrap:wrap;\n",
              "      gap: 12px;\n",
              "    }\n",
              "\n",
              "    .colab-df-convert {\n",
              "      background-color: #E8F0FE;\n",
              "      border: none;\n",
              "      border-radius: 50%;\n",
              "      cursor: pointer;\n",
              "      display: none;\n",
              "      fill: #1967D2;\n",
              "      height: 32px;\n",
              "      padding: 0 0 0 0;\n",
              "      width: 32px;\n",
              "    }\n",
              "\n",
              "    .colab-df-convert:hover {\n",
              "      background-color: #E2EBFA;\n",
              "      box-shadow: 0px 1px 2px rgba(60, 64, 67, 0.3), 0px 1px 3px 1px rgba(60, 64, 67, 0.15);\n",
              "      fill: #174EA6;\n",
              "    }\n",
              "\n",
              "    [theme=dark] .colab-df-convert {\n",
              "      background-color: #3B4455;\n",
              "      fill: #D2E3FC;\n",
              "    }\n",
              "\n",
              "    [theme=dark] .colab-df-convert:hover {\n",
              "      background-color: #434B5C;\n",
              "      box-shadow: 0px 1px 3px 1px rgba(0, 0, 0, 0.15);\n",
              "      filter: drop-shadow(0px 1px 2px rgba(0, 0, 0, 0.3));\n",
              "      fill: #FFFFFF;\n",
              "    }\n",
              "  </style>\n",
              "\n",
              "      <script>\n",
              "        const buttonEl =\n",
              "          document.querySelector('#df-4bb7c708-8d8f-4e4e-bb4c-eef4e7ec799c button.colab-df-convert');\n",
              "        buttonEl.style.display =\n",
              "          google.colab.kernel.accessAllowed ? 'block' : 'none';\n",
              "\n",
              "        async function convertToInteractive(key) {\n",
              "          const element = document.querySelector('#df-4bb7c708-8d8f-4e4e-bb4c-eef4e7ec799c');\n",
              "          const dataTable =\n",
              "            await google.colab.kernel.invokeFunction('convertToInteractive',\n",
              "                                                     [key], {});\n",
              "          if (!dataTable) return;\n",
              "\n",
              "          const docLinkHtml = 'Like what you see? Visit the ' +\n",
              "            '<a target=\"_blank\" href=https://colab.research.google.com/notebooks/data_table.ipynb>data table notebook</a>'\n",
              "            + ' to learn more about interactive tables.';\n",
              "          element.innerHTML = '';\n",
              "          dataTable['output_type'] = 'display_data';\n",
              "          await google.colab.output.renderOutput(dataTable, element);\n",
              "          const docLink = document.createElement('div');\n",
              "          docLink.innerHTML = docLinkHtml;\n",
              "          element.appendChild(docLink);\n",
              "        }\n",
              "      </script>\n",
              "    </div>\n",
              "  </div>\n",
              "  "
            ]
          },
          "metadata": {},
          "execution_count": 100
        }
      ]
    },
    {
      "cell_type": "markdown",
      "source": [
        "### **Q53 - create a lambda function which can add all of them [5,8,20,50,100]**"
      ],
      "metadata": {
        "id": "osLtYOxIrPlB"
      }
    },
    {
      "cell_type": "code",
      "source": [
        "a = [5,8,20,50,100]\n",
        "k=0\n",
        "for i in a:\n",
        "  k=i+k\n",
        "\n",
        "print(k)\n",
        "\n",
        "# Using lambda\n",
        "from functools import reduce\n",
        "\n",
        "sum = reduce(lambda x, y:x+y, a)\n",
        "print(sum)"
      ],
      "metadata": {
        "colab": {
          "base_uri": "https://localhost:8080/"
        },
        "id": "6E7QC2HHp5bc",
        "outputId": "1a593d9e-01ee-4142-b293-8bb636045fbd"
      },
      "execution_count": 107,
      "outputs": [
        {
          "output_type": "stream",
          "name": "stdout",
          "text": [
            "183\n",
            "183\n"
          ]
        }
      ]
    },
    {
      "cell_type": "markdown",
      "source": [
        "### **Q54 - what is Vstack in numpy?**\n",
        "* basically it is use for adding two arrayes"
      ],
      "metadata": {
        "id": "2rzjrJsas_Uo"
      }
    },
    {
      "cell_type": "code",
      "source": [
        "n1 = np.array([11,2,34,14,54,5,6,7])\n",
        "n2 = np.array([32,54,65,67,787,78,35,67])\n",
        "\n",
        "print(np.vstack((n1,n2)))"
      ],
      "metadata": {
        "colab": {
          "base_uri": "https://localhost:8080/"
        },
        "id": "oS0DZAlcrvOJ",
        "outputId": "acd7e81f-c171-49ce-ce71-09482dacf3bf"
      },
      "execution_count": 108,
      "outputs": [
        {
          "output_type": "stream",
          "name": "stdout",
          "text": [
            "[[ 11   2  34  14  54   5   6   7]\n",
            " [ 32  54  65  67 787  78  35  67]]\n"
          ]
        }
      ]
    },
    {
      "cell_type": "markdown",
      "source": [
        "###**Q55- how is python code interpreted?**\n",
        "\n",
        "* debugging can be done by line by line"
      ],
      "metadata": {
        "id": "zXCy26Jyt9Rv"
      }
    },
    {
      "cell_type": "markdown",
      "source": [
        "### **Q56 - how to remove spaces from the string?**"
      ],
      "metadata": {
        "id": "n-0-rkrRuWnJ"
      }
    },
    {
      "cell_type": "code",
      "source": [
        "a = 'i am abhishek mishra'\n",
        "print(a.replace(' ',''))"
      ],
      "metadata": {
        "colab": {
          "base_uri": "https://localhost:8080/"
        },
        "id": "_TOessUZtsGQ",
        "outputId": "4f1419af-4343-4700-b90d-46eeda93805d"
      },
      "execution_count": 109,
      "outputs": [
        {
          "output_type": "stream",
          "name": "stdout",
          "text": [
            "iamabhishekmishra\n"
          ]
        }
      ]
    },
    {
      "cell_type": "markdown",
      "source": [
        "###**Q57- explain the file processing modes that python supports?**\n",
        "\n",
        "* read only(r)\n",
        "* write only(w)\n",
        "* read-write(rd)\n",
        "* append(a)"
      ],
      "metadata": {
        "id": "j85e3n1QvFjn"
      }
    },
    {
      "cell_type": "markdown",
      "source": [
        "### **Q58- what is pickling and unpickling?**\n",
        "* pickling - it is the process to convert python object into byte stream for storing into the database.\n",
        "\n",
        "* Unpickling - it is the reverse of pickling"
      ],
      "metadata": {
        "id": "M2I9uo4BvrDI"
      }
    },
    {
      "cell_type": "markdown",
      "source": [
        "## **Tricky question**"
      ],
      "metadata": {
        "id": "cCpg2mkRycvL"
      }
    },
    {
      "cell_type": "markdown",
      "source": [
        "### **Q59 - how could you update the value of apple 10 to 100**"
      ],
      "metadata": {
        "id": "EsezTzp8yrdo"
      }
    },
    {
      "cell_type": "code",
      "source": [
        "frouts = {'apple':10,'orange':30,'banana':60}\n",
        "frouts['apple'] = 100\n",
        "frouts"
      ],
      "metadata": {
        "colab": {
          "base_uri": "https://localhost:8080/"
        },
        "id": "LjiPXBwUuyeV",
        "outputId": "22579a39-343d-4771-ce8d-dc988df38f71"
      },
      "execution_count": 114,
      "outputs": [
        {
          "output_type": "execute_result",
          "data": {
            "text/plain": [
              "{'apple': 100, 'orange': 30, 'banana': 60}"
            ]
          },
          "metadata": {},
          "execution_count": 114
        }
      ]
    },
    {
      "cell_type": "markdown",
      "source": [
        "### **Q60 - how to find comman elements present in the given two sets?**"
      ],
      "metadata": {
        "id": "yH0AOFeaz3o8"
      }
    },
    {
      "cell_type": "code",
      "source": [
        "s1 = {1,2,3,4,5}\n",
        "s2 = {4,5,6,7,8}\n",
        "\n",
        "print(s1.intersection(s2))\n",
        "print(s1-s2)\n"
      ],
      "metadata": {
        "colab": {
          "base_uri": "https://localhost:8080/"
        },
        "id": "aDCmlZZDzoDz",
        "outputId": "9fd159d7-44df-4afd-f8bd-956cb1c7292b"
      },
      "execution_count": 116,
      "outputs": [
        {
          "output_type": "stream",
          "name": "stdout",
          "text": [
            "{4, 5}\n",
            "{1, 2, 3}\n"
          ]
        }
      ]
    },
    {
      "cell_type": "markdown",
      "source": [
        "### **Q61 - find the number is a palindrome or not**"
      ],
      "metadata": {
        "id": "UkuCNALv07Rw"
      }
    },
    {
      "cell_type": "code",
      "source": [
        "n = int(input('enter number:'))\n",
        "n = str(n)\n",
        "n1 = n[::-1]\n",
        "if n == n1:\n",
        "  print(f'{n} is palindrome')\n",
        "\n",
        "else:\n",
        "  print(f'{n} is not palindrome')\n"
      ],
      "metadata": {
        "colab": {
          "base_uri": "https://localhost:8080/"
        },
        "id": "GFYLh0hx0VWN",
        "outputId": "dafa985e-ba50-418e-8e89-4a0fbcbb8691"
      },
      "execution_count": 121,
      "outputs": [
        {
          "output_type": "stream",
          "name": "stdout",
          "text": [
            "enter number:123\n",
            "123 is not palindrome\n"
          ]
        }
      ]
    },
    {
      "cell_type": "markdown",
      "source": [
        "### **Q62 - write a program that print following pattern**\n",
        "1\n",
        "\n",
        "2 2\n",
        "\n",
        "3 3 3\n",
        "\n",
        "4 4 4 4\n",
        "\n",
        "5 5 5 5 5"
      ],
      "metadata": {
        "id": "Ndebx8b43QGb"
      }
    },
    {
      "cell_type": "code",
      "source": [
        "for i in range(1, 6):\n",
        "    for j in range(i):\n",
        "        print(i, end=\" \")\n",
        "    print(\"\")\n",
        "\n",
        "a = [i in range (1,6)]\n",
        "a"
      ],
      "metadata": {
        "colab": {
          "base_uri": "https://localhost:8080/"
        },
        "id": "EgAZ36yq2eL-",
        "outputId": "9ff14194-0b80-4260-ca54-478e44ba4a2d"
      },
      "execution_count": 124,
      "outputs": [
        {
          "output_type": "stream",
          "name": "stdout",
          "text": [
            "1 \n",
            "2 2 \n",
            "3 3 3 \n",
            "4 4 4 4 \n",
            "5 5 5 5 5 \n"
          ]
        },
        {
          "output_type": "execute_result",
          "data": {
            "text/plain": [
              "[True]"
            ]
          },
          "metadata": {},
          "execution_count": 124
        }
      ]
    },
    {
      "cell_type": "markdown",
      "source": [
        "### **Q63 - write a program that print following pattern**\n",
        ".#\n",
        "\n",
        ".# #\n",
        "\n",
        ".# # #\n",
        "\n",
        ".# # # #\n",
        "\n",
        ".# # # # #"
      ],
      "metadata": {
        "id": "xy-kvW4p59oD"
      }
    },
    {
      "cell_type": "code",
      "source": [
        "for i in range(1, 6):\n",
        "    for j in range(i):\n",
        "      print(\"#\", end=\" \")\n",
        "    print(\"\")"
      ],
      "metadata": {
        "colab": {
          "base_uri": "https://localhost:8080/"
        },
        "id": "zSCBCbW44YBO",
        "outputId": "53bb2973-e02d-4cd2-d6d9-abf190382f16"
      },
      "execution_count": 127,
      "outputs": [
        {
          "output_type": "stream",
          "name": "stdout",
          "text": [
            "# \n",
            "# # \n",
            "# # # \n",
            "# # # # \n",
            "# # # # # \n"
          ]
        }
      ]
    },
    {
      "cell_type": "markdown",
      "source": [
        "### **Q64 -  write a program that print following pattern**\n",
        "0\n",
        "\n",
        "0 1 \n",
        "\n",
        "0 1 2 \n",
        "\n",
        "0 1 2 3 \n",
        "\n",
        "0 1 2 3 4 "
      ],
      "metadata": {
        "id": "oqZaIgEh7uCW"
      }
    },
    {
      "cell_type": "code",
      "source": [
        "for i in range(1, 6):\n",
        "    for j in range(i):\n",
        "      print(j, end=\" \")\n",
        "    print(\"\")"
      ],
      "metadata": {
        "colab": {
          "base_uri": "https://localhost:8080/"
        },
        "id": "RoCjRuAR7aWw",
        "outputId": "a4617b3a-e4db-4e74-88b8-6d75f9d831b0"
      },
      "execution_count": 128,
      "outputs": [
        {
          "output_type": "stream",
          "name": "stdout",
          "text": [
            "0 \n",
            "0 1 \n",
            "0 1 2 \n",
            "0 1 2 3 \n",
            "0 1 2 3 4 \n"
          ]
        }
      ]
    },
    {
      "cell_type": "markdown",
      "source": [
        "### **Q65 - print the pascal's tringle pattern**"
      ],
      "metadata": {
        "id": "PMTw5rFz-CmI"
      }
    },
    {
      "cell_type": "code",
      "source": [
        "def pascal_triangle(n):\n",
        "    for i in range(n):\n",
        "        C = 1\n",
        "        for j in range(1, i+2):\n",
        "            print(C, end=\" \")\n",
        "            C = int(C * (i - j + 1) / j)\n",
        "        print(\"\")\n",
        "\n",
        "pascal_triangle(6)"
      ],
      "metadata": {
        "colab": {
          "base_uri": "https://localhost:8080/"
        },
        "id": "CmqoyKjp9nvM",
        "outputId": "c08ce939-2859-441a-eb5d-651af7fd376f"
      },
      "execution_count": 129,
      "outputs": [
        {
          "output_type": "stream",
          "name": "stdout",
          "text": [
            "1 \n",
            "1 1 \n",
            "1 2 1 \n",
            "1 3 3 1 \n",
            "1 4 6 4 1 \n",
            "1 5 10 10 5 1 \n"
          ]
        }
      ]
    },
    {
      "cell_type": "markdown",
      "source": [
        "##**Q66 - how would you incriment the values of the dictonary**"
      ],
      "metadata": {
        "id": "s_gAP2O7AELP"
      }
    },
    {
      "cell_type": "code",
      "source": [
        "d1 ={'A':10,'B':20,'C':30}\n",
        "\n",
        "for i in d1.keys():\n",
        "  d1[i] = d1[i]+1\n",
        "  \n",
        "d1.values()"
      ],
      "metadata": {
        "colab": {
          "base_uri": "https://localhost:8080/"
        },
        "id": "RVglbof0-nhT",
        "outputId": "e7692864-f0a6-4824-8d18-ae42e05ec9f9"
      },
      "execution_count": 132,
      "outputs": [
        {
          "output_type": "execute_result",
          "data": {
            "text/plain": [
              "dict_values([11, 21, 31])"
            ]
          },
          "metadata": {},
          "execution_count": 132
        }
      ]
    },
    {
      "cell_type": "markdown",
      "source": [
        "### **Q67 - print randome number**"
      ],
      "metadata": {
        "id": "niARlI8lB57G"
      }
    },
    {
      "cell_type": "code",
      "source": [
        "import random\n",
        "print(random.random())\n",
        "\n",
        "print(random.randint(10,20))"
      ],
      "metadata": {
        "colab": {
          "base_uri": "https://localhost:8080/"
        },
        "id": "QnGwse01AeW5",
        "outputId": "ef474a42-c765-4162-95ad-daf25224999d"
      },
      "execution_count": 134,
      "outputs": [
        {
          "output_type": "stream",
          "name": "stdout",
          "text": [
            "0.8575985450315736\n",
            "17\n"
          ]
        }
      ]
    },
    {
      "cell_type": "markdown",
      "source": [
        "### **Q68 - how to find ASCII value of a given cherector**"
      ],
      "metadata": {
        "id": "_5z8fH1aDHMD"
      }
    },
    {
      "cell_type": "code",
      "source": [
        "value = 'a'\n",
        "print(ord(value))"
      ],
      "metadata": {
        "colab": {
          "base_uri": "https://localhost:8080/"
        },
        "id": "shHwYA4dCK5Y",
        "outputId": "401f1534-fd34-413d-def9-f994d5b8a097"
      },
      "execution_count": 135,
      "outputs": [
        {
          "output_type": "stream",
          "name": "stdout",
          "text": [
            "97\n"
          ]
        }
      ]
    },
    {
      "cell_type": "markdown",
      "source": [
        "### **Q69 - how to suffel the list**"
      ],
      "metadata": {
        "id": "J-v7qv9dEuLt"
      }
    },
    {
      "cell_type": "code",
      "source": [],
      "metadata": {
        "id": "YX0G0K5aDY1g"
      },
      "execution_count": null,
      "outputs": []
    },
    {
      "cell_type": "markdown",
      "source": [
        "### **Q70 - what will be the output**"
      ],
      "metadata": {
        "id": "rBriG1gbc_mP"
      }
    },
    {
      "cell_type": "code",
      "source": [
        "list1 = [2,3,5,7,8]\n",
        "print(list1*2)"
      ],
      "metadata": {
        "colab": {
          "base_uri": "https://localhost:8080/"
        },
        "id": "A0JnL5CvdF6V",
        "outputId": "00e0b0b8-5463-4189-ac9c-fe728bea8b74"
      },
      "execution_count": 2,
      "outputs": [
        {
          "output_type": "stream",
          "name": "stdout",
          "text": [
            "[2, 3, 5, 7, 8, 2, 3, 5, 7, 8]\n"
          ]
        }
      ]
    },
    {
      "cell_type": "markdown",
      "source": [
        "### **Q71 - how to check that the given number is armstrong or not**"
      ],
      "metadata": {
        "id": "0ruXmtp8dZK2"
      }
    },
    {
      "cell_type": "code",
      "source": [
        "x = str(input('Enter number'))\n",
        "k = 0\n",
        "for i in x:\n",
        "  k=k+(int(i)**3)\n",
        "k==int(x)"
      ],
      "metadata": {
        "colab": {
          "base_uri": "https://localhost:8080/"
        },
        "id": "5qnyOgx4dMFV",
        "outputId": "936f4630-03f7-413d-f2ac-5bfac8af8449"
      },
      "execution_count": 39,
      "outputs": [
        {
          "name": "stdout",
          "output_type": "stream",
          "text": [
            "Enter number153\n"
          ]
        },
        {
          "output_type": "execute_result",
          "data": {
            "text/plain": [
              "True"
            ]
          },
          "metadata": {},
          "execution_count": 39
        }
      ]
    },
    {
      "cell_type": "markdown",
      "source": [
        "### **Q72 - how to check the perfect number**"
      ],
      "metadata": {
        "id": "iuYDuEOmk8ne"
      }
    },
    {
      "cell_type": "code",
      "source": [
        "num = 28\n",
        "div = [i for i in range(1,num) if num%i ==0]\n",
        "sum(div) == num"
      ],
      "metadata": {
        "colab": {
          "base_uri": "https://localhost:8080/"
        },
        "id": "rdc0bxozhXeY",
        "outputId": "a1e4aa6e-08f7-4989-b9ba-ecc2a5f7d6a6"
      },
      "execution_count": 44,
      "outputs": [
        {
          "output_type": "execute_result",
          "data": {
            "text/plain": [
              "True"
            ]
          },
          "metadata": {},
          "execution_count": 44
        }
      ]
    },
    {
      "cell_type": "markdown",
      "source": [
        "### **Q73 - how to check the number is strong**"
      ],
      "metadata": {
        "id": "LiaupO4VmEHd"
      }
    },
    {
      "cell_type": "code",
      "source": [
        "def factorial(n):\n",
        "    if n == 0:\n",
        "        return 1\n",
        "    return n * factorial(n - 1)"
      ],
      "metadata": {
        "id": "IolkrQ2Ulgr8"
      },
      "execution_count": 62,
      "outputs": []
    },
    {
      "cell_type": "code",
      "source": [
        "x = str(145)\n",
        "k = 0\n",
        "for i in x:\n",
        "  k = k + (factorial(int(i)))\n",
        "\n",
        "k == int(x)"
      ],
      "metadata": {
        "colab": {
          "base_uri": "https://localhost:8080/"
        },
        "id": "bMbfwPuwnIiQ",
        "outputId": "50059f56-7b6c-40af-e653-feec3b4a6c38"
      },
      "execution_count": 67,
      "outputs": [
        {
          "output_type": "execute_result",
          "data": {
            "text/plain": [
              "True"
            ]
          },
          "metadata": {},
          "execution_count": 67
        }
      ]
    },
    {
      "cell_type": "markdown",
      "source": [
        "### **Q74 - how to find second highest number in the list**"
      ],
      "metadata": {
        "id": "eKGAcs7aoxCC"
      }
    },
    {
      "cell_type": "code",
      "source": [
        "sample_list = [1,2,3,4,5]\n",
        "sample_list =set(sample_list)\n",
        "sample_list.remove(max(sample_list))\n",
        "max(sample_list)"
      ],
      "metadata": {
        "colab": {
          "base_uri": "https://localhost:8080/"
        },
        "id": "KTgrpUF5ntUV",
        "outputId": "0f7aa2ea-c3eb-4c8d-ccc9-85f3690725ad"
      },
      "execution_count": 76,
      "outputs": [
        {
          "output_type": "execute_result",
          "data": {
            "text/plain": [
              "4"
            ]
          },
          "metadata": {},
          "execution_count": 76
        }
      ]
    },
    {
      "cell_type": "markdown",
      "source": [
        "### **Q75 - how to swap the fist and the last eliment in the list**"
      ],
      "metadata": {
        "id": "Ht4-FUkgqpFn"
      }
    },
    {
      "cell_type": "code",
      "source": [
        "sample_list = [1,2,3,4,5]\n",
        "a = sample_list[-1]\n",
        "b = sample_list[0]\n",
        "\n",
        "sample_list1 = sample_list\n",
        "sample_list1[0] = a\n",
        "sample_list1[-1] = b\n",
        "print(sample_list1)"
      ],
      "metadata": {
        "colab": {
          "base_uri": "https://localhost:8080/"
        },
        "id": "nceaVGA3pLQc",
        "outputId": "b75ee37d-3817-43b9-f5b7-4225b907bf18"
      },
      "execution_count": 81,
      "outputs": [
        {
          "output_type": "stream",
          "name": "stdout",
          "text": [
            "[5, 2, 3, 4, 1]\n"
          ]
        }
      ]
    },
    {
      "cell_type": "markdown",
      "source": [
        "### **Q76 - write a program to count the vowels present in a string**\n",
        "\n",
        "\n",
        "\n"
      ],
      "metadata": {
        "id": "qhSUNTWKryJ7"
      }
    },
    {
      "cell_type": "code",
      "source": [
        "a = 'Abhishek'\n",
        "vowel = ['A','a','E','e','I','i','O','o','U','U']\n",
        "for i in a:\n",
        " if i in vowel:\n",
        "   print(i)\n"
      ],
      "metadata": {
        "colab": {
          "base_uri": "https://localhost:8080/"
        },
        "id": "LwDa_7u5q8FJ",
        "outputId": "89842614-0dfd-4a19-8c85-988e20571293"
      },
      "execution_count": 85,
      "outputs": [
        {
          "output_type": "stream",
          "name": "stdout",
          "text": [
            "A\n",
            "i\n",
            "e\n"
          ]
        }
      ]
    },
    {
      "cell_type": "markdown",
      "source": [
        "### **Q77 - denote the working of exception**"
      ],
      "metadata": {
        "id": "-1QcEZvDtbzE"
      }
    },
    {
      "cell_type": "code",
      "source": [
        "try:\n",
        "  x = 1/0\n",
        "except:\n",
        "  print('can not division by zero')\n"
      ],
      "metadata": {
        "colab": {
          "base_uri": "https://localhost:8080/"
        },
        "id": "HRSfKbxisL5B",
        "outputId": "a70d3ff6-586e-4271-b50e-f9b49227dc05"
      },
      "execution_count": 90,
      "outputs": [
        {
          "output_type": "stream",
          "name": "stdout",
          "text": [
            "can not division by zero\n"
          ]
        }
      ]
    },
    {
      "cell_type": "markdown",
      "source": [
        "### **Q78 - how does the finally block work in python**"
      ],
      "metadata": {
        "id": "t6sMX2qDvw88"
      }
    },
    {
      "cell_type": "code",
      "source": [
        "try:\n",
        "  x = 10/0\n",
        "  print(x)\n",
        "except:\n",
        "  print('can not division by zero')\n",
        "finally:\n",
        "  print('this is finally working')"
      ],
      "metadata": {
        "colab": {
          "base_uri": "https://localhost:8080/"
        },
        "id": "WmA5x9LNuF0j",
        "outputId": "7a68fb39-7787-4f39-8c73-56aa3338e07a"
      },
      "execution_count": 94,
      "outputs": [
        {
          "output_type": "stream",
          "name": "stdout",
          "text": [
            "can not division by zero\n",
            "this is finally working\n"
          ]
        }
      ]
    },
    {
      "cell_type": "code",
      "source": [],
      "metadata": {
        "id": "TI4T6ifEwNnd"
      },
      "execution_count": null,
      "outputs": []
    }
  ]
}