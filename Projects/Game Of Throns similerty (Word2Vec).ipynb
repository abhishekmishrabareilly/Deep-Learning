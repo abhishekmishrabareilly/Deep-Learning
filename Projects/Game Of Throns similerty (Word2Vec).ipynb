{
  "nbformat": 4,
  "nbformat_minor": 0,
  "metadata": {
    "colab": {
      "provenance": [],
      "mount_file_id": "1eU4f19SKC3f-AE1Wyr1r2McLp36B8EPU",
      "authorship_tag": "ABX9TyNdHY+FR2t82TMdNazKP5Ge",
      "include_colab_link": true
    },
    "kernelspec": {
      "name": "python3",
      "display_name": "Python 3"
    },
    "language_info": {
      "name": "python"
    }
  },
  "cells": [
    {
      "cell_type": "markdown",
      "metadata": {
        "id": "view-in-github",
        "colab_type": "text"
      },
      "source": [
        "<a href=\"https://colab.research.google.com/github/abhishekmishra-bareilly/Deep-Learning/blob/main/GOT_Using_Word2Vec.ipynb\" target=\"_parent\"><img src=\"https://colab.research.google.com/assets/colab-badge.svg\" alt=\"Open In Colab\"/></a>"
      ]
    },
    {
      "cell_type": "code",
      "source": [
        "import numpy as np\n",
        "import pandas as pd\n",
        "import nltk"
      ],
      "metadata": {
        "id": "wxVKTZzXBU0s"
      },
      "execution_count": 13,
      "outputs": []
    },
    {
      "cell_type": "code",
      "source": [
        "!pip install gensim"
      ],
      "metadata": {
        "id": "ULAvup8QCsEt"
      },
      "execution_count": null,
      "outputs": []
    },
    {
      "cell_type": "code",
      "source": [
        "nltk.download('punkt')"
      ],
      "metadata": {
        "colab": {
          "base_uri": "https://localhost:8080/"
        },
        "id": "D21nEdPKDWn-",
        "outputId": "7b74f9f1-d203-42a0-dcc0-bb34d96685bf"
      },
      "execution_count": 14,
      "outputs": [
        {
          "output_type": "stream",
          "name": "stderr",
          "text": [
            "[nltk_data] Downloading package punkt to /root/nltk_data...\n",
            "[nltk_data]   Unzipping tokenizers/punkt.zip.\n"
          ]
        },
        {
          "output_type": "execute_result",
          "data": {
            "text/plain": [
              "True"
            ]
          },
          "metadata": {},
          "execution_count": 14
        }
      ]
    },
    {
      "cell_type": "code",
      "source": [
        "import gensim\n",
        "import os"
      ],
      "metadata": {
        "id": "WbMWkm3xCpr2"
      },
      "execution_count": 8,
      "outputs": []
    },
    {
      "cell_type": "code",
      "source": [
        "data = ['/content/drive/MyDrive/Colab Notebooks/NLP/data/001ssb.txt','/content/drive/MyDrive/Colab Notebooks/NLP/data/002ssb.txt','/content/drive/MyDrive/Colab Notebooks/NLP/data/003ssb.txt','/content/drive/MyDrive/Colab Notebooks/NLP/data/004ssb.txt','/content/drive/MyDrive/Colab Notebooks/NLP/data/005ssb.txt']"
      ],
      "metadata": {
        "id": "3uB-fKX0IFsb"
      },
      "execution_count": 37,
      "outputs": []
    },
    {
      "cell_type": "code",
      "source": [
        "# Import some librray\n",
        "from nltk import sent_tokenize\n",
        "from gensim.utils import simple_preprocess\n",
        "\n",
        "# read the text data and tokenize the data also use simple preprocess on this dataset\n",
        "story = []\n",
        "for i in data:\n",
        "    i = open(i, 'rb').read().decode(encoding = 'unicode_escape')\n",
        "    raw_sent = sent_tokenize(i)\n",
        "    for sent in raw_sent:\n",
        "        story.append(simple_preprocess(sent))"
      ],
      "metadata": {
        "id": "qcjF9jNiHyvY"
      },
      "execution_count": 40,
      "outputs": []
    },
    {
      "cell_type": "code",
      "source": [
        "print(story[0:10])"
      ],
      "metadata": {
        "colab": {
          "base_uri": "https://localhost:8080/"
        },
        "id": "G_vOdgRwJI4T",
        "outputId": "f7dce4b1-8fb2-40ea-8ec4-a9230544ce32"
      },
      "execution_count": 42,
      "outputs": [
        {
          "output_type": "stream",
          "name": "stdout",
          "text": [
            "[['game', 'of', 'thrones', 'book', 'one', 'of', 'song', 'of', 'ice', 'and', 'fire', 'by', 'george', 'martin', 'prologue', 'we', 'should', 'start', 'back', 'gared', 'urged', 'as', 'the', 'woods', 'began', 'to', 'grow', 'dark', 'around', 'them'], ['the', 'wildlings', 'are', 'dead'], ['do', 'the', 'dead', 'frighten', 'you'], ['ser', 'waymar', 'royce', 'asked', 'with', 'just', 'the', 'hint', 'of', 'smile'], ['gared', 'did', 'not', 'rise', 'to', 'the', 'bait'], ['he', 'was', 'an', 'old', 'man', 'past', 'fifty', 'and', 'he', 'had', 'seen', 'the', 'lordlings', 'come', 'and', 'go'], ['dead', 'is', 'dead', 'he', 'said'], ['we', 'have', 'no', 'business', 'with', 'the', 'dead'], ['are', 'they', 'dead'], ['royce', 'asked', 'softly']]\n"
          ]
        }
      ]
    },
    {
      "cell_type": "code",
      "source": [
        "# Creating the models\n",
        "model = gensim.models.Word2Vec(\n",
        "    window=10,\n",
        "    min_count=2\n",
        ")"
      ],
      "metadata": {
        "id": "59Kc_qBsJPoO"
      },
      "execution_count": 44,
      "outputs": []
    },
    {
      "cell_type": "code",
      "source": [
        "# build the vocab for this model\n",
        "model.build_vocab(story)"
      ],
      "metadata": {
        "id": "5OrDBrveJwwi"
      },
      "execution_count": 45,
      "outputs": []
    },
    {
      "cell_type": "code",
      "source": [
        "#train the model\n",
        "model.train(story, total_examples=model.corpus_count, epochs=model.epochs)"
      ],
      "metadata": {
        "colab": {
          "base_uri": "https://localhost:8080/"
        },
        "id": "YBu09DE6J5Wi",
        "outputId": "1ee28f23-f4f8-427c-81d2-b2dcb430f700"
      },
      "execution_count": 46,
      "outputs": [
        {
          "output_type": "execute_result",
          "data": {
            "text/plain": [
              "(1059044, 1423500)"
            ]
          },
          "metadata": {},
          "execution_count": 46
        }
      ]
    },
    {
      "cell_type": "code",
      "source": [
        "# find the most similar word\n",
        "model.wv.most_similar('jon')"
      ],
      "metadata": {
        "colab": {
          "base_uri": "https://localhost:8080/"
        },
        "id": "zgChMHezJ-cL",
        "outputId": "53f53068-a737-474f-d7ac-8613b5477ef9"
      },
      "execution_count": 49,
      "outputs": [
        {
          "output_type": "execute_result",
          "data": {
            "text/plain": [
              "[('sansa', 0.9822163581848145),\n",
              " ('catelyn', 0.97919762134552),\n",
              " ('bran', 0.9775631427764893),\n",
              " ('ned', 0.9736700057983398),\n",
              " ('he', 0.9717814326286316),\n",
              " ('arya', 0.9641553163528442),\n",
              " ('robb', 0.9549298882484436),\n",
              " ('him', 0.9468092918395996),\n",
              " ('calm', 0.9400808811187744),\n",
              " ('loss', 0.937425971031189)]"
            ]
          },
          "metadata": {},
          "execution_count": 49
        }
      ]
    },
    {
      "cell_type": "code",
      "source": [
        "# find the doesnt match\n",
        "model.wv.doesnt_match(['cersei', 'jaime', 'bronn', 'tyrion'])"
      ],
      "metadata": {
        "colab": {
          "base_uri": "https://localhost:8080/",
          "height": 36
        },
        "id": "bnvoV1LIKR1C",
        "outputId": "05bef545-2297-4173-c583-b18978d8f2a1"
      },
      "execution_count": 51,
      "outputs": [
        {
          "output_type": "execute_result",
          "data": {
            "text/plain": [
              "'cersei'"
            ],
            "application/vnd.google.colaboratory.intrinsic+json": {
              "type": "string"
            }
          },
          "metadata": {},
          "execution_count": 51
        }
      ]
    },
    {
      "cell_type": "code",
      "source": [
        "# Find the vector for \n",
        "model.wv['king']"
      ],
      "metadata": {
        "colab": {
          "base_uri": "https://localhost:8080/"
        },
        "id": "nBa6A4BeKpOu",
        "outputId": "07c73e1d-d15c-4036-f79f-d7f91782b64c"
      },
      "execution_count": 56,
      "outputs": [
        {
          "output_type": "execute_result",
          "data": {
            "text/plain": [
              "array([ 0.02335777, -0.12282381,  0.36402696,  0.3873588 , -0.19174366,\n",
              "        0.47642344, -0.27543622, -0.0058866 , -0.02239137, -0.3725902 ,\n",
              "       -0.5007711 ,  0.60181695, -0.17517279, -0.24324723, -0.64728767,\n",
              "        1.1576514 ,  0.22724141,  0.21926615, -0.08634166, -0.35059926,\n",
              "        0.03098301,  0.01863727,  0.5655615 , -0.39503714, -0.45780602,\n",
              "       -0.35403934, -0.21228078, -0.09049781,  0.09230458, -0.28924915,\n",
              "       -0.0527887 , -0.24038939,  0.6097849 , -0.03685208,  0.50621027,\n",
              "        0.83714944, -0.10067721,  1.0089662 , -0.38744888, -0.7206937 ,\n",
              "       -0.2267917 ,  0.07148954,  1.353418  ,  0.6018087 , -0.17017797,\n",
              "       -0.89452225,  0.2865951 , -1.0498195 , -0.0983291 , -0.5599563 ,\n",
              "       -0.50849426, -0.7227276 , -0.1918284 ,  0.16282302,  0.61769277,\n",
              "       -0.4005057 , -0.25143617,  0.61523944, -0.28334016,  0.13367319,\n",
              "        0.24179001, -0.57382077,  0.33845207,  0.03647585,  0.17975017,\n",
              "       -0.08317313,  0.18129794, -0.540441  , -0.1570271 , -0.2500505 ,\n",
              "       -0.18698627,  0.45348015,  0.36558896,  0.26001817, -0.78756726,\n",
              "        0.00332983, -0.38118875, -0.7848209 , -0.5887812 , -0.21033871,\n",
              "        0.58746636, -0.8685179 ,  0.07391375, -0.20400912, -0.8809776 ,\n",
              "        0.35523796,  0.16095138, -0.2535771 ,  0.3774309 ,  0.68167865,\n",
              "        1.2739655 , -0.39126042,  0.3771564 , -0.11203024,  0.2456312 ,\n",
              "       -0.04640834, -0.34561604, -0.8798674 , -0.44554666,  0.37529853],\n",
              "      dtype=float32)"
            ]
          },
          "metadata": {},
          "execution_count": 56
        }
      ]
    },
    {
      "cell_type": "code",
      "source": [
        "# Find the similerty b/w two words\n",
        "\n",
        "model.wv.similarity('arya','sansa')"
      ],
      "metadata": {
        "colab": {
          "base_uri": "https://localhost:8080/"
        },
        "id": "5NYdJFy3KuBJ",
        "outputId": "c964ed1f-0070-4822-ec45-0bcd32e00db2"
      },
      "execution_count": 53,
      "outputs": [
        {
          "output_type": "execute_result",
          "data": {
            "text/plain": [
              "0.9773909"
            ]
          },
          "metadata": {},
          "execution_count": 53
        }
      ]
    }
  ]
}
