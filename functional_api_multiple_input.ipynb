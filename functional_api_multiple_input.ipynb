{
  "nbformat": 4,
  "nbformat_minor": 0,
  "metadata": {
    "colab": {
      "provenance": [],
      "authorship_tag": "ABX9TyOUEKQN1puGWB0L0+Mb0YT2",
      "include_colab_link": true
    },
    "kernelspec": {
      "name": "python3",
      "display_name": "Python 3"
    },
    "language_info": {
      "name": "python"
    }
  },
  "cells": [
    {
      "cell_type": "markdown",
      "metadata": {
        "id": "view-in-github",
        "colab_type": "text"
      },
      "source": [
        "<a href=\"https://colab.research.google.com/github/abhishekmishra-bareilly/Deep-Learning/blob/main/functional_api_multiple_input.ipynb\" target=\"_parent\"><img src=\"https://colab.research.google.com/assets/colab-badge.svg\" alt=\"Open In Colab\"/></a>"
      ]
    },
    {
      "cell_type": "code",
      "execution_count": 1,
      "metadata": {
        "id": "1vaOXkHZ2bg_"
      },
      "outputs": [],
      "source": [
        "# import the dependancyes\n",
        "from keras.models import Model\n",
        "from keras.layers import *"
      ]
    },
    {
      "cell_type": "code",
      "source": [
        "# define two sets of inputs\n",
        "inputA = Input(shape=(32,))\n",
        "inputB = Input(shape=(128,))"
      ],
      "metadata": {
        "id": "6tafoKAC2gjE"
      },
      "execution_count": 2,
      "outputs": []
    },
    {
      "cell_type": "code",
      "source": [
        "# the first branch operates on the first input\n",
        "x = Dense(8, activation=\"relu\")(inputA)\n",
        "x1 = Dense(4, activation=\"relu\")(x)"
      ],
      "metadata": {
        "id": "WaeD9cp02zas"
      },
      "execution_count": 3,
      "outputs": []
    },
    {
      "cell_type": "code",
      "source": [
        "# the second branch opreates on the second input\n",
        "y = Dense(64, activation=\"relu\")(inputB)\n",
        "y1 = Dense(32, activation=\"relu\")(y)\n",
        "y2 = Dense(4, activation=\"relu\")(y1)"
      ],
      "metadata": {
        "id": "C6IAmT4U25LV"
      },
      "execution_count": 4,
      "outputs": []
    },
    {
      "cell_type": "code",
      "source": [
        "# combine the output of the two branches\n",
        "combined = concatenate([x1, y2])"
      ],
      "metadata": {
        "id": "db8a2l0127ge"
      },
      "execution_count": 5,
      "outputs": []
    },
    {
      "cell_type": "code",
      "source": [
        "# apply a FC layer and then a regression prediction on the\n",
        "# combined outputs\n",
        "z = Dense(2, activation=\"relu\")(combined)\n",
        "z1 = Dense(1, activation=\"linear\")(z)"
      ],
      "metadata": {
        "id": "0zAu5xK22_YG"
      },
      "execution_count": 6,
      "outputs": []
    },
    {
      "cell_type": "code",
      "source": [
        "# our model will accept the inputs of the two branches and\n",
        "# then output a single value\n",
        "model = Model(inputs=[inputA, inputB], outputs=z1)"
      ],
      "metadata": {
        "id": "r303KoYK3EZx"
      },
      "execution_count": 7,
      "outputs": []
    },
    {
      "cell_type": "code",
      "source": [
        "model.summary()"
      ],
      "metadata": {
        "colab": {
          "base_uri": "https://localhost:8080/"
        },
        "id": "5pipvMcp3Id_",
        "outputId": "c04cceac-dc8b-42cc-abce-a38b34df7cea"
      },
      "execution_count": 8,
      "outputs": [
        {
          "output_type": "stream",
          "name": "stdout",
          "text": [
            "Model: \"model\"\n",
            "__________________________________________________________________________________________________\n",
            " Layer (type)                   Output Shape         Param #     Connected to                     \n",
            "==================================================================================================\n",
            " input_2 (InputLayer)           [(None, 128)]        0           []                               \n",
            "                                                                                                  \n",
            " input_1 (InputLayer)           [(None, 32)]         0           []                               \n",
            "                                                                                                  \n",
            " dense_2 (Dense)                (None, 64)           8256        ['input_2[0][0]']                \n",
            "                                                                                                  \n",
            " dense (Dense)                  (None, 8)            264         ['input_1[0][0]']                \n",
            "                                                                                                  \n",
            " dense_3 (Dense)                (None, 32)           2080        ['dense_2[0][0]']                \n",
            "                                                                                                  \n",
            " dense_1 (Dense)                (None, 4)            36          ['dense[0][0]']                  \n",
            "                                                                                                  \n",
            " dense_4 (Dense)                (None, 4)            132         ['dense_3[0][0]']                \n",
            "                                                                                                  \n",
            " concatenate (Concatenate)      (None, 8)            0           ['dense_1[0][0]',                \n",
            "                                                                  'dense_4[0][0]']                \n",
            "                                                                                                  \n",
            " dense_5 (Dense)                (None, 2)            18          ['concatenate[0][0]']            \n",
            "                                                                                                  \n",
            " dense_6 (Dense)                (None, 1)            3           ['dense_5[0][0]']                \n",
            "                                                                                                  \n",
            "==================================================================================================\n",
            "Total params: 10,789\n",
            "Trainable params: 10,789\n",
            "Non-trainable params: 0\n",
            "__________________________________________________________________________________________________\n"
          ]
        }
      ]
    },
    {
      "cell_type": "code",
      "source": [
        "from keras.utils import plot_model\n",
        "plot_model(model)"
      ],
      "metadata": {
        "colab": {
          "base_uri": "https://localhost:8080/",
          "height": 661
        },
        "id": "pQ3f4Tsr3KQG",
        "outputId": "963da1c8-e1b5-409f-f476-15dfb7e9817a"
      },
      "execution_count": 9,
      "outputs": [
        {
          "output_type": "execute_result",
          "data": {
            "image/png": "[encoded data removed]",
            "text/plain": [
              "<IPython.core.display.Image object>"
            ]
          },
          "metadata": {},
          "execution_count": 9
        }
      ]
    }
  ]
}